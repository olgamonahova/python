{
 "cells": [
  {
   "cell_type": "markdown",
   "metadata": {},
   "source": [
    "# Домашняя работа №2"
   ]
  },
  {
   "cell_type": "code",
   "execution_count": 102,
   "metadata": {},
   "outputs": [],
   "source": [
    "import pandas as pd\n",
    "from scipy import stats\n",
    "import numpy as np\n",
    "\n",
    "import seaborn as sns\n",
    "from sklearn import datasets\n",
    "from matplotlib import pyplot as plt\n",
    "from statsmodels.distributions.empirical_distribution import ECDF"
   ]
  },
  {
   "cell_type": "markdown",
   "metadata": {},
   "source": [
    "## Генеральная совокупность и выборка"
   ]
  },
  {
   "cell_type": "markdown",
   "metadata": {},
   "source": [
    "- Чем отличается генеральная совокупность от выборки?"
   ]
  },
  {
   "cell_type": "code",
   "execution_count": null,
   "metadata": {},
   "outputs": [],
   "source": [
    "#your answer here\n",
    "\n",
    "Выборка - это часть генеральной совокупности"
   ]
  },
  {
   "cell_type": "markdown",
   "metadata": {},
   "source": [
    "- Если размер выборки больше 200, то такая выборка является репрезентативной?"
   ]
  },
  {
   "cell_type": "code",
   "execution_count": null,
   "metadata": {},
   "outputs": [],
   "source": [
    "#your answer here\n",
    "\n",
    "выборка считается репрезентативной, если у нее мат. ожидание и дисперсия совпадают с генеральной совокупностью,\n",
    "размер выборки больше 200 не гарантирует этого, но и не противоречит."
   ]
  },
  {
   "cell_type": "markdown",
   "metadata": {},
   "source": [
    "- Измерили длину волос футболистов сборной Франции на ЧМ-2018. Что могло являться генеральной совокупностью? Приведите 3 примера."
   ]
  },
  {
   "cell_type": "code",
   "execution_count": null,
   "metadata": {},
   "outputs": [],
   "source": [
    "#your answer here\n",
    "\n",
    "1. Длина волос футболистов сборной Франции на 5ти последних ЧМ по футболу.\n",
    "2. Длина волос всех футболистов Франции в 2018 г.\n",
    "3. Длина волос европейских команд на ЧМ по футболу в 2018 г."
   ]
  },
  {
   "cell_type": "markdown",
   "metadata": {},
   "source": [
    "- Пусть генеральная совокупность --- вес детей, родившихся в Волгограде за последние 10 лет. Предложите 2 стратегии, как сгенерировать выборку."
   ]
  },
  {
   "cell_type": "code",
   "execution_count": null,
   "metadata": {},
   "outputs": [],
   "source": [
    "#your answer here переписать\n",
    "\n",
    "1. взять по 50 детей, родившихся в каждом род.доме в каждом году\n",
    "2. взять по 100 детей за каждый год."
   ]
  },
  {
   "cell_type": "markdown",
   "metadata": {},
   "source": [
    "## Параметры центра и разброса"
   ]
  },
  {
   "cell_type": "markdown",
   "metadata": {},
   "source": [
    "- Постройте распределение, у которого отсутствует мода.\n"
   ]
  },
  {
   "cell_type": "code",
   "execution_count": 134,
   "metadata": {},
   "outputs": [
    {
     "data": {
      "text/plain": [
       "[<matplotlib.lines.Line2D at 0x1a1b6575f8>]"
      ]
     },
     "execution_count": 134,
     "metadata": {},
     "output_type": "execute_result"
    },
    {
     "data": {
      "image/png": "[encoded data removed]",
      "text/plain": [
       "<Figure size 432x288 with 1 Axes>"
      ]
     },
     "metadata": {},
     "output_type": "display_data"
    }
   ],
   "source": [
    "#равномерное распределение\n",
    "\n",
    "sample = [1,2,3,4,5,6]\n",
    "\n",
    "x = np.linspace(0,6, 6)\n",
    "pdf = stats.uniform.pdf(sample)\n",
    "\n",
    "plt.plot(x, pdf, label ='равномерное распределение')"
   ]
  },
  {
   "cell_type": "markdown",
   "metadata": {},
   "source": [
    "- Какая из статистик (медиана, матожидание) будет наиболее неустойчивой при выбросах? Проверить на выборке из Гамма-распределения. "
   ]
  },
  {
   "cell_type": "code",
   "execution_count": 31,
   "metadata": {},
   "outputs": [
    {
     "name": "stdout",
     "output_type": "stream",
     "text": [
      "3.6620250300109283 4.086785195070114\n",
      "3.6791941445309115 4.534019135510503\n"
     ]
    }
   ],
   "source": [
    "# матожидание наиболее неустойчивое\n",
    "\n",
    "gamma_rv = stats.gamma(3, 1)\n",
    "sample = gamma_rv.rvs(51)\n",
    "med = sorted(sample)[24]\n",
    "mean = sample.mean()\n",
    "\n",
    "#your code here\n",
    "overshoot = 25\n",
    "sample_with_overshoot = sample\n",
    "sample_with_overshoot[1]=overshoot\n",
    "new_med = sorted(sample_with_overshoot)[24]\n",
    "new_mean = sample_with_overshoot.mean()\n",
    "\n",
    "\n",
    "print(med, mean)\n",
    "print(new_med, new_mean)"
   ]
  },
  {
   "cell_type": "markdown",
   "metadata": {},
   "source": [
    "- Как изменится матожидание, если к выборке добавить константу $C$? Умножить на $C$. \n",
    "\n",
    "Проверите на выборке из распределения Пуассона"
   ]
  },
  {
   "cell_type": "code",
   "execution_count": 49,
   "metadata": {},
   "outputs": [
    {
     "name": "stdout",
     "output_type": "stream",
     "text": [
      "2.21 0.5 2.71 1.105\n"
     ]
    }
   ],
   "source": [
    "#мат. ожидание при добавлении константы С увеличивается на величину С, при умножении на С - увеличивается в C раз\n",
    "pois_rv = stats.poisson(2)\n",
    "sample = pois_rv.rvs(100)\n",
    "C = 0.5\n",
    "#your code here\n",
    "mean = sample.mean()\n",
    "\n",
    "sample_with_c = sample + C\n",
    "mean_with_c = sample_with_c.mean()\n",
    "\n",
    "sample_mult_c = sample*C\n",
    "mean_mult_c = sample_mult_c.mean()\n",
    "\n",
    "print(mean,C,mean_with_c,mean_mult_c)"
   ]
  },
  {
   "cell_type": "markdown",
   "metadata": {},
   "source": [
    "- Как изменится дисперсия при добавлении выбросов? Проверьте для распределения экспоненциального распределения"
   ]
  },
  {
   "cell_type": "code",
   "execution_count": 67,
   "metadata": {},
   "outputs": [
    {
     "name": "stdout",
     "output_type": "stream",
     "text": [
      "0.5731825294034303 2.621298963282443\n"
     ]
    }
   ],
   "source": [
    "#дисперсия увеличится\n",
    "\n",
    "exp_rv = stats.expon(4)\n",
    "sample = exp_rv.rvs(50)\n",
    "var = sample.var()\n",
    "\n",
    "#your code here\n",
    "overshoot = 15\n",
    "sample_with_overshoot = sample\n",
    "sample_with_overshoot[1] = overshoot\n",
    "new_var = sample_with_overshoot.var()\n",
    "\n",
    "print(var, new_var)"
   ]
  },
  {
   "cell_type": "markdown",
   "metadata": {},
   "source": [
    "- Что шире: интерквантильный размах ($X_{0.75} - X_{0.25}$) или $(\\bar{X}-s^2, \\bar{X}+s^2)$ для $\\mathcal{N}(a, \\sigma^2)$. Посчитайте и сравните эти интервалы для распредения $\\mathcal{N}(3,1)$"
   ]
  },
  {
   "cell_type": "code",
   "execution_count": 107,
   "metadata": {},
   "outputs": [
    {
     "name": "stdout",
     "output_type": "stream",
     "text": [
      "1.3489795003921632 1.9725531891732522\n"
     ]
    }
   ],
   "source": [
    "# интервал (X¯−s2,X¯+s2)(X¯−s2,X¯+s2)  шире IQR\n",
    "\n",
    "norm_rv = stats.norm(3,1)\n",
    "sample = norm_rv.rvs(1000)\n",
    "#your code here\n",
    "\n",
    "IQR = norm_rv.ppf(0.75)-norm_rv.ppf(0.25)\n",
    "interval = 2*sample.var()\n",
    "print(IQR, interval)"
   ]
  },
  {
   "cell_type": "markdown",
   "metadata": {},
   "source": [
    "## Основные статистики и ЦПТ"
   ]
  },
  {
   "cell_type": "markdown",
   "metadata": {},
   "source": [
    "- Что такое статистика? Посчитайте любую для бета-распределения (1,3)"
   ]
  },
  {
   "cell_type": "code",
   "execution_count": 106,
   "metadata": {},
   "outputs": [
    {
     "data": {
      "text/plain": [
       "0.25"
      ]
     },
     "execution_count": 106,
     "metadata": {},
     "output_type": "execute_result"
    }
   ],
   "source": [
    "beta_rv = stats.beta(1,3)\n",
    "\n",
    "#your code here\n",
    "beta_rv.mean()"
   ]
  },
  {
   "cell_type": "markdown",
   "metadata": {},
   "source": [
    "- Какие статистики являются оценками матожидания, медианы и дисперсии? Посчитайте их для гамма-распределения с параметрами (2, 2)"
   ]
  },
  {
   "cell_type": "code",
   "execution_count": 114,
   "metadata": {},
   "outputs": [
    {
     "name": "stdout",
     "output_type": "stream",
     "text": [
      "4.0 2.0 3.678346990016661\n"
     ]
    }
   ],
   "source": [
    "gamma_rv = stats.gamma(2,2)\n",
    "\n",
    "#your code here\n",
    "mean = gamma_rv.mean()\n",
    "var = gamma_rv.var()\n",
    "med = gamma_rv.median()\n",
    "\n",
    "print(mean, var, med)\n"
   ]
  },
  {
   "cell_type": "markdown",
   "metadata": {},
   "source": [
    "- Какое распределение имеет $\\bar{X}$ по ЦПТ? Если исходное распределение $\\mathcal{N}(5, 2)$. Сгенерировать выборки размером 50 из этого распределения и проверить. (построить распределение средних)"
   ]
  },
  {
   "cell_type": "code",
   "execution_count": 159,
   "metadata": {},
   "outputs": [
    {
     "data": {
      "text/plain": [
       "[<matplotlib.lines.Line2D at 0x1a1b4006d8>]"
      ]
     },
     "execution_count": 159,
     "metadata": {},
     "output_type": "execute_result"
    },
    {
     "data": {
      "image/png": "[encoded data removed]",
      "text/plain": [
       "<Figure size 432x288 with 1 Axes>"
      ]
     },
     "metadata": {},
     "output_type": "display_data"
    }
   ],
   "source": [
    "#your code here\n",
    "norm_rv = stats.norm(5,2)\n",
    "results = []\n",
    "\n",
    "\n",
    "for i in range(10000):\n",
    "    sample = norm_rv.rvs(50)\n",
    "    #your code here\n",
    "    \n",
    "    results.append(sample.mean())\n",
    "\n",
    "plt.hist(results, density=True)\n",
    "plt.ylabel('fraction of samples')\n",
    "plt.xlabel('$x$')  \n",
    "\n",
    "\n",
    "x = np.linspace(4,6,100)\n",
    "\n",
    "norm_arr = np.array(results)\n",
    "\n",
    "\n",
    "pdf = stats.norm(norm_arr.mean(), norm_arr.std()).pdf(x)\n",
    "\n",
    "plt.plot(x, pdf)\n",
    "\n",
    "#распределение нормальное"
   ]
  },
  {
   "cell_type": "markdown",
   "metadata": {},
   "source": [
    "- Сгенерируйте выборки так, чтобы ЦПТ не выполнялось (распределение средних не было похоже нормальное)"
   ]
  },
  {
   "cell_type": "code",
   "execution_count": 183,
   "metadata": {},
   "outputs": [
    {
     "data": {
      "text/plain": [
       "[<matplotlib.lines.Line2D at 0x1a1df77c18>]"
      ]
     },
     "execution_count": 183,
     "metadata": {},
     "output_type": "execute_result"
    },
    {
     "data": {
      "image/png": "[encoded data removed]",
      "text/plain": [
       "<Figure size 432x288 with 1 Axes>"
      ]
     },
     "metadata": {},
     "output_type": "display_data"
    }
   ],
   "source": [
    "# 1) добавлены искусственные выбросы 100 и -100\n",
    "\n",
    "norm_rv = stats.norm(5,2)\n",
    "results = []\n",
    "\n",
    "\n",
    "for i in range(300):\n",
    "    sample = norm_rv.rvs(100)\n",
    "    #добавим выбросы\n",
    "    sample[1]=100\n",
    "    sample[2]=-100\n",
    "    \n",
    "    results.append(sample.mean())\n",
    "\n",
    "plt.hist(results, density=True)\n",
    "plt.ylabel('fraction of samples')\n",
    "plt.xlabel('$x$')  \n",
    "\n",
    "\n",
    "x = np.linspace(4,6,100)\n",
    "\n",
    "norm_arr = np.array(results)\n",
    "\n",
    "\n",
    "pdf = stats.norm(norm_arr.mean(), norm_arr.std()).pdf(x)\n",
    "\n",
    "plt.plot(x, pdf)"
   ]
  },
  {
   "cell_type": "code",
   "execution_count": 109,
   "metadata": {},
   "outputs": [
    {
     "data": {
      "text/plain": [
       "[<matplotlib.lines.Line2D at 0x1a172bf7b8>]"
      ]
     },
     "execution_count": 109,
     "metadata": {},
     "output_type": "execute_result"
    },
    {
     "data": {
      "image/png": "[encoded data removed]",
      "text/plain": [
       "<Figure size 432x288 with 1 Axes>"
      ]
     },
     "metadata": {},
     "output_type": "display_data"
    }
   ],
   "source": [
    "# 2) уменьшено количество испытаний и выборка\n",
    "norm_rv = stats.norm(5,2)\n",
    "results = []\n",
    "\n",
    "\n",
    "for i in range(30):\n",
    "    sample = norm_rv.rvs(3)\n",
    "    results.append(sample.mean())\n",
    "\n",
    "plt.hist(results, density=True)\n",
    "plt.ylabel('fraction of samples')\n",
    "plt.xlabel('$x$')  \n",
    "\n",
    "\n",
    "x = np.linspace(4,6,100)\n",
    "\n",
    "norm_arr = np.array(results)\n",
    "\n",
    "\n",
    "pdf = stats.norm(norm_arr.mean(), norm_arr.std()).pdf(x)\n",
    "\n",
    "plt.plot(x, pdf)"
   ]
  },
  {
   "cell_type": "markdown",
   "metadata": {},
   "source": [
    "- Сделайте z-преобразование для данного распределения"
   ]
  },
  {
   "cell_type": "markdown",
   "metadata": {},
   "source": [
    "$$z = \\frac{X_i - \\bar{X}}{\\sigma}$$"
   ]
  },
  {
   "cell_type": "code",
   "execution_count": 111,
   "metadata": {},
   "outputs": [
    {
     "data": {
      "text/plain": [
       "[<matplotlib.lines.Line2D at 0x1a181102b0>]"
      ]
     },
     "execution_count": 111,
     "metadata": {},
     "output_type": "execute_result"
    },
    {
     "data": {
      "image/png": "[encoded data removed]",
      "text/plain": [
       "<Figure size 432x288 with 1 Axes>"
      ]
     },
     "metadata": {},
     "output_type": "display_data"
    }
   ],
   "source": [
    "# это можно назвать нормальным распределением? стало немного лучше визуально, но не идеально\n",
    "\n",
    "new_rv = (norm_arr - norm_arr.mean())/(norm_arr.var()**0.5)\n",
    "\n",
    "plt.hist(new_rv, density=True)\n",
    "plt.ylabel('fraction of samples')\n",
    "plt.xlabel('$x$')  \n",
    "\n",
    "\n",
    "x = np.linspace(-3,3,10000)\n",
    "\n",
    "new_pdf = stats.norm(new_rv.mean(), new_rv.std()).pdf(x)\n",
    "\n",
    "plt.plot(x, new_pdf)\n"
   ]
  },
  {
   "cell_type": "markdown",
   "metadata": {},
   "source": [
    "## Доверительные интервалы и гипотезы"
   ]
  },
  {
   "cell_type": "markdown",
   "metadata": {},
   "source": [
    "В данных задачах используйте встроенную функцию, позволяющую искать квантили случайной величины **your_rv**.ppf, а также https://gallery.shinyapps.io/dist_calc/ для визуальной картины"
   ]
  },
  {
   "cell_type": "markdown",
   "metadata": {},
   "source": [
    "- Постройте 90% доверительный интервал для среднего значения $\\mathcal{\\chi^2_{10}}$."
   ]
  },
  {
   "cell_type": "code",
   "execution_count": 115,
   "metadata": {},
   "outputs": [
    {
     "name": "stdout",
     "output_type": "stream",
     "text": [
      "Доверительный интервал 90%: < 16.0\n"
     ]
    },
    {
     "data": {
      "image/png": "[encoded data removed]",
      "text/plain": [
       "<Figure size 432x288 with 1 Axes>"
      ]
     },
     "metadata": {},
     "output_type": "display_data"
    }
   ],
   "source": [
    "chi2_rv = stats.chi2(df = 10)\n",
    "sample = chi2_rv.rvs(size = 1000)\n",
    "\n",
    "plt.hist(sample, density = True)\n",
    "\n",
    "#vals = chi2_rv.ppf([0.25, 0.5, 0.75])\n",
    "#print(vals)\n",
    "\n",
    "val = chi2_rv.ppf(0.9)\n",
    "\n",
    "print(f'Доверительный интервал 90%: < {val:.3}')"
   ]
  },
  {
   "cell_type": "markdown",
   "metadata": {},
   "source": [
    "- Постройте ДИ для распределения Стьюдента с df = 15 уровня доверия 90%  и 95%. Какой интервал шире?"
   ]
  },
  {
   "cell_type": "code",
   "execution_count": 118,
   "metadata": {},
   "outputs": [
    {
     "name": "stdout",
     "output_type": "stream",
     "text": [
      "Доверительный интервал 90%: 1.34\n",
      "Доверительный интервал 95%: 1.75\n"
     ]
    },
    {
     "data": {
      "image/png": "[encoded data removed]",
      "text/plain": [
       "<Figure size 864x432 with 1 Axes>"
      ]
     },
     "metadata": {},
     "output_type": "display_data"
    }
   ],
   "source": [
    "#шире ДИ 95%\n",
    "\n",
    "t_rv = stats.t(15)\n",
    "x = np.linspace(-4, 4, 100)\n",
    "\n",
    "plt.figure(figsize=(12,6))\n",
    "\n",
    "pdf = t_rv.pdf(x)\n",
    "plt.plot(x, pdf)\n",
    "\n",
    "print(f'Доверительный интервал 90%: {t_rv.ppf(0.90):.3}')\n",
    "print(f'Доверительный интервал 95%: {t_rv.ppf(0.95):.3}')\n"
   ]
  },
  {
   "cell_type": "markdown",
   "metadata": {},
   "source": [
    "- Сгенерируйте 2 выборки с одинаковыми параметрами, отличающиеся в 2 раза по размеру. Постройте 2 90% ДИ. Чем они отличаются? Распределение $\\mathcal{N}(0,2)$ "
   ]
  },
  {
   "cell_type": "code",
   "execution_count": 135,
   "metadata": {},
   "outputs": [
    {
     "name": "stdout",
     "output_type": "stream",
     "text": [
      "-0.19027564017294585 2.11064400907692\n",
      "-0.00817856530924315 2.0289578987224703\n"
     ]
    },
    {
     "data": {
      "text/plain": [
       "<matplotlib.legend.Legend at 0x1a192f8b00>"
      ]
     },
     "execution_count": 135,
     "metadata": {},
     "output_type": "execute_result"
    },
    {
     "data": {
      "image/png": "[encoded data removed]",
      "text/plain": [
       "<Figure size 432x288 with 1 Axes>"
      ]
     },
     "metadata": {},
     "output_type": "display_data"
    }
   ],
   "source": [
    "# ДИ выборки в 2 раза больше по размеру более приближен к нормальному распределению\n",
    "norm_rv = stats.norm(0, 2)\n",
    "#your code here\n",
    "\n",
    "sample1 = norm_rv.rvs(size = 500)\n",
    "sample2 = norm_rv.rvs(size = 1000)\n",
    "\n",
    "print(sample1.mean(), sample1.std())\n",
    "print(sample2.mean(), sample2.std())\n",
    "\n",
    "x = np.linspace(-5, 5, 1000)\n",
    "\n",
    "pdf_norm = norm_rv.pdf(x)\n",
    "plt.plot(x, pdf_norm)\n",
    "\n",
    "plt.hist(sample1, density = True,histtype='stepfilled', alpha = 0.5)\n",
    "plt.hist(sample2, density = True, histtype = 'stepfilled', alpha=0.5, color = 'r')\n",
    "\n",
    "plt.legend(['norm distribution','range','double range'])"
   ]
  },
  {
   "cell_type": "markdown",
   "metadata": {},
   "source": [
    "- Пусть $H_0: M=100$. Мы получили $p = 0,12$ и не смогли отклонить нулевую гипотезу. Однако позже выяснилось, что среднее в генеральной совокупности равняется 114. Ошибку какого рода мы допустили?"
   ]
  },
  {
   "cell_type": "code",
   "execution_count": null,
   "metadata": {},
   "outputs": [],
   "source": [
    "#your answer here\n",
    "\n",
    "Ошибка 2-го рода, ложноотрицательный результат. Должны были отвергнуть, но не сделали этого."
   ]
  },
  {
   "cell_type": "markdown",
   "metadata": {},
   "source": [
    "#### Какие рассуждения относительно p-value верные?\n",
    "\n",
    "- Елси p уровень значимости равен 0,003, то вероятность того, что верна нулевая гипотеза также равняется  0,003.\n",
    "- Если бы в исследовании мы получили $p=0,9$, это означало бы, что верна нулевая гипотеза.\n",
    "- Чем меньше p уровень значимости, тем сильнее получаемые различия.\n"
   ]
  },
  {
   "cell_type": "code",
   "execution_count": null,
   "metadata": {},
   "outputs": [],
   "source": [
    "#your answer here\n",
    "\n",
    "Чем меньше p уровень значимости, тем сильнее получаемые различия."
   ]
  },
  {
   "cell_type": "markdown",
   "metadata": {},
   "source": [
    "- Какое $p$-value будете использовать, если отклонять $H_0$ рисковано: $0.05$ или $0.01$? Является ли 99\\% доверительный интервал хорошей оценкой в общем случае?"
   ]
  },
  {
   "cell_type": "code",
   "execution_count": null,
   "metadata": {},
   "outputs": [],
   "source": [
    "#your answer here\n",
    "\n",
    "0.01 - т.к. это более широкий диапазон\n",
    "вообще, не очень хорошая оценка"
   ]
  },
  {
   "cell_type": "markdown",
   "metadata": {},
   "source": [
    "## Стьюдент и корреляция"
   ]
  },
  {
   "cell_type": "markdown",
   "metadata": {},
   "source": [
    "- Изобразите графики плотности распределения Стьюдента для нескольких значений df= (5,10, 20, 40) и $\\mathcal{N}(0,1)$. В чем отличия?"
   ]
  },
  {
   "cell_type": "code",
   "execution_count": 136,
   "metadata": {},
   "outputs": [
    {
     "data": {
      "text/plain": [
       "<matplotlib.legend.Legend at 0x1a194155c0>"
      ]
     },
     "execution_count": 136,
     "metadata": {},
     "output_type": "execute_result"
    },
    {
     "data": {
      "image/png": "[encoded data removed]",
      "text/plain": [
       "<Figure size 864x432 with 1 Axes>"
      ]
     },
     "metadata": {},
     "output_type": "display_data"
    }
   ],
   "source": [
    "# при df 40 практически совпадает с нормальным распределением, чем меньше df, тем больше разброс на концах\n",
    "\n",
    "\n",
    "x = np.linspace(-4, 4, 100)\n",
    "\n",
    "plt.figure(figsize=(12,6))\n",
    "\n",
    "t_rv1 = stats.t(5)\n",
    "pdf1 = t_rv1.pdf(x)\n",
    "plt.plot(x, pdf1)\n",
    "\n",
    "t_rv2 = stats.t(10)\n",
    "pdf2 = t_rv2.pdf(x)\n",
    "plt.plot(x, pdf2)\n",
    "\n",
    "t_rv3 = stats.t(20)\n",
    "pdf3 = t_rv3.pdf(x)\n",
    "plt.plot(x, pdf3)\n",
    "\n",
    "t_rv4 = stats.t(40)\n",
    "pdf4 = t_rv4.pdf(x)\n",
    "plt.plot(x, pdf4)\n",
    "\n",
    "norm_rv = stats.norm(0,1)\n",
    "pdf_norm = norm_rv.pdf(x)\n",
    "plt.plot(x, pdf_norm)\n",
    "\n",
    "plt.legend(['df 5',  'df 10', 'df 20', 'df 40', 'norm'])\n"
   ]
  },
  {
   "cell_type": "markdown",
   "metadata": {},
   "source": [
    "- Постройте две выборки, чтобы их корреляция была равна -1. Изобразите зависимость на графике."
   ]
  },
  {
   "cell_type": "code",
   "execution_count": 137,
   "metadata": {},
   "outputs": [
    {
     "data": {
      "text/plain": [
       "<seaborn.axisgrid.PairGrid at 0x1a171b6780>"
      ]
     },
     "execution_count": 137,
     "metadata": {},
     "output_type": "execute_result"
    },
    {
     "data": {
      "image/png": "[encoded data removed]",
      "text/plain": [
       "<Figure size 360x360 with 6 Axes>"
      ]
     },
     "metadata": {},
     "output_type": "display_data"
    }
   ],
   "source": [
    "#your code here\n",
    "\n",
    "sample1 = np.arange(1,11)\n",
    "\n",
    "sample2 = -sample1*2\n",
    "\n",
    "\n",
    "df1 = pd.DataFrame(sample1)\n",
    "df2 = pd.DataFrame(sample2)\n",
    "\n",
    "\n",
    "df_total = pd.merge(df1, df2, on=df1.index, how='outer')\n",
    "\n",
    "df_total\n",
    "\n",
    "corr = df_total.corr()\n",
    "\n",
    "sns.pairplot(df_total, vars=['0_x', '0_y'],\n",
    "                 kind='scatter')  \n",
    "\n",
    "#sns.heatmap(corr, annot=True,\n",
    "#            xticklabels=corr.columns.values,\n",
    "#            yticklabels=corr.columns.values)\n"
   ]
  },
  {
   "cell_type": "markdown",
   "metadata": {},
   "source": [
    "- Постройте две выборки, чтобы их корреляция была равна 0. Изобразите зависимость на графике."
   ]
  },
  {
   "cell_type": "code",
   "execution_count": 140,
   "metadata": {},
   "outputs": [
    {
     "data": {
      "text/html": [
       "<div>\n",
       "<style scoped>\n",
       "    .dataframe tbody tr th:only-of-type {\n",
       "        vertical-align: middle;\n",
       "    }\n",
       "\n",
       "    .dataframe tbody tr th {\n",
       "        vertical-align: top;\n",
       "    }\n",
       "\n",
       "    .dataframe thead th {\n",
       "        text-align: right;\n",
       "    }\n",
       "</style>\n",
       "<table border=\"1\" class=\"dataframe\">\n",
       "  <thead>\n",
       "    <tr style=\"text-align: right;\">\n",
       "      <th></th>\n",
       "      <th>key_0</th>\n",
       "      <th>0_x</th>\n",
       "      <th>0_y</th>\n",
       "    </tr>\n",
       "  </thead>\n",
       "  <tbody>\n",
       "    <tr>\n",
       "      <th>key_0</th>\n",
       "      <td>1.0</td>\n",
       "      <td>0.0</td>\n",
       "      <td>1.0</td>\n",
       "    </tr>\n",
       "    <tr>\n",
       "      <th>0_x</th>\n",
       "      <td>0.0</td>\n",
       "      <td>1.0</td>\n",
       "      <td>0.0</td>\n",
       "    </tr>\n",
       "    <tr>\n",
       "      <th>0_y</th>\n",
       "      <td>1.0</td>\n",
       "      <td>0.0</td>\n",
       "      <td>1.0</td>\n",
       "    </tr>\n",
       "  </tbody>\n",
       "</table>\n",
       "</div>"
      ],
      "text/plain": [
       "       key_0  0_x  0_y\n",
       "key_0    1.0  0.0  1.0\n",
       "0_x      0.0  1.0  0.0\n",
       "0_y      1.0  0.0  1.0"
      ]
     },
     "execution_count": 140,
     "metadata": {},
     "output_type": "execute_result"
    }
   ],
   "source": [
    "#методом подбора получилась нулевая корреляция :) \n",
    "\n",
    "sample1 = [1,2,3,4,5,6,5,4,3,2,1]\n",
    "sample2 = [1,2,3,4,5,6,7,8,9,10,11]\n",
    "\n",
    "\n",
    "df1 = pd.DataFrame(sample1)\n",
    "df2 = pd.DataFrame(sample2)\n",
    "\n",
    "\n",
    "df_total = pd.merge(df1, df2, on=df1.index, how='outer')\n",
    "\n",
    "df_total\n",
    "\n",
    "corr = df_total.corr()\n",
    "\n",
    "corr\n",
    "#sns.pairplot(df_total, vars=['0_x', '0_y'],\n",
    "#                 kind='scatter')  \n"
   ]
  },
  {
   "cell_type": "markdown",
   "metadata": {},
   "source": [
    "- Сгенерируйте 2 выборки из $\\mathcal{N}(4,2)$, посчитайте их общий ранг и сумму рангов в каждой выборке."
   ]
  },
  {
   "cell_type": "code",
   "execution_count": 158,
   "metadata": {},
   "outputs": [
    {
     "name": "stdout",
     "output_type": "stream",
     "text": [
      "4843.0\n"
     ]
    }
   ],
   "source": [
    "# страшно большое значение U, но решение вроде корректное\n",
    "\n",
    "norm_rv = stats.norm(4,2)\n",
    "sample_1 = norm_rv.rvs(100)\n",
    "sample_2 = norm_rv.rvs(100)\n",
    "sample = np.concatenate((sample_1, sample_2))\n",
    "\n",
    "#присваиваем ранги значениям\n",
    "data = list(enumerate(sorted(sample)))\n",
    "\n",
    "sum1=sum2=0\n",
    "\n",
    "for elem in data:\n",
    "    if elem[1] in sample_1:\n",
    "        sum1 += elem[0]\n",
    "    if elem[1] in sample_2:\n",
    "        sum2 +=elem[0]\n",
    "\n",
    "if sum1 > sum2:\n",
    "    u = len(sample_1)*len(sample_2)+(len(sample_1)*(len(sample_1)+1))/2 - sum1\n",
    "else:\n",
    "    u = len(sample_1)*len(sample_2)+(len(sample_2)*(len(sample_2)+1))/2 - sum2\n",
    "\n",
    "print(u)"
   ]
  },
  {
   "cell_type": "markdown",
   "metadata": {},
   "source": [
    "Критерий Манна-Уитни\n",
    "Пусть $n_1, n_2$ -- размер 1-й и второй выборок соответственно. $N = n_1 + n_2$\n",
    "\n",
    "объединим обе выборки и произведем ранжирование\n",
    "посчитаем сумму рангов для каждой выборки\n",
    "$T_x \\text{наибольшая из них, соответствующая выборке } n_x$\n",
    "$$U = n_1 \\cdot n_2 + \\frac{n_x(n_x + 1)}{2} - T_x$$\n",
    "Рассматриваем $U$ как p-value"
   ]
  }
 ],
 "metadata": {
  "kernelspec": {
   "display_name": "Python 3",
   "language": "python",
   "name": "python3"
  },
  "language_info": {
   "codemirror_mode": {
    "name": "ipython",
    "version": 3
   },
   "file_extension": ".py",
   "mimetype": "text/x-python",
   "name": "python",
   "nbconvert_exporter": "python",
   "pygments_lexer": "ipython3",
   "version": "3.6.5"
  }
 },
 "nbformat": 4,
 "nbformat_minor": 2
}
