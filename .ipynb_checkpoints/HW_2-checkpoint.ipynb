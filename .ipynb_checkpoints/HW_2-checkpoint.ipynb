{
 "cells": [
  {
   "cell_type": "code",
   "execution_count": 41,
   "metadata": {},
   "outputs": [
    {
     "name": "stderr",
     "output_type": "stream",
     "text": [
      "/Users/olgamonahova/anaconda3/lib/python3.6/site-packages/sklearn/cross_validation.py:41: DeprecationWarning: This module was deprecated in version 0.18 in favor of the model_selection module into which all the refactored classes and functions are moved. Also note that the interface of the new CV iterators are different from that of this module. This module will be removed in 0.20.\n",
      "  \"This module will be removed in 0.20.\", DeprecationWarning)\n"
     ]
    }
   ],
   "source": [
    "import pandas as pd\n",
    "import numpy as np\n",
    "import matplotlib.pyplot as plt\n",
    "%matplotlib inline\n",
    "\n",
    "from sklearn.model_selection import train_test_split\n",
    "from sklearn.cross_validation import train_test_split"
   ]
  },
  {
   "cell_type": "code",
   "execution_count": 3,
   "metadata": {},
   "outputs": [],
   "source": [
    "import seaborn as sns"
   ]
  },
  {
   "cell_type": "markdown",
   "metadata": {},
   "source": [
    "## Kobe Bryant  shot selection"
   ]
  },
  {
   "cell_type": "markdown",
   "metadata": {},
   "source": [
    "Cсылка на соревнование: https://www.kaggle.com/c/kobe-bryant-shot-selection"
   ]
  },
  {
   "cell_type": "markdown",
   "metadata": {},
   "source": [
    "Goal: Fun and education"
   ]
  },
  {
   "cell_type": "markdown",
   "metadata": {},
   "source": [
    "Using 20 years of data on Kobe's swishes and misses, can you predict which shots will find the bottom of the net? This competition is well suited for practicing classification basics, feature engineering, and time series analysis. Practice got Kobe an eight-figure contract and 5 championship rings. What will it get you?"
   ]
  },
  {
   "cell_type": "markdown",
   "metadata": {},
   "source": [
    "This data contains the location and circumstances of every field goal attempted by Kobe Bryant took during his 20-year career. Your task is to predict whether the basket went in (shot_made_flag).\n",
    "\n",
    "We have removed 5000 of the shot_made_flags (represented as missing values in the csv file). These are the test set shots for which you must submit a prediction. You are provided a sample submission file with the correct shot_ids needed for a valid prediction."
   ]
  },
  {
   "cell_type": "code",
   "execution_count": 8,
   "metadata": {},
   "outputs": [],
   "source": [
    "raw_data = pd.read_csv('data/Kobe.csv')"
   ]
  },
  {
   "cell_type": "code",
   "execution_count": 9,
   "metadata": {},
   "outputs": [
    {
     "data": {
      "text/html": [
       "<div>\n",
       "<style scoped>\n",
       "    .dataframe tbody tr th:only-of-type {\n",
       "        vertical-align: middle;\n",
       "    }\n",
       "\n",
       "    .dataframe tbody tr th {\n",
       "        vertical-align: top;\n",
       "    }\n",
       "\n",
       "    .dataframe thead th {\n",
       "        text-align: right;\n",
       "    }\n",
       "</style>\n",
       "<table border=\"1\" class=\"dataframe\">\n",
       "  <thead>\n",
       "    <tr style=\"text-align: right;\">\n",
       "      <th></th>\n",
       "      <th>action_type</th>\n",
       "      <th>combined_shot_type</th>\n",
       "      <th>game_event_id</th>\n",
       "      <th>game_id</th>\n",
       "      <th>lat</th>\n",
       "      <th>loc_x</th>\n",
       "      <th>loc_y</th>\n",
       "      <th>lon</th>\n",
       "      <th>minutes_remaining</th>\n",
       "      <th>period</th>\n",
       "      <th>...</th>\n",
       "      <th>shot_type</th>\n",
       "      <th>shot_zone_area</th>\n",
       "      <th>shot_zone_basic</th>\n",
       "      <th>shot_zone_range</th>\n",
       "      <th>team_id</th>\n",
       "      <th>team_name</th>\n",
       "      <th>game_date</th>\n",
       "      <th>matchup</th>\n",
       "      <th>opponent</th>\n",
       "      <th>shot_id</th>\n",
       "    </tr>\n",
       "  </thead>\n",
       "  <tbody>\n",
       "    <tr>\n",
       "      <th>0</th>\n",
       "      <td>Jump Shot</td>\n",
       "      <td>Jump Shot</td>\n",
       "      <td>10</td>\n",
       "      <td>20000012</td>\n",
       "      <td>33.9723</td>\n",
       "      <td>167</td>\n",
       "      <td>72</td>\n",
       "      <td>-118.1028</td>\n",
       "      <td>10</td>\n",
       "      <td>1</td>\n",
       "      <td>...</td>\n",
       "      <td>2PT Field Goal</td>\n",
       "      <td>Right Side(R)</td>\n",
       "      <td>Mid-Range</td>\n",
       "      <td>16-24 ft.</td>\n",
       "      <td>1610612747</td>\n",
       "      <td>Los Angeles Lakers</td>\n",
       "      <td>2000-10-31</td>\n",
       "      <td>LAL @ POR</td>\n",
       "      <td>POR</td>\n",
       "      <td>1</td>\n",
       "    </tr>\n",
       "    <tr>\n",
       "      <th>1</th>\n",
       "      <td>Jump Shot</td>\n",
       "      <td>Jump Shot</td>\n",
       "      <td>12</td>\n",
       "      <td>20000012</td>\n",
       "      <td>34.0443</td>\n",
       "      <td>-157</td>\n",
       "      <td>0</td>\n",
       "      <td>-118.4268</td>\n",
       "      <td>10</td>\n",
       "      <td>1</td>\n",
       "      <td>...</td>\n",
       "      <td>2PT Field Goal</td>\n",
       "      <td>Left Side(L)</td>\n",
       "      <td>Mid-Range</td>\n",
       "      <td>8-16 ft.</td>\n",
       "      <td>1610612747</td>\n",
       "      <td>Los Angeles Lakers</td>\n",
       "      <td>2000-10-31</td>\n",
       "      <td>LAL @ POR</td>\n",
       "      <td>POR</td>\n",
       "      <td>2</td>\n",
       "    </tr>\n",
       "    <tr>\n",
       "      <th>2</th>\n",
       "      <td>Jump Shot</td>\n",
       "      <td>Jump Shot</td>\n",
       "      <td>35</td>\n",
       "      <td>20000012</td>\n",
       "      <td>33.9093</td>\n",
       "      <td>-101</td>\n",
       "      <td>135</td>\n",
       "      <td>-118.3708</td>\n",
       "      <td>7</td>\n",
       "      <td>1</td>\n",
       "      <td>...</td>\n",
       "      <td>2PT Field Goal</td>\n",
       "      <td>Left Side Center(LC)</td>\n",
       "      <td>Mid-Range</td>\n",
       "      <td>16-24 ft.</td>\n",
       "      <td>1610612747</td>\n",
       "      <td>Los Angeles Lakers</td>\n",
       "      <td>2000-10-31</td>\n",
       "      <td>LAL @ POR</td>\n",
       "      <td>POR</td>\n",
       "      <td>3</td>\n",
       "    </tr>\n",
       "    <tr>\n",
       "      <th>3</th>\n",
       "      <td>Jump Shot</td>\n",
       "      <td>Jump Shot</td>\n",
       "      <td>43</td>\n",
       "      <td>20000012</td>\n",
       "      <td>33.8693</td>\n",
       "      <td>138</td>\n",
       "      <td>175</td>\n",
       "      <td>-118.1318</td>\n",
       "      <td>6</td>\n",
       "      <td>1</td>\n",
       "      <td>...</td>\n",
       "      <td>2PT Field Goal</td>\n",
       "      <td>Right Side Center(RC)</td>\n",
       "      <td>Mid-Range</td>\n",
       "      <td>16-24 ft.</td>\n",
       "      <td>1610612747</td>\n",
       "      <td>Los Angeles Lakers</td>\n",
       "      <td>2000-10-31</td>\n",
       "      <td>LAL @ POR</td>\n",
       "      <td>POR</td>\n",
       "      <td>4</td>\n",
       "    </tr>\n",
       "    <tr>\n",
       "      <th>4</th>\n",
       "      <td>Driving Dunk Shot</td>\n",
       "      <td>Dunk</td>\n",
       "      <td>155</td>\n",
       "      <td>20000012</td>\n",
       "      <td>34.0443</td>\n",
       "      <td>0</td>\n",
       "      <td>0</td>\n",
       "      <td>-118.2698</td>\n",
       "      <td>6</td>\n",
       "      <td>2</td>\n",
       "      <td>...</td>\n",
       "      <td>2PT Field Goal</td>\n",
       "      <td>Center(C)</td>\n",
       "      <td>Restricted Area</td>\n",
       "      <td>Less Than 8 ft.</td>\n",
       "      <td>1610612747</td>\n",
       "      <td>Los Angeles Lakers</td>\n",
       "      <td>2000-10-31</td>\n",
       "      <td>LAL @ POR</td>\n",
       "      <td>POR</td>\n",
       "      <td>5</td>\n",
       "    </tr>\n",
       "  </tbody>\n",
       "</table>\n",
       "<p>5 rows × 25 columns</p>\n",
       "</div>"
      ],
      "text/plain": [
       "         action_type combined_shot_type  game_event_id   game_id      lat  \\\n",
       "0          Jump Shot          Jump Shot             10  20000012  33.9723   \n",
       "1          Jump Shot          Jump Shot             12  20000012  34.0443   \n",
       "2          Jump Shot          Jump Shot             35  20000012  33.9093   \n",
       "3          Jump Shot          Jump Shot             43  20000012  33.8693   \n",
       "4  Driving Dunk Shot               Dunk            155  20000012  34.0443   \n",
       "\n",
       "   loc_x  loc_y       lon  minutes_remaining  period   ...          shot_type  \\\n",
       "0    167     72 -118.1028                 10       1   ...     2PT Field Goal   \n",
       "1   -157      0 -118.4268                 10       1   ...     2PT Field Goal   \n",
       "2   -101    135 -118.3708                  7       1   ...     2PT Field Goal   \n",
       "3    138    175 -118.1318                  6       1   ...     2PT Field Goal   \n",
       "4      0      0 -118.2698                  6       2   ...     2PT Field Goal   \n",
       "\n",
       "          shot_zone_area  shot_zone_basic  shot_zone_range     team_id  \\\n",
       "0          Right Side(R)        Mid-Range        16-24 ft.  1610612747   \n",
       "1           Left Side(L)        Mid-Range         8-16 ft.  1610612747   \n",
       "2   Left Side Center(LC)        Mid-Range        16-24 ft.  1610612747   \n",
       "3  Right Side Center(RC)        Mid-Range        16-24 ft.  1610612747   \n",
       "4              Center(C)  Restricted Area  Less Than 8 ft.  1610612747   \n",
       "\n",
       "            team_name   game_date    matchup opponent  shot_id  \n",
       "0  Los Angeles Lakers  2000-10-31  LAL @ POR      POR        1  \n",
       "1  Los Angeles Lakers  2000-10-31  LAL @ POR      POR        2  \n",
       "2  Los Angeles Lakers  2000-10-31  LAL @ POR      POR        3  \n",
       "3  Los Angeles Lakers  2000-10-31  LAL @ POR      POR        4  \n",
       "4  Los Angeles Lakers  2000-10-31  LAL @ POR      POR        5  \n",
       "\n",
       "[5 rows x 25 columns]"
      ]
     },
     "execution_count": 9,
     "metadata": {},
     "output_type": "execute_result"
    }
   ],
   "source": [
    "raw_data.head()"
   ]
  },
  {
   "cell_type": "code",
   "execution_count": 10,
   "metadata": {},
   "outputs": [],
   "source": [
    "target = 'shot_made_flag'"
   ]
  },
  {
   "cell_type": "markdown",
   "metadata": {},
   "source": [
    "**Задания:**\n",
    "\n",
    "1. Провести анализ данных. Много хороших примеров анализа можно посмотреть здесь https://www.kaggle.com/c/kobe-bryant-shot-selection/kernels\n",
    "2. Подготовить фичи для обучения модели - нагенерить признаков, обработать пропущенные значения, проверить на возможные выбросы, обработать категориальные признаки и др.\n",
    "3. Обучить линейную модель, Lasso, Ridge на тех же признаках - построить сравнительную таблицу коэффициентов, сделать заключения о том, как меняется величина коэффициентов, какие зануляются. Посчитать RSS\n",
    "\n",
    "**Дополнительно**\n",
    "4. Сравнить результаты на тестовом наборе данных - сделать train_test_split в самом начале, подготовить переменные, сравнить результаты работы классификаторов (те же 3), метрика ROC AUC"
   ]
  },
  {
   "cell_type": "code",
   "execution_count": 11,
   "metadata": {},
   "outputs": [
    {
     "name": "stdout",
     "output_type": "stream",
     "text": [
      "<class 'pandas.core.frame.DataFrame'>\n",
      "RangeIndex: 30697 entries, 0 to 30696\n",
      "Data columns (total 25 columns):\n",
      "action_type           30697 non-null object\n",
      "combined_shot_type    30697 non-null object\n",
      "game_event_id         30697 non-null int64\n",
      "game_id               30697 non-null int64\n",
      "lat                   30697 non-null float64\n",
      "loc_x                 30697 non-null int64\n",
      "loc_y                 30697 non-null int64\n",
      "lon                   30697 non-null float64\n",
      "minutes_remaining     30697 non-null int64\n",
      "period                30697 non-null int64\n",
      "playoffs              30697 non-null int64\n",
      "season                30697 non-null object\n",
      "seconds_remaining     30697 non-null int64\n",
      "shot_distance         30697 non-null int64\n",
      "shot_made_flag        25697 non-null float64\n",
      "shot_type             30697 non-null object\n",
      "shot_zone_area        30697 non-null object\n",
      "shot_zone_basic       30697 non-null object\n",
      "shot_zone_range       30697 non-null object\n",
      "team_id               30697 non-null int64\n",
      "team_name             30697 non-null object\n",
      "game_date             30697 non-null object\n",
      "matchup               30697 non-null object\n",
      "opponent              30697 non-null object\n",
      "shot_id               30697 non-null int64\n",
      "dtypes: float64(3), int64(11), object(11)\n",
      "memory usage: 5.9+ MB\n"
     ]
    }
   ],
   "source": [
    "raw_data.info()"
   ]
  },
  {
   "cell_type": "code",
   "execution_count": 12,
   "metadata": {},
   "outputs": [],
   "source": [
    "# пропущены только значения в целевой переменной shot_made_flag, исключим их\n",
    "raw_data = raw_data.dropna()"
   ]
  },
  {
   "cell_type": "code",
   "execution_count": 13,
   "metadata": {},
   "outputs": [
    {
     "data": {
      "image/png": "[encoded data removed]",
      "text/plain": [
       "<Figure size 1080x1800 with 8 Axes>"
      ]
     },
     "metadata": {},
     "output_type": "display_data"
    }
   ],
   "source": [
    "# первоисчтоник - https://www.kaggle.com/khozzy/kobe-shots-show-me-your-best-model\n",
    "\n",
    "f, axarr = plt.subplots(8, figsize=(15, 25))\n",
    "\n",
    "sns.countplot(x=\"combined_shot_type\", hue=\"shot_made_flag\", data=raw_data, ax=axarr[0])\n",
    "sns.countplot(x=\"season\", hue=\"shot_made_flag\", data=raw_data, ax=axarr[1])\n",
    "sns.countplot(x=\"period\", hue=\"shot_made_flag\", data=raw_data, ax=axarr[2])\n",
    "sns.countplot(x=\"playoffs\", hue=\"shot_made_flag\", data=raw_data, ax=axarr[3])\n",
    "sns.countplot(x=\"shot_type\", hue=\"shot_made_flag\", data=raw_data, ax=axarr[4])\n",
    "sns.countplot(x=\"shot_zone_area\", hue=\"shot_made_flag\", data=raw_data, ax=axarr[5])\n",
    "sns.countplot(x=\"shot_zone_basic\", hue=\"shot_made_flag\", data=raw_data, ax=axarr[6])\n",
    "sns.countplot(x=\"shot_zone_range\", hue=\"shot_made_flag\", data=raw_data, ax=axarr[7])\n",
    "\n",
    "axarr[0].set_title('Combined shot type')\n",
    "axarr[1].set_title('Season')\n",
    "axarr[2].set_title('Period')\n",
    "axarr[3].set_title('Playoffs')\n",
    "axarr[4].set_title('Shot Type')\n",
    "axarr[5].set_title('Shot Zone Area')\n",
    "axarr[6].set_title('Shot Zone Basic')\n",
    "axarr[7].set_title('Shot Zone Range')\n",
    "\n",
    "#axarr[7].set_title(szr_dict)\n",
    "\n",
    "plt.tight_layout()\n",
    "plt.show()"
   ]
  },
  {
   "cell_type": "code",
   "execution_count": 14,
   "metadata": {},
   "outputs": [
    {
     "data": {
      "image/png": "[encoded data removed]",
      "text/plain": [
       "<Figure size 1440x1440 with 2 Axes>"
      ]
     },
     "metadata": {},
     "output_type": "display_data"
    }
   ],
   "source": [
    "# Stolen with pride у коллег во время лабы :)\n",
    "\n",
    "corr = raw_data.corr()\n",
    "\n",
    "plt.figure(figsize=(20,20))\n",
    "# Create a mask to hide the upper triangle of the correlation matrix (which is symmetric)\n",
    "mask = np.zeros_like(corr, dtype=np.bool)\n",
    "mask[np.triu_indices_from(mask)] = True\n",
    "\n",
    "sns.heatmap(corr, mask=mask, vmax=1, center=0, annot=True, fmt='.1f',\n",
    "            square=True, linewidths=.5, cbar_kws={\"shrink\": .5});"
   ]
  },
  {
   "cell_type": "code",
   "execution_count": 15,
   "metadata": {},
   "outputs": [],
   "source": [
    "from sklearn.preprocessing import StandardScaler\n",
    "\n",
    "scaler = StandardScaler()"
   ]
  },
  {
   "cell_type": "code",
   "execution_count": 16,
   "metadata": {},
   "outputs": [],
   "source": [
    "df_train = raw_data.copy()"
   ]
  },
  {
   "cell_type": "code",
   "execution_count": 17,
   "metadata": {},
   "outputs": [
    {
     "data": {
      "text/html": [
       "<div>\n",
       "<style scoped>\n",
       "    .dataframe tbody tr th:only-of-type {\n",
       "        vertical-align: middle;\n",
       "    }\n",
       "\n",
       "    .dataframe tbody tr th {\n",
       "        vertical-align: top;\n",
       "    }\n",
       "\n",
       "    .dataframe thead th {\n",
       "        text-align: right;\n",
       "    }\n",
       "</style>\n",
       "<table border=\"1\" class=\"dataframe\">\n",
       "  <thead>\n",
       "    <tr style=\"text-align: right;\">\n",
       "      <th></th>\n",
       "      <th>action_type</th>\n",
       "      <th>combined_shot_type</th>\n",
       "      <th>game_event_id</th>\n",
       "      <th>game_id</th>\n",
       "      <th>lat</th>\n",
       "      <th>loc_x</th>\n",
       "      <th>loc_y</th>\n",
       "      <th>lon</th>\n",
       "      <th>minutes_remaining</th>\n",
       "      <th>period</th>\n",
       "      <th>...</th>\n",
       "      <th>shot_type</th>\n",
       "      <th>shot_zone_area</th>\n",
       "      <th>shot_zone_basic</th>\n",
       "      <th>shot_zone_range</th>\n",
       "      <th>team_id</th>\n",
       "      <th>team_name</th>\n",
       "      <th>game_date</th>\n",
       "      <th>matchup</th>\n",
       "      <th>opponent</th>\n",
       "      <th>shot_id</th>\n",
       "    </tr>\n",
       "  </thead>\n",
       "  <tbody>\n",
       "    <tr>\n",
       "      <th>1</th>\n",
       "      <td>Jump Shot</td>\n",
       "      <td>Jump Shot</td>\n",
       "      <td>12</td>\n",
       "      <td>20000012</td>\n",
       "      <td>34.0443</td>\n",
       "      <td>-157</td>\n",
       "      <td>0</td>\n",
       "      <td>-118.4268</td>\n",
       "      <td>10</td>\n",
       "      <td>1</td>\n",
       "      <td>...</td>\n",
       "      <td>2PT Field Goal</td>\n",
       "      <td>Left Side(L)</td>\n",
       "      <td>Mid-Range</td>\n",
       "      <td>8-16 ft.</td>\n",
       "      <td>1610612747</td>\n",
       "      <td>Los Angeles Lakers</td>\n",
       "      <td>2000-10-31</td>\n",
       "      <td>LAL @ POR</td>\n",
       "      <td>POR</td>\n",
       "      <td>2</td>\n",
       "    </tr>\n",
       "    <tr>\n",
       "      <th>2</th>\n",
       "      <td>Jump Shot</td>\n",
       "      <td>Jump Shot</td>\n",
       "      <td>35</td>\n",
       "      <td>20000012</td>\n",
       "      <td>33.9093</td>\n",
       "      <td>-101</td>\n",
       "      <td>135</td>\n",
       "      <td>-118.3708</td>\n",
       "      <td>7</td>\n",
       "      <td>1</td>\n",
       "      <td>...</td>\n",
       "      <td>2PT Field Goal</td>\n",
       "      <td>Left Side Center(LC)</td>\n",
       "      <td>Mid-Range</td>\n",
       "      <td>16-24 ft.</td>\n",
       "      <td>1610612747</td>\n",
       "      <td>Los Angeles Lakers</td>\n",
       "      <td>2000-10-31</td>\n",
       "      <td>LAL @ POR</td>\n",
       "      <td>POR</td>\n",
       "      <td>3</td>\n",
       "    </tr>\n",
       "    <tr>\n",
       "      <th>3</th>\n",
       "      <td>Jump Shot</td>\n",
       "      <td>Jump Shot</td>\n",
       "      <td>43</td>\n",
       "      <td>20000012</td>\n",
       "      <td>33.8693</td>\n",
       "      <td>138</td>\n",
       "      <td>175</td>\n",
       "      <td>-118.1318</td>\n",
       "      <td>6</td>\n",
       "      <td>1</td>\n",
       "      <td>...</td>\n",
       "      <td>2PT Field Goal</td>\n",
       "      <td>Right Side Center(RC)</td>\n",
       "      <td>Mid-Range</td>\n",
       "      <td>16-24 ft.</td>\n",
       "      <td>1610612747</td>\n",
       "      <td>Los Angeles Lakers</td>\n",
       "      <td>2000-10-31</td>\n",
       "      <td>LAL @ POR</td>\n",
       "      <td>POR</td>\n",
       "      <td>4</td>\n",
       "    </tr>\n",
       "    <tr>\n",
       "      <th>4</th>\n",
       "      <td>Driving Dunk Shot</td>\n",
       "      <td>Dunk</td>\n",
       "      <td>155</td>\n",
       "      <td>20000012</td>\n",
       "      <td>34.0443</td>\n",
       "      <td>0</td>\n",
       "      <td>0</td>\n",
       "      <td>-118.2698</td>\n",
       "      <td>6</td>\n",
       "      <td>2</td>\n",
       "      <td>...</td>\n",
       "      <td>2PT Field Goal</td>\n",
       "      <td>Center(C)</td>\n",
       "      <td>Restricted Area</td>\n",
       "      <td>Less Than 8 ft.</td>\n",
       "      <td>1610612747</td>\n",
       "      <td>Los Angeles Lakers</td>\n",
       "      <td>2000-10-31</td>\n",
       "      <td>LAL @ POR</td>\n",
       "      <td>POR</td>\n",
       "      <td>5</td>\n",
       "    </tr>\n",
       "    <tr>\n",
       "      <th>5</th>\n",
       "      <td>Jump Shot</td>\n",
       "      <td>Jump Shot</td>\n",
       "      <td>244</td>\n",
       "      <td>20000012</td>\n",
       "      <td>34.0553</td>\n",
       "      <td>-145</td>\n",
       "      <td>-11</td>\n",
       "      <td>-118.4148</td>\n",
       "      <td>9</td>\n",
       "      <td>3</td>\n",
       "      <td>...</td>\n",
       "      <td>2PT Field Goal</td>\n",
       "      <td>Left Side(L)</td>\n",
       "      <td>Mid-Range</td>\n",
       "      <td>8-16 ft.</td>\n",
       "      <td>1610612747</td>\n",
       "      <td>Los Angeles Lakers</td>\n",
       "      <td>2000-10-31</td>\n",
       "      <td>LAL @ POR</td>\n",
       "      <td>POR</td>\n",
       "      <td>6</td>\n",
       "    </tr>\n",
       "  </tbody>\n",
       "</table>\n",
       "<p>5 rows × 25 columns</p>\n",
       "</div>"
      ],
      "text/plain": [
       "         action_type combined_shot_type  game_event_id   game_id      lat  \\\n",
       "1          Jump Shot          Jump Shot             12  20000012  34.0443   \n",
       "2          Jump Shot          Jump Shot             35  20000012  33.9093   \n",
       "3          Jump Shot          Jump Shot             43  20000012  33.8693   \n",
       "4  Driving Dunk Shot               Dunk            155  20000012  34.0443   \n",
       "5          Jump Shot          Jump Shot            244  20000012  34.0553   \n",
       "\n",
       "   loc_x  loc_y       lon  minutes_remaining  period   ...          shot_type  \\\n",
       "1   -157      0 -118.4268                 10       1   ...     2PT Field Goal   \n",
       "2   -101    135 -118.3708                  7       1   ...     2PT Field Goal   \n",
       "3    138    175 -118.1318                  6       1   ...     2PT Field Goal   \n",
       "4      0      0 -118.2698                  6       2   ...     2PT Field Goal   \n",
       "5   -145    -11 -118.4148                  9       3   ...     2PT Field Goal   \n",
       "\n",
       "          shot_zone_area  shot_zone_basic  shot_zone_range     team_id  \\\n",
       "1           Left Side(L)        Mid-Range         8-16 ft.  1610612747   \n",
       "2   Left Side Center(LC)        Mid-Range        16-24 ft.  1610612747   \n",
       "3  Right Side Center(RC)        Mid-Range        16-24 ft.  1610612747   \n",
       "4              Center(C)  Restricted Area  Less Than 8 ft.  1610612747   \n",
       "5           Left Side(L)        Mid-Range         8-16 ft.  1610612747   \n",
       "\n",
       "            team_name   game_date    matchup opponent  shot_id  \n",
       "1  Los Angeles Lakers  2000-10-31  LAL @ POR      POR        2  \n",
       "2  Los Angeles Lakers  2000-10-31  LAL @ POR      POR        3  \n",
       "3  Los Angeles Lakers  2000-10-31  LAL @ POR      POR        4  \n",
       "4  Los Angeles Lakers  2000-10-31  LAL @ POR      POR        5  \n",
       "5  Los Angeles Lakers  2000-10-31  LAL @ POR      POR        6  \n",
       "\n",
       "[5 rows x 25 columns]"
      ]
     },
     "execution_count": 17,
     "metadata": {},
     "output_type": "execute_result"
    }
   ],
   "source": [
    "df_train.head()"
   ]
  },
  {
   "cell_type": "code",
   "execution_count": 18,
   "metadata": {},
   "outputs": [],
   "source": [
    "df_train = raw_data.copy()\n",
    "\n",
    "cols_to_drop = ['game_event_id', 'game_id', 'team_id', 'game_date', 'shot_id']\n",
    "\n",
    "df_train = df_train.drop(labels = cols_to_drop, axis = 1)"
   ]
  },
  {
   "cell_type": "code",
   "execution_count": 19,
   "metadata": {},
   "outputs": [
    {
     "name": "stdout",
     "output_type": "stream",
     "text": [
      "<class 'pandas.core.frame.DataFrame'>\n",
      "Int64Index: 25697 entries, 1 to 30696\n",
      "Data columns (total 20 columns):\n",
      "action_type           25697 non-null object\n",
      "combined_shot_type    25697 non-null object\n",
      "lat                   25697 non-null float64\n",
      "loc_x                 25697 non-null int64\n",
      "loc_y                 25697 non-null int64\n",
      "lon                   25697 non-null float64\n",
      "minutes_remaining     25697 non-null int64\n",
      "period                25697 non-null int64\n",
      "playoffs              25697 non-null int64\n",
      "season                25697 non-null object\n",
      "seconds_remaining     25697 non-null int64\n",
      "shot_distance         25697 non-null int64\n",
      "shot_made_flag        25697 non-null float64\n",
      "shot_type             25697 non-null object\n",
      "shot_zone_area        25697 non-null object\n",
      "shot_zone_basic       25697 non-null object\n",
      "shot_zone_range       25697 non-null object\n",
      "team_name             25697 non-null object\n",
      "matchup               25697 non-null object\n",
      "opponent              25697 non-null object\n",
      "dtypes: float64(3), int64(7), object(10)\n",
      "memory usage: 4.1+ MB\n"
     ]
    }
   ],
   "source": [
    "df_train.info()"
   ]
  },
  {
   "cell_type": "code",
   "execution_count": 20,
   "metadata": {},
   "outputs": [],
   "source": [
    "df_train_y = df_train.shot_made_flag\n",
    "df_train = df_train.drop(['shot_made_flag'], axis=1)\n",
    "df_train = pd.get_dummies(df_train)"
   ]
  },
  {
   "cell_type": "code",
   "execution_count": 21,
   "metadata": {},
   "outputs": [
    {
     "data": {
      "text/plain": [
       "(25697, 218)"
      ]
     },
     "execution_count": 21,
     "metadata": {},
     "output_type": "execute_result"
    }
   ],
   "source": [
    "df_train.shape"
   ]
  },
  {
   "cell_type": "code",
   "execution_count": 22,
   "metadata": {},
   "outputs": [
    {
     "data": {
      "text/plain": [
       "Text(0,0.5,'explained_variance_ratio_')"
      ]
     },
     "execution_count": 22,
     "metadata": {},
     "output_type": "execute_result"
    },
    {
     "data": {
      "image/png": "[encoded data removed]",
      "text/plain": [
       "<Figure size 432x288 with 1 Axes>"
      ]
     },
     "metadata": {},
     "output_type": "display_data"
    }
   ],
   "source": [
    "from sklearn.decomposition import PCA\n",
    "pca = PCA().fit(scaler.fit_transform(df_train))\n",
    "\n",
    "cum_evr = np.cumsum(pca.explained_variance_ratio_)\n",
    "xs = np.arange(cum_evr.size) + 1\n",
    "plt.plot(xs, cum_evr, linewidth=2)\n",
    "plt.grid()\n",
    "plt.xlabel('n_components')\n",
    "plt.ylabel('explained_variance_ratio_')"
   ]
  },
  {
   "cell_type": "code",
   "execution_count": 23,
   "metadata": {},
   "outputs": [
    {
     "name": "stdout",
     "output_type": "stream",
     "text": [
      "n-components=1, explained variance 0.041\n",
      "n-components=2, explained variance 0.063\n",
      "n-components=3, explained variance 0.078\n",
      "n-components=4, explained variance 0.092\n",
      "n-components=5, explained variance 0.104\n",
      "n-components=6, explained variance 0.114\n",
      "n-components=7, explained variance 0.125\n",
      "n-components=8, explained variance 0.135\n",
      "n-components=9, explained variance 0.145\n",
      "n-components=10, explained variance 0.155\n",
      "n-components=11, explained variance 0.165\n",
      "n-components=12, explained variance 0.175\n",
      "n-components=13, explained variance 0.184\n",
      "n-components=14, explained variance 0.194\n",
      "n-components=15, explained variance 0.204\n",
      "n-components=16, explained variance 0.214\n",
      "n-components=17, explained variance 0.223\n",
      "n-components=18, explained variance 0.233\n",
      "n-components=19, explained variance 0.243\n",
      "n-components=20, explained variance 0.252\n",
      "n-components=21, explained variance 0.262\n",
      "n-components=22, explained variance 0.271\n",
      "n-components=23, explained variance 0.281\n",
      "n-components=24, explained variance 0.290\n",
      "n-components=25, explained variance 0.300\n",
      "n-components=26, explained variance 0.309\n",
      "n-components=27, explained variance 0.319\n",
      "n-components=28, explained variance 0.328\n",
      "n-components=29, explained variance 0.338\n",
      "n-components=30, explained variance 0.347\n",
      "n-components=31, explained variance 0.356\n",
      "n-components=32, explained variance 0.366\n",
      "n-components=33, explained variance 0.375\n",
      "n-components=34, explained variance 0.385\n",
      "n-components=35, explained variance 0.394\n",
      "n-components=36, explained variance 0.403\n",
      "n-components=37, explained variance 0.413\n",
      "n-components=38, explained variance 0.422\n",
      "n-components=39, explained variance 0.431\n",
      "n-components=40, explained variance 0.440\n",
      "n-components=41, explained variance 0.449\n",
      "n-components=42, explained variance 0.457\n",
      "n-components=43, explained variance 0.463\n",
      "n-components=44, explained variance 0.469\n",
      "n-components=45, explained variance 0.475\n",
      "n-components=46, explained variance 0.481\n",
      "n-components=47, explained variance 0.487\n",
      "n-components=48, explained variance 0.492\n",
      "n-components=49, explained variance 0.498\n",
      "n-components=50, explained variance 0.503\n",
      "n-components=51, explained variance 0.508\n",
      "n-components=52, explained variance 0.514\n",
      "n-components=53, explained variance 0.519\n",
      "n-components=54, explained variance 0.524\n",
      "n-components=55, explained variance 0.529\n",
      "n-components=56, explained variance 0.535\n",
      "n-components=57, explained variance 0.540\n",
      "n-components=58, explained variance 0.545\n",
      "n-components=59, explained variance 0.550\n",
      "n-components=60, explained variance 0.555\n",
      "n-components=61, explained variance 0.560\n",
      "n-components=62, explained variance 0.565\n",
      "n-components=63, explained variance 0.570\n",
      "n-components=64, explained variance 0.575\n",
      "n-components=65, explained variance 0.580\n",
      "n-components=66, explained variance 0.585\n",
      "n-components=67, explained variance 0.590\n",
      "n-components=68, explained variance 0.595\n",
      "n-components=69, explained variance 0.600\n",
      "n-components=70, explained variance 0.605\n",
      "n-components=71, explained variance 0.609\n",
      "n-components=72, explained variance 0.614\n",
      "n-components=73, explained variance 0.619\n",
      "n-components=74, explained variance 0.624\n",
      "n-components=75, explained variance 0.629\n",
      "n-components=76, explained variance 0.634\n",
      "n-components=77, explained variance 0.638\n",
      "n-components=78, explained variance 0.643\n",
      "n-components=79, explained variance 0.648\n",
      "n-components=80, explained variance 0.653\n",
      "n-components=81, explained variance 0.658\n",
      "n-components=82, explained variance 0.662\n",
      "n-components=83, explained variance 0.667\n",
      "n-components=84, explained variance 0.672\n",
      "n-components=85, explained variance 0.677\n",
      "n-components=86, explained variance 0.681\n",
      "n-components=87, explained variance 0.686\n",
      "n-components=88, explained variance 0.691\n",
      "n-components=89, explained variance 0.695\n",
      "n-components=90, explained variance 0.700\n",
      "n-components=91, explained variance 0.705\n",
      "n-components=92, explained variance 0.710\n",
      "n-components=93, explained variance 0.714\n",
      "n-components=94, explained variance 0.719\n",
      "n-components=95, explained variance 0.723\n",
      "n-components=96, explained variance 0.728\n",
      "n-components=97, explained variance 0.733\n",
      "n-components=98, explained variance 0.737\n",
      "n-components=99, explained variance 0.742\n",
      "n-components=100, explained variance 0.747\n",
      "n-components=101, explained variance 0.751\n",
      "n-components=102, explained variance 0.756\n",
      "n-components=103, explained variance 0.760\n",
      "n-components=104, explained variance 0.765\n",
      "n-components=105, explained variance 0.770\n",
      "n-components=106, explained variance 0.774\n",
      "n-components=107, explained variance 0.779\n",
      "n-components=108, explained variance 0.783\n",
      "n-components=109, explained variance 0.788\n",
      "n-components=110, explained variance 0.792\n",
      "n-components=111, explained variance 0.797\n",
      "n-components=112, explained variance 0.802\n",
      "n-components=113, explained variance 0.806\n",
      "n-components=114, explained variance 0.811\n",
      "n-components=115, explained variance 0.815\n",
      "n-components=116, explained variance 0.820\n",
      "n-components=117, explained variance 0.824\n",
      "n-components=118, explained variance 0.829\n",
      "n-components=119, explained variance 0.833\n",
      "n-components=120, explained variance 0.838\n",
      "n-components=121, explained variance 0.842\n",
      "n-components=122, explained variance 0.847\n",
      "n-components=123, explained variance 0.851\n",
      "n-components=124, explained variance 0.855\n",
      "n-components=125, explained variance 0.860\n",
      "n-components=126, explained variance 0.864\n",
      "n-components=127, explained variance 0.869\n",
      "n-components=128, explained variance 0.873\n",
      "n-components=129, explained variance 0.877\n",
      "n-components=130, explained variance 0.882\n",
      "n-components=131, explained variance 0.886\n",
      "n-components=132, explained variance 0.891\n",
      "n-components=133, explained variance 0.895\n",
      "n-components=134, explained variance 0.899\n",
      "n-components=135, explained variance 0.904\n",
      "n-components=136, explained variance 0.908\n",
      "n-components=137, explained variance 0.912\n",
      "n-components=138, explained variance 0.916\n",
      "n-components=139, explained variance 0.921\n",
      "n-components=140, explained variance 0.925\n",
      "n-components=141, explained variance 0.929\n",
      "n-components=142, explained variance 0.933\n",
      "n-components=143, explained variance 0.937\n",
      "n-components=144, explained variance 0.942\n",
      "n-components=145, explained variance 0.946\n",
      "n-components=146, explained variance 0.950\n",
      "n-components=147, explained variance 0.954\n",
      "n-components=148, explained variance 0.958\n",
      "n-components=149, explained variance 0.962\n",
      "n-components=150, explained variance 0.966\n",
      "n-components=151, explained variance 0.970\n",
      "n-components=152, explained variance 0.973\n",
      "n-components=153, explained variance 0.977\n",
      "n-components=154, explained variance 0.981\n",
      "n-components=155, explained variance 0.984\n",
      "n-components=156, explained variance 0.987\n",
      "n-components=157, explained variance 0.990\n",
      "n-components=158, explained variance 0.993\n",
      "n-components=159, explained variance 0.995\n",
      "n-components=160, explained variance 0.997\n"
     ]
    }
   ],
   "source": [
    "scaler = StandardScaler()\n",
    "x_scaled = scaler.fit(df_train)\n",
    "x_train_scaled=  x_scaled.transform(df_train)\n",
    "\n",
    "pca = PCA(n_components=160)\n",
    "pca.fit(x_train_scaled)\n",
    "X_pca = pca.transform(x_train_scaled)\n",
    "\n",
    "for i in range(1, X_pca.shape[1] + 1):\n",
    "    print(\"n-components=%s, explained variance %.3f\" % (i, sum(pca.explained_variance_ratio_[:i])))"
   ]
  },
  {
   "cell_type": "markdown",
   "metadata": {},
   "source": [
    " около 160 переменных объясняют 99,7% дисперсии. Как отобрать именно эти 160 переменных?"
   ]
  },
  {
   "cell_type": "code",
   "execution_count": 24,
   "metadata": {},
   "outputs": [],
   "source": [
    "from sklearn.linear_model import LinearRegression, Ridge, Lasso\n",
    "from sklearn.metrics import r2_score"
   ]
  },
  {
   "cell_type": "code",
   "execution_count": 25,
   "metadata": {},
   "outputs": [],
   "source": [
    "X = df_train\n",
    "y = df_train_y"
   ]
  },
  {
   "cell_type": "code",
   "execution_count": 26,
   "metadata": {},
   "outputs": [
    {
     "name": "stdout",
     "output_type": "stream",
     "text": [
      "1647920845867.3213\n",
      "[ 1.72115683e+05 -1.39413871e+07  1.72115559e+02  1.39413871e+10\n",
      "  3.16324993e-03 -1.20367036e-02 -7.41080959e-03  7.25259208e-04\n",
      "  1.90627015e-03 -4.65617650e+07 -3.71134354e+06 -3.71134344e+06\n",
      " -2.02114785e+08 -4.65617650e+07 -3.71134336e+06 -3.71134339e+06\n",
      " -2.23782400e+07 -2.23782407e+07 -2.28279151e+08 -2.23782407e+07\n",
      " -3.71134350e+06 -3.71134347e+06 -4.65617650e+07 -4.65617652e+07\n",
      " -2.23782402e+07 -2.23782406e+07 -3.71134342e+06 -3.71134379e+06\n",
      " -2.23782404e+07 -4.65617650e+07 -2.02114785e+08 -2.28279151e+08\n",
      " -2.23782403e+07 -2.23782404e+07 -2.23782408e+07 -3.71134387e+06\n",
      " -2.02114785e+08 -2.23782404e+07 -4.65617653e+07 -3.71134357e+06\n",
      " -4.65617655e+07 -4.65617651e+07 -3.71134361e+06 -4.65617650e+07\n",
      " -2.02114785e+08 -4.65617651e+07 -3.71134363e+06 -3.71134399e+06\n",
      " -2.28279150e+08 -2.23782404e+07 -3.71134354e+06 -2.23782404e+07\n",
      " -3.71134367e+06 -4.65617649e+07 -3.35172300e+08 -4.65617650e+07\n",
      " -2.23782405e+07 -3.71134365e+06 -3.35172300e+08 -2.02114785e+08\n",
      " -2.23782405e+07 -3.71134328e+06 -2.28279151e+08 -2.23782405e+07\n",
      " -3.08577475e+08 -4.64130495e+08 -2.82413110e+08 -4.88314020e+08\n",
      " -5.06980917e+08 -1.75519961e+08 -1.18041203e+08 -1.18041203e+08\n",
      " -1.18041203e+08 -1.18041203e+08 -1.18041203e+08 -1.18041203e+08\n",
      " -1.18041203e+08 -1.18041203e+08 -1.18041203e+08 -1.18041203e+08\n",
      " -1.18041203e+08 -1.18041203e+08 -1.18041203e+08 -1.18041203e+08\n",
      " -1.18041203e+08 -1.18041203e+08 -1.18041203e+08 -1.18041203e+08\n",
      " -1.18041203e+08 -1.18041203e+08  5.25245335e+08  5.25245335e+08\n",
      "  3.98866262e+08  3.85410507e+08  3.85410507e+08  3.85410507e+08\n",
      "  3.85410507e+08  3.85410507e+08 -7.82449862e+07 -7.82449862e+07\n",
      "  6.41745031e+08 -7.82449861e+07  6.41745031e+08  6.41745031e+08\n",
      " -7.82449862e+07 -4.23219205e+07  6.77668097e+08 -4.23219205e+07\n",
      "  6.64212341e+08 -4.23219206e+07  2.79024847e+07  1.17041764e+08\n",
      "  3.31762697e+07 -2.98538430e+07  5.47576646e+07  5.47576645e+07\n",
      "  2.86752608e+07  1.18259693e+08 -1.45885574e+08  8.72128578e+07\n",
      " -4.39882888e+07 -1.19718010e+08  1.44098483e+08  9.12285962e+07\n",
      "  1.02701749e+08 -1.26769157e+08 -2.97535498e+07 -1.54694104e+08\n",
      "  2.59347137e+08 -7.34305216e+07  8.98466490e+07 -1.46309765e+07\n",
      " -1.46309764e+07  6.46147701e+07 -3.79722234e+07  3.98736528e+07\n",
      "  8.55880231e+07  3.24613425e+06  3.24613438e+06  3.94065047e+07\n",
      "  1.02892322e+08  8.32067793e+07 -1.71459373e+08 -1.09654790e+08\n",
      "  1.69362196e+07  1.69362197e+07 -4.20742249e+06  8.64736327e+07\n",
      "  1.17041764e+08  3.31762698e+07 -2.98538430e+07  5.47576645e+07\n",
      "  5.47576645e+07  2.86752608e+07  1.18259693e+08 -1.45885574e+08\n",
      "  8.72128578e+07 -4.39882888e+07 -1.19718010e+08  1.44098483e+08\n",
      "  9.12285961e+07  1.02701749e+08 -1.26769157e+08 -2.97535497e+07\n",
      " -1.54694104e+08  2.59347137e+08 -7.34305216e+07  8.98466490e+07\n",
      " -1.46309765e+07 -1.46309766e+07  6.46147701e+07 -3.79722234e+07\n",
      "  3.98736529e+07  8.55880231e+07  3.24613429e+06  3.24613436e+06\n",
      "  3.94065047e+07  1.02892322e+08  8.32067793e+07  8.32067793e+07\n",
      " -1.71459373e+08 -1.09654790e+08  1.69362197e+07 -4.20742258e+06\n",
      "  8.64736327e+07 -1.07929493e+08 -2.40639984e+07  3.89661145e+07\n",
      " -4.56453930e+07 -1.95629893e+07 -1.09147422e+08  1.54997845e+08\n",
      " -7.81005863e+07  5.31005602e+07  1.28830281e+08 -1.34986212e+08\n",
      " -8.21163247e+07 -9.35894772e+07  1.35881429e+08  3.88658212e+07\n",
      "  1.63806376e+08 -2.50234865e+08  8.25427930e+07 -8.07343775e+07\n",
      "  2.37432479e+07 -5.55024986e+07  4.70844948e+07 -3.07613814e+07\n",
      " -7.64757517e+07  5.86613712e+06 -3.02942332e+07 -9.37800506e+07\n",
      " -7.40945079e+07  1.80571645e+08  1.18767062e+08 -7.82394819e+06\n",
      "  1.33196940e+07 -7.73613612e+07]\n",
      "RSS: 5364.911286234856\n",
      "R^2: 0.15510065140467666\n"
     ]
    }
   ],
   "source": [
    "# у линейной регрессии огромные коэффициенты и точка пересечения с осью\n",
    "\n",
    "lm = LinearRegression().fit(X, y)\n",
    "print(lm.intercept_)\n",
    "print(lm.coef_)\n",
    "\n",
    "y_pred = lm.predict(X)\n",
    "rss = sum((y_pred-y) ** 2)\n",
    "R2 = r2_score(y, y_pred)\n",
    "\n",
    "print(\"RSS:\", rss)\n",
    "print(\"R^2:\", R2)"
   ]
  },
  {
   "cell_type": "markdown",
   "metadata": {},
   "source": [
    "у линейной регрессии очень низкий R2"
   ]
  },
  {
   "cell_type": "code",
   "execution_count": 27,
   "metadata": {},
   "outputs": [
    {
     "name": "stdout",
     "output_type": "stream",
     "text": [
      "0.6762394374092644\n",
      "[ 1.12273062e-07 -5.07601021e-05 -1.12273059e-04 -5.07600965e-08\n",
      "  3.11841293e-03 -1.16606409e-02 -5.79281960e-03  7.33795145e-04\n",
      " -3.77624144e-04  3.21179317e-02  1.59943818e-02  6.56886828e-03\n",
      " -2.20585310e-03  7.29909971e-02  8.01708369e-02  7.64616742e-02\n",
      "  4.85433912e-03 -5.17231959e-03  4.34527859e-03 -3.14612539e-02\n",
      "  6.97556758e-02  4.56328896e-02  3.39686467e-02 -6.64778619e-02\n",
      "  5.84028900e-02 -5.39512787e-02  3.37183534e-02 -4.26507787e-02\n",
      "  4.96503409e-02  4.47559325e-03  1.30191286e-02 -1.07085251e-01\n",
      "  1.13550160e-01  2.03583296e-02 -3.27184164e-01 -2.74481324e-01\n",
      " -1.49540868e-02  8.41581448e-02 -6.17726183e-03  9.81425125e-04\n",
      " -8.69501403e-03  1.25125954e-02 -2.65929340e-02  1.75985941e-02\n",
      "  3.42095203e-02  4.78882808e-03 -2.48861892e-03 -1.59030703e-02\n",
      "  6.53973831e-02  9.89352139e-02  1.49189460e-02  2.67430199e-03\n",
      " -5.87927170e-03  2.20135885e-03 -6.03554671e-03  8.31446323e-02\n",
      "  3.00315434e-03 -1.39437791e-03 -1.24595793e-01  2.68398028e-02\n",
      " -2.29187542e-02  5.95808824e-03 -7.29427040e-03 -3.97592200e-02\n",
      "  5.69085118e-02  1.82449040e-01 -4.46368598e-02 -4.48601156e-02\n",
      " -1.92292361e-02 -1.30631340e-01  1.46181152e-03 -2.52973367e-02\n",
      "  2.56016848e-02  2.20229350e-02  2.64416150e-02  1.18280271e-02\n",
      "  5.46285823e-03 -1.02714323e-02  1.27982630e-03  3.42839315e-02\n",
      "  2.60241186e-02  2.16115058e-02  2.30056583e-02  4.46639180e-03\n",
      " -2.05733886e-04 -8.88297027e-03 -5.00708182e-03 -1.32485520e-02\n",
      " -4.71064380e-02 -9.34708189e-02 -9.50597860e-03  9.50597860e-03\n",
      " -5.30304513e-02  3.82137843e-02  1.56827664e-02 -3.98105194e-02\n",
      "  4.99389502e-02 -1.09945302e-02 -3.41676190e-02 -3.69961655e-02\n",
      "  1.79498527e-03  3.98172652e-02 -1.18415001e-02  2.95165940e-02\n",
      "  1.18764401e-02  5.51118672e-02  3.35603721e-02  2.63719224e-02\n",
      " -5.30304513e-02 -6.20137104e-02  0.00000000e+00 -9.56854416e-03\n",
      " -2.74262776e-02 -1.74044151e-03  3.60687024e-02 -7.70274292e-03\n",
      "  1.84138193e-02 -6.58389854e-03 -8.16194920e-03 -2.36504445e-03\n",
      " -3.23058284e-04 -3.62819535e-02 -4.38199658e-02  3.56158793e-03\n",
      "  2.72903255e-03 -1.40164308e-02 -1.67859693e-02  2.81387614e-02\n",
      " -1.09662105e-02 -3.98904239e-02  3.52971986e-03 -5.12739467e-04\n",
      "  1.18083341e-02  1.57872475e-02 -1.29109971e-02 -1.43185634e-02\n",
      " -1.02413394e-02 -2.15287602e-02  3.07823827e-02 -6.59538028e-03\n",
      "  1.76018823e-02  1.04981324e-02  3.41506550e-02 -1.01116354e-02\n",
      " -1.59916952e-02  1.22478408e-02  2.69566369e-02 -1.02629542e-02\n",
      "  6.49504002e-03  2.82857160e-03 -8.28477002e-03 -4.04365928e-03\n",
      " -2.17218684e-02 -1.61191291e-02  6.49631078e-03  1.36507949e-02\n",
      "  9.36345874e-03  5.83367120e-03  2.82757657e-02  2.91861602e-02\n",
      " -1.18616438e-02 -8.16185968e-04  9.25143881e-03  1.08059496e-02\n",
      " -2.46865644e-02  1.44436793e-02  1.78948073e-02  7.11185378e-03\n",
      "  9.07740282e-03 -2.00825889e-02  1.39113663e-02 -8.59556772e-03\n",
      "  5.75483641e-03  1.37599381e-02 -1.40707728e-02  1.25457673e-02\n",
      "  1.23645938e-02 -1.37116667e-03 -1.36649952e-03 -7.76861163e-03\n",
      " -2.20034977e-02 -4.49026089e-03  1.42614160e-02 -1.52979650e-02\n",
      "  1.51001690e-02 -3.07350414e-03 -2.45977060e-02 -1.00252115e-02\n",
      "  2.60043177e-03  2.29469021e-03 -8.75877566e-05  5.48884568e-03\n",
      "  6.99841429e-03  5.51061292e-03 -8.00618787e-03 -1.46338056e-02\n",
      " -8.30005585e-03  1.91284658e-03 -4.76499203e-03 -5.98001964e-03\n",
      "  3.45219706e-03  3.47746888e-03 -2.19956166e-02  1.06415736e-02\n",
      "  2.90408552e-04  2.96986138e-02 -2.15065648e-02 -8.56372702e-03\n",
      "  3.51859875e-03  7.72861703e-03  5.76921356e-03  1.62307157e-02\n",
      "  1.36302120e-03  1.21471573e-02 -1.46018963e-02  1.05175616e-02\n",
      "  1.16586719e-02  4.83721475e-03]\n",
      "RSS: 5383.77765669166\n",
      "R^2: 0.15212945891726148\n"
     ]
    }
   ],
   "source": [
    "# у Ридж коэффициенты стали очень маленькими\n",
    "\n",
    "rg = Ridge(alpha=100).fit(X, y)\n",
    "print(rg.intercept_)\n",
    "print(rg.coef_)\n",
    "y_pred = rg.predict(X)\n",
    "rss = sum((y_pred-y) ** 2)\n",
    "R2 = r2_score(y, y_pred)\n",
    "\n",
    "print(\"RSS:\", rss)\n",
    "print(\"R^2:\", R2)"
   ]
  },
  {
   "cell_type": "markdown",
   "metadata": {},
   "source": [
    "у Ридж также все плохо как у линейной регрессии"
   ]
  },
  {
   "cell_type": "code",
   "execution_count": 28,
   "metadata": {},
   "outputs": [
    {
     "name": "stdout",
     "output_type": "stream",
     "text": [
      "0.5106159407784516\n",
      "[ 0.        -0.        -0.0007063 -0.         0.        -0.\n",
      " -0.         0.        -0.         0.         0.         0.\n",
      "  0.         0.         0.         0.         0.        -0.\n",
      "  0.        -0.         0.         0.         0.         0.\n",
      "  0.         0.         0.        -0.         0.         0.\n",
      "  0.        -0.         0.         0.        -0.        -0.\n",
      "  0.         0.         0.         0.        -0.         0.\n",
      "  0.         0.         0.         0.         0.        -0.\n",
      "  0.         0.         0.         0.         0.         0.\n",
      " -0.         0.         0.        -0.        -0.         0.\n",
      "  0.         0.         0.         0.         0.         0.\n",
      "  0.        -0.         0.        -0.        -0.        -0.\n",
      "  0.         0.         0.         0.        -0.        -0.\n",
      " -0.         0.         0.         0.         0.         0.\n",
      "  0.        -0.         0.        -0.        -0.        -0.\n",
      "  0.        -0.        -0.         0.        -0.        -0.\n",
      " -0.        -0.        -0.        -0.        -0.        -0.\n",
      " -0.         0.        -0.        -0.        -0.        -0.\n",
      " -0.         0.         0.        -0.        -0.        -0.\n",
      "  0.        -0.        -0.        -0.        -0.         0.\n",
      " -0.        -0.        -0.        -0.         0.        -0.\n",
      " -0.        -0.        -0.        -0.        -0.        -0.\n",
      " -0.         0.        -0.        -0.        -0.        -0.\n",
      "  0.         0.         0.        -0.         0.         0.\n",
      " -0.         0.         0.        -0.         0.         0.\n",
      " -0.        -0.        -0.        -0.         0.         0.\n",
      "  0.         0.         0.         0.        -0.         0.\n",
      "  0.        -0.        -0.         0.         0.         0.\n",
      "  0.        -0.         0.        -0.        -0.         0.\n",
      " -0.         0.         0.         0.        -0.        -0.\n",
      " -0.        -0.         0.        -0.         0.         0.\n",
      " -0.        -0.        -0.        -0.        -0.         0.\n",
      "  0.        -0.         0.        -0.        -0.         0.\n",
      "  0.        -0.        -0.        -0.        -0.         0.\n",
      " -0.         0.        -0.        -0.         0.         0.\n",
      "  0.         0.        -0.         0.         0.         0.\n",
      "  0.        -0.       ]\n",
      "RSS: 6213.8532967247365\n",
      "R^2: 0.0214040228138489\n"
     ]
    }
   ],
   "source": [
    "# у Лассо все коэффициенты кроме одного занулились\n",
    "\n",
    "ls = Lasso().fit(X, y)\n",
    "print(ls.intercept_)\n",
    "print(ls.coef_)\n",
    "\n",
    "y_pred = ls.predict(X)\n",
    "rss = sum((y_pred-y) ** 2)\n",
    "R2 = r2_score(y, y_pred)\n",
    "\n",
    "print(\"RSS:\", rss)\n",
    "print(\"R^2:\", R2)"
   ]
  },
  {
   "cell_type": "markdown",
   "metadata": {},
   "source": [
    "что-то пошло не так 0_о"
   ]
  },
  {
   "cell_type": "code",
   "execution_count": 29,
   "metadata": {},
   "outputs": [],
   "source": [
    "from sklearn.ensemble import RandomForestClassifier\n",
    "from sklearn.model_selection import cross_validate\n",
    "from sklearn.linear_model import LogisticRegression\n",
    "\n",
    "X = df_train\n",
    "y = df_train_y\n",
    "clf = RandomForestClassifier(n_estimators=100, max_depth=3) # use any model\n",
    "\n",
    "scores = cross_validate(\n",
    "    clf, X, y, cv=3, scoring=('roc_auc', 'accuracy', 'f1', 'precision'), return_train_score=True\n",
    ")"
   ]
  },
  {
   "cell_type": "code",
   "execution_count": 30,
   "metadata": {},
   "outputs": [
    {
     "data": {
      "text/plain": [
       "{'fit_time': array([1.10504413, 0.76536894, 0.77259898]),\n",
       " 'score_time': array([0.39409995, 0.36580801, 0.35417604]),\n",
       " 'test_roc_auc': array([0.65063827, 0.65608893, 0.66459621]),\n",
       " 'train_roc_auc': array([0.67041989, 0.66688665, 0.66362351]),\n",
       " 'test_accuracy': array([0.61358861, 0.61568994, 0.62510216]),\n",
       " 'train_accuracy': array([0.61893643, 0.62751737, 0.61936727]),\n",
       " 'test_f1': array([0.44778111, 0.42427422, 0.45750971]),\n",
       " 'train_f1': array([0.43421737, 0.47303658, 0.44723235]),\n",
       " 'test_precision': array([0.61786372, 0.63976793, 0.64537655]),\n",
       " 'train_precision': array([0.64313222, 0.64128974, 0.63520347])}"
      ]
     },
     "execution_count": 30,
     "metadata": {},
     "output_type": "execute_result"
    }
   ],
   "source": [
    "scores"
   ]
  },
  {
   "cell_type": "code",
   "execution_count": 31,
   "metadata": {},
   "outputs": [],
   "source": [
    "X = df_train\n",
    "y = df_train_y\n",
    "clf = LogisticRegression() # use any model\n",
    "\n",
    "scores = cross_validate(\n",
    "    clf, X, y, cv=3, scoring=('roc_auc'), return_train_score=True\n",
    ")"
   ]
  },
  {
   "cell_type": "code",
   "execution_count": 32,
   "metadata": {},
   "outputs": [
    {
     "data": {
      "text/plain": [
       "{'fit_time': array([0.72159839, 0.76252913, 0.74856114]),\n",
       " 'score_time': array([0.01433969, 0.01931787, 0.03218293]),\n",
       " 'test_score': array([0.68821014, 0.66693476, 0.67514475]),\n",
       " 'train_score': array([0.70978276, 0.7140602 , 0.70982515])}"
      ]
     },
     "execution_count": 32,
     "metadata": {},
     "output_type": "execute_result"
    }
   ],
   "source": [
    "scores"
   ]
  },
  {
   "cell_type": "code",
   "execution_count": 35,
   "metadata": {},
   "outputs": [
    {
     "data": {
      "text/plain": [
       "{'fit_time': array([0.3679471 , 0.25832224, 0.26856089]),\n",
       " 'score_time': array([0.01674795, 0.01519179, 0.02502584]),\n",
       " 'test_score': array([0.6395113 , 0.68758013, 0.55189315]),\n",
       " 'train_score': array([0.70891388, 0.71105612, 0.70814778])}"
      ]
     },
     "execution_count": 35,
     "metadata": {},
     "output_type": "execute_result"
    }
   ],
   "source": [
    "X = df_train\n",
    "y = df_train_y\n",
    "clf = LinearRegression() # use any model\n",
    "\n",
    "scores = cross_validate(\n",
    "    clf, X, y, cv=3, scoring=('roc_auc'), return_train_score=True\n",
    ")\n",
    "\n",
    "scores"
   ]
  },
  {
   "cell_type": "code",
   "execution_count": 38,
   "metadata": {},
   "outputs": [
    {
     "data": {
      "text/plain": [
       "{'fit_time': array([0.22356701, 0.15334988, 0.12293506]),\n",
       " 'score_time': array([0.01759005, 0.01401401, 0.03758693]),\n",
       " 'test_score': array([0.6915923 , 0.69015937, 0.68423628]),\n",
       " 'train_score': array([0.70887505, 0.71100638, 0.70815759])}"
      ]
     },
     "execution_count": 38,
     "metadata": {},
     "output_type": "execute_result"
    }
   ],
   "source": [
    "clf = Ridge() # use any model\n",
    "\n",
    "scores = cross_validate(\n",
    "    clf, X, y, cv=3, scoring=('roc_auc'), return_train_score=True\n",
    ")\n",
    "\n",
    "scores"
   ]
  },
  {
   "cell_type": "code",
   "execution_count": 39,
   "metadata": {},
   "outputs": [
    {
     "data": {
      "text/plain": [
       "{'fit_time': array([0.15783286, 0.10754991, 0.09820628]),\n",
       " 'score_time': array([0.01604009, 0.01380229, 0.01919794]),\n",
       " 'test_score': array([0.57607739, 0.58879749, 0.59396233]),\n",
       " 'train_score': array([0.59082548, 0.58524611, 0.58162771])}"
      ]
     },
     "execution_count": 39,
     "metadata": {},
     "output_type": "execute_result"
    }
   ],
   "source": [
    "clf = Lasso() # use any model\n",
    "\n",
    "scores = cross_validate(\n",
    "    clf, X, y, cv=3, scoring=('roc_auc'), return_train_score=True\n",
    ")\n",
    "\n",
    "scores"
   ]
  },
  {
   "cell_type": "markdown",
   "metadata": {},
   "source": [
    "### 4. Сравнить результаты на тестовом наборе данных - сделать train_test_split в самом начале, подготовить переменные, сравнить результаты работы классификаторов (те же 3), метрика ROC AUC"
   ]
  },
  {
   "cell_type": "code",
   "execution_count": 42,
   "metadata": {},
   "outputs": [],
   "source": [
    "X = df_train\n",
    "y = df_train_y\n",
    "x_train, x_test, y_train, y_test = train_test_split(X, y,stratify=y, test_size=0.3, random_state=42)"
   ]
  },
  {
   "cell_type": "code",
   "execution_count": 57,
   "metadata": {},
   "outputs": [
    {
     "name": "stdout",
     "output_type": "stream",
     "text": [
      "[0.68927511 0.69531352 0.69308523]\n",
      "[0.6671322  0.67472701 0.66096735]\n"
     ]
    }
   ],
   "source": [
    "clf = LinearRegression() # use any model\n",
    "\n",
    "scores_train = cross_validate(\n",
    "    clf, x_train, y_train, cv = 3, scoring=('roc_auc'), return_train_score=True\n",
    ")\n",
    "\n",
    "print(scores_train.get('test_score'))\n",
    "\n",
    "scores_test = cross_validate(\n",
    "    clf, x_test, y_test, cv = 3, scoring=('roc_auc'), return_train_score=True\n",
    ")\n",
    "\n",
    "print(scores_test.get('test_score'))"
   ]
  },
  {
   "cell_type": "code",
   "execution_count": 58,
   "metadata": {},
   "outputs": [
    {
     "name": "stdout",
     "output_type": "stream",
     "text": [
      "[0.69004606 0.69611468 0.69326335]\n",
      "[0.67333816 0.67729143 0.66240844]\n"
     ]
    }
   ],
   "source": [
    "clf = Ridge() # use any model\n",
    "\n",
    "scores_train = cross_validate(\n",
    "    clf, x_train, y_train, cv = 3, scoring=('roc_auc'), return_train_score=True\n",
    ")\n",
    "\n",
    "print(scores_train.get('test_score'))\n",
    "\n",
    "scores_test = cross_validate(\n",
    "    clf, x_test, y_test, cv = 3, scoring=('roc_auc'), return_train_score=True\n",
    ")\n",
    "\n",
    "print(scores_test.get('test_score'))"
   ]
  },
  {
   "cell_type": "code",
   "execution_count": 59,
   "metadata": {},
   "outputs": [
    {
     "name": "stdout",
     "output_type": "stream",
     "text": [
      "[0.57403653 0.59004943 0.59534174]\n",
      "[0.58384198 0.59069142 0.5769037 ]\n"
     ]
    }
   ],
   "source": [
    "clf = Lasso() # use any model\n",
    "\n",
    "scores_train = cross_validate(\n",
    "    clf, x_train, y_train, cv = 3, scoring=('roc_auc'), return_train_score=True\n",
    ")\n",
    "\n",
    "print(scores_train.get('test_score'))\n",
    "\n",
    "scores_test = cross_validate(\n",
    "    clf, x_test, y_test, cv = 3, scoring=('roc_auc'), return_train_score=True\n",
    ")\n",
    "\n",
    "print(scores_test.get('test_score'))"
   ]
  },
  {
   "cell_type": "markdown",
   "metadata": {},
   "source": [
    "Ридж оказался лучшим среди худших"
   ]
  }
 ],
 "metadata": {
  "kernelspec": {
   "display_name": "Python 3",
   "language": "python",
   "name": "python3"
  },
  "language_info": {
   "codemirror_mode": {
    "name": "ipython",
    "version": 3
   },
   "file_extension": ".py",
   "mimetype": "text/x-python",
   "name": "python",
   "nbconvert_exporter": "python",
   "pygments_lexer": "ipython3",
   "version": "3.6.5"
  }
 },
 "nbformat": 4,
 "nbformat_minor": 2
}
