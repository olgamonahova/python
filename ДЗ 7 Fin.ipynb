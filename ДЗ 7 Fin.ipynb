{
 "cells": [
  {
   "cell_type": "code",
   "execution_count": 3,
   "metadata": {},
   "outputs": [],
   "source": [
    "import os\n",
    "import logging\n",
    "\n",
    "import psycopg2\n",
    "import psycopg2.extensions\n",
    "from pymongo import MongoClient\n",
    "import pandas as pd\n",
    "from sqlalchemy import create_engine\n",
    "from sqlalchemy import Table, Column, Integer, Float, MetaData, String\n",
    "from sqlalchemy.orm import sessionmaker\n",
    "from sqlalchemy.ext.declarative import declarative_base"
   ]
  },
  {
   "cell_type": "code",
   "execution_count": 4,
   "metadata": {},
   "outputs": [],
   "source": [
    "logging.basicConfig(format='%(asctime)s : %(levelname)s : %(message)s', level=logging.INFO)\n",
    "logger = logging.getLogger(__name__)"
   ]
  },
  {
   "cell_type": "markdown",
   "metadata": {},
   "source": [
    "# Задание по Psycopg2\n",
    "# --------------------------------------------------------------"
   ]
  },
  {
   "cell_type": "code",
   "execution_count": 6,
   "metadata": {},
   "outputs": [],
   "source": [
    "params = {\n",
    "    \"host\": 'localhost', #os.environ['APP_POSTGRES_HOST']\n",
    "    \"port\": '5433', #os.environ['APP_POSTGRES_PORT']\n",
    "    \"user\": 'postgres'\n",
    "}\n",
    "conn = psycopg2.connect(**params)"
   ]
  },
  {
   "cell_type": "code",
   "execution_count": 8,
   "metadata": {},
   "outputs": [],
   "source": [
    "# дополнительные настройки\n",
    "psycopg2.extensions.register_type(\n",
    "    psycopg2.extensions.UNICODE,\n",
    "    conn\n",
    ")\n",
    "conn.set_isolation_level(\n",
    "    psycopg2.extensions.ISOLATION_LEVEL_AUTOCOMMIT\n",
    ")\n",
    "cursor = conn.cursor()\n",
    "conn = psycopg2.connect(**params)\n",
    "\n",
    "# дополнительные настройки\n",
    "psycopg2.extensions.register_type(\n",
    "    psycopg2.extensions.UNICODE,\n",
    "    conn\n",
    ")\n",
    "conn.set_isolation_level(\n",
    "    psycopg2.extensions.ISOLATION_LEVEL_AUTOCOMMIT\n",
    ")\n",
    "cursor = conn.cursor()"
   ]
  },
  {
   "cell_type": "code",
   "execution_count": 10,
   "metadata": {},
   "outputs": [],
   "source": [
    "# ВАШ КОД ЗДЕСЬ\n",
    "# -------------\n",
    "# таблица movies_top\n",
    "# movieId (id фильма), ratings_num(число рейтингов), ratings_avg (средний рейтинг фильма)"
   ]
  },
  {
   "cell_type": "markdown",
   "metadata": {},
   "source": [
    "Psycopg2\n",
    "Необходимо с помощью Psycorg выполнить создание таблицы movies_top c помощью конструкции\n",
    "\n",
    "    SELECT *  INTO movies_top FROM (ЗАПРОС);\n",
    "Где ЗАПРОС имеет следующий вид:\n",
    "\n",
    "три поля: movieId (id фильма), ratings_num(число рейтингов), ratings_avg (средний рейтинг фильма)\n",
    "В выборку должны попасть только фильмы, у которых средний рейтинг выше 3.\n"
   ]
  },
  {
   "cell_type": "code",
   "execution_count": 19,
   "metadata": {},
   "outputs": [],
   "source": [
    "user_item_query_config = {\n",
    "    \"MIN_AVG_RATING\": 3\n",
    "}"
   ]
  },
  {
   "cell_type": "code",
   "execution_count": 79,
   "metadata": {},
   "outputs": [],
   "source": [
    "sql_str_1 = (\n",
    "        \"\"\"\n",
    "          SELECT * INTO movies_top FROM \n",
    "          (\n",
    "          SELECT \n",
    "          movieId, \n",
    "          count(rating) as ratings_num, \n",
    "          avg(rating) as ratings_avg \n",
    "          FROM ratings \n",
    "          GROUP BY movieId \n",
    "          HAVING AVG(rating)>%(MIN_AVG_RATING)d) as tmp\n",
    "        \"\"\" % user_item_query_config\n",
    ")\n",
    "\n",
    "cursor.execute(sql_str_1)"
   ]
  },
  {
   "cell_type": "code",
   "execution_count": 80,
   "metadata": {},
   "outputs": [],
   "source": [
    "sql_str_2 = (\n",
    "        \"\"\"\n",
    "          SELECT * FROM movies_top\n",
    "          \n",
    "        \"\"\"\n",
    ")"
   ]
  },
  {
   "cell_type": "markdown",
   "metadata": {},
   "source": [
    " # вложенный запрос\n",
    " SELECT\n",
    "      movieId,\n",
    "      count(rating) as ratings_num,\n",
    "      avg(rating) as ratings_avg\n",
    "  FROM ratings\n",
    "  GROUP BY movieId\n",
    "  HAVING AVG(rating)>3"
   ]
  },
  {
   "cell_type": "code",
   "execution_count": 81,
   "metadata": {},
   "outputs": [
    {
     "name": "stderr",
     "output_type": "stream",
     "text": [
      "2018-12-27 19:58:47,213 : INFO : Данные по оценкам загружены из Postgres\n"
     ]
    }
   ],
   "source": [
    "# выгружаем данные из БД в Python\n",
    "cursor.execute(sql_str_2)\n",
    "ui_data = [a for a in cursor.fetchall()]\n",
    "conn.commit()\n",
    "logger.info(\"Данные по оценкам загружены из Postgres\")"
   ]
  },
  {
   "cell_type": "code",
   "execution_count": 82,
   "metadata": {},
   "outputs": [
    {
     "name": "stderr",
     "output_type": "stream",
     "text": [
      "2018-12-27 19:58:53,227 : INFO : Данные сохранены в /Users/olgamonahova/netology_data/HW1_v2.tsv\n"
     ]
    }
   ],
   "source": [
    "agg_filename = '/Users/olgamonahova/netology_data/HW1_v2.tsv'\n",
    "# создаём текстовый файл с результатами\n",
    "with open(agg_filename, 'w') as f:\n",
    "    for row in ui_data:\n",
    "        f.write(\"{}\\t{}\\t{}\\n\".format(row[0], row[1], row[2]))\n",
    "logger.info(\"Данные сохранены в {}\".format(agg_filename))"
   ]
  },
  {
   "cell_type": "markdown",
   "metadata": {},
   "source": [
    "# Задание по SQLAlchemy\n",
    "# --------------------------------------------------------------\n",
    "Base = declarative_base()\n",
    "\n",
    "\n",
    "class MoviesTop(Base):\n",
    "    __tablename__ = 'movies_top'\n",
    "\n",
    "    movieid = Column(Integer, primary_key=True)\n",
    "    ratings_num = Column(Float)\n",
    "    ratings_avg = Column(Float)\n",
    "\n",
    "    def __repr__(self):\n",
    "        return \"<User(movieid='%s', ratings_num='%s', ratings_avg='%s')>\" % (self.movieid, self.ratings_num, self.ratings_avg)\n",
    "\n",
    "\n",
    "# Создаём сессию\n",
    "\n",
    "engine = create_engine('postgresql://postgres:@{}:{}'.format(os.environ['APP_POSTGRES_HOST'], os.environ['APP_POSTGRES_PORT']))\n",
    "Session = sessionmaker(bind=engine)\n",
    "session = Session()\n",
    "\n",
    "\n",
    "# --------------------------------------------------------------\n",
    "# Ваш код здесь\n",
    "# выберите контент у которого больше 15 оценок (используйте filter)\n",
    "# и средний рейтинг больше 3.5 (filter ещё раз)\n",
    "# отсортированный по среднему рейтингу (используйте order_by())\n",
    "# id такого контента нужно сохранить в массив top_rated_content_ids\n",
    "\n",
    "top_rated_query = session.query(MoviesTop)\n",
    "\n",
    "logger.info(\"Выборка из top_rated_query\\n{}\".format([i for i in top_rated_query.limit(4)]))\n",
    "\n",
    "top_rated_content_ids = [\n",
    "    i[0] for i in top_rated_query.values(MoviesTop.movieid)\n",
    "][:5]\n",
    "# --------------------------------------------------------------"
   ]
  },
  {
   "cell_type": "code",
   "execution_count": 84,
   "metadata": {},
   "outputs": [],
   "source": [
    "import os\n",
    "\n",
    "from sqlalchemy import create_engine\n",
    "from sqlalchemy import Table, Column, Integer, Float, MetaData\n",
    "from sqlalchemy.orm import mapper\n",
    "from sqlalchemy.orm import sessionmaker\n",
    "\n",
    "Base = declarative_base()"
   ]
  },
  {
   "cell_type": "code",
   "execution_count": 85,
   "metadata": {},
   "outputs": [],
   "source": [
    "class MoviesTop(Base):\n",
    "    __tablename__ = 'movies_top'\n",
    "\n",
    "    movieid = Column(Integer, primary_key=True)\n",
    "    ratings_num = Column(Float)\n",
    "    ratings_avg = Column(Float)\n",
    "\n",
    "    def __repr__(self):\n",
    "        return \"<User(movieid='%s', ratings_num='%s', ratings_avg='%s')>\" % (self.movieid, self.ratings_num, self.ratings_avg)"
   ]
  },
  {
   "cell_type": "code",
   "execution_count": 86,
   "metadata": {},
   "outputs": [],
   "source": [
    "engine = create_engine('postgresql://postgres:@{}:{}'.format('localhost', '5433'))\n",
    "Session = sessionmaker(bind=engine)\n",
    "session = Session()"
   ]
  },
  {
   "cell_type": "code",
   "execution_count": 87,
   "metadata": {},
   "outputs": [
    {
     "name": "stderr",
     "output_type": "stream",
     "text": [
      "2018-12-27 21:41:28,776 : INFO : Выборка из top_rated_query\n",
      "[<User(movieid='790', ratings_num='6.0', ratings_avg='3.16666666666667')>, <User(movieid='146688', ratings_num='2.0', ratings_avg='3.25')>, <User(movieid='69906', ratings_num='1.0', ratings_avg='5.0')>, <User(movieid='26745', ratings_num='5.0', ratings_avg='3.3')>]\n"
     ]
    }
   ],
   "source": [
    "top_rated_query = session.query(MoviesTop)\n",
    "\n",
    "logger.info(\"Выборка из top_rated_query\\n{}\".format([i for i in top_rated_query.limit(4)]))\n",
    "\n",
    "top_rated_content_ids = [\n",
    "    i[0] for i in top_rated_query.values(MoviesTop.movieid)\n",
    "][:5]"
   ]
  },
  {
   "cell_type": "code",
   "execution_count": null,
   "metadata": {},
   "outputs": [],
   "source": []
  }
 ],
 "metadata": {
  "kernelspec": {
   "display_name": "Python 3",
   "language": "python",
   "name": "python3"
  },
  "language_info": {
   "codemirror_mode": {
    "name": "ipython",
    "version": 3
   },
   "file_extension": ".py",
   "mimetype": "text/x-python",
   "name": "python",
   "nbconvert_exporter": "python",
   "pygments_lexer": "ipython3",
   "version": "3.6.5"
  }
 },
 "nbformat": 4,
 "nbformat_minor": 2
}
