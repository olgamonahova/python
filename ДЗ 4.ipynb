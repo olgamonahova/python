{
 "cells": [
  {
   "cell_type": "markdown",
   "metadata": {},
   "source": [
    "Задание 1\n",
    "Напишите функцию date_range, которая возвращает список дней между датами start_date и end_date. Даты должны вводиться в формате YYYY-MM-DD."
   ]
  },
  {
   "cell_type": "code",
   "execution_count": 311,
   "metadata": {},
   "outputs": [],
   "source": [
    "from datetime import datetime\n",
    "from datetime import timedelta"
   ]
  },
  {
   "cell_type": "code",
   "execution_count": 313,
   "metadata": {},
   "outputs": [],
   "source": [
    "# праздничная модификация, считаем не просто дни между днями, а дни до Нового Года\n",
    "def date_range_until_NY():\n",
    "    #список дат\n",
    "    date_list = []\n",
    "\n",
    "    end_date = '2019-01-01'\n",
    "\n",
    "    start_date_dt = datetime.now()\n",
    "    end_date_dt = datetime.strptime(end_date, '%Y-%m-%d')\n",
    "\n",
    "    current_dt = start_date_dt\n",
    "\n",
    "    while current_dt <= end_date_dt:\n",
    "        date_list.append(current_dt.strftime('%Y-%m-%d'))\n",
    "\n",
    "        current_dt += timedelta(days=1)\n",
    "    \n",
    "    print('До Нового Года осталось ...')\n",
    "    return date_list\n",
    "\n",
    "        "
   ]
  },
  {
   "cell_type": "code",
   "execution_count": 314,
   "metadata": {},
   "outputs": [
    {
     "name": "stdout",
     "output_type": "stream",
     "text": [
      "До Нового Года осталось ...\n"
     ]
    },
    {
     "data": {
      "text/plain": [
       "['2018-12-13',\n",
       " '2018-12-14',\n",
       " '2018-12-15',\n",
       " '2018-12-16',\n",
       " '2018-12-17',\n",
       " '2018-12-18',\n",
       " '2018-12-19',\n",
       " '2018-12-20',\n",
       " '2018-12-21',\n",
       " '2018-12-22',\n",
       " '2018-12-23',\n",
       " '2018-12-24',\n",
       " '2018-12-25',\n",
       " '2018-12-26',\n",
       " '2018-12-27',\n",
       " '2018-12-28',\n",
       " '2018-12-29',\n",
       " '2018-12-30',\n",
       " '2018-12-31']"
      ]
     },
     "execution_count": 314,
     "metadata": {},
     "output_type": "execute_result"
    }
   ],
   "source": [
    "date_range_until_NY()"
   ]
  },
  {
   "cell_type": "markdown",
   "metadata": {},
   "source": [
    "Задание 2\n",
    "Дополните функцию из первого задания проверкой на корректность дат. В случае неверного формата или если start_date > end_date должен возвращаться пустой список."
   ]
  },
  {
   "cell_type": "code",
   "execution_count": 251,
   "metadata": {},
   "outputs": [],
   "source": [
    "import traceback"
   ]
  },
  {
   "cell_type": "code",
   "execution_count": 315,
   "metadata": {},
   "outputs": [],
   "source": [
    "# увы, не получилось обойти 1-ое задание в исходном виде\n",
    "def date_range(start_date, end_date):\n",
    "    \n",
    "    #список дат\n",
    "    date_list = []\n",
    "    \n",
    "    errors = date_format_check(start_date,end_date)\n",
    "    if errors== True:\n",
    "        print('Неверный формат дат, ожидается %Y-%m-%d')\n",
    "        return []\n",
    "\n",
    "    start_date_dt = datetime.strptime(start_date, '%Y-%m-%d')\n",
    "    end_date_dt = datetime.strptime(end_date, '%Y-%m-%d')\n",
    "    \n",
    "    #логическая проверка, чтобы дата старта была не раньше даты окончания\n",
    "    if start_date_dt > end_date_dt:\n",
    "        print('Ошибка! Дата старта позже даты окончания')\n",
    "        return []\n",
    "    \n",
    "    current_dt = start_date_dt\n",
    "\n",
    "    while current_dt <= end_date_dt:\n",
    "        date_list.append(current_dt.strftime('%Y-%m-%d'))\n",
    "\n",
    "        current_dt += timedelta(days=1)\n",
    "    \n",
    "    return date_list"
   ]
  },
  {
   "cell_type": "code",
   "execution_count": 316,
   "metadata": {},
   "outputs": [],
   "source": [
    "# проверка, что можно конвертировать в число\n",
    "def date_format_check(start_date, end_date):\n",
    "    try:\n",
    "        start_date_dt = datetime.strptime(start_date, '%Y-%m-%d')\n",
    "        end_date_dt = datetime.strptime(end_date, '%Y-%m-%d')      \n",
    "        \n",
    "        \n",
    "    except ValueError:\n",
    "        return True"
   ]
  },
  {
   "cell_type": "code",
   "execution_count": 255,
   "metadata": {},
   "outputs": [
    {
     "name": "stdout",
     "output_type": "stream",
     "text": [
      "2019-01-01\n",
      "2019-01-02\n",
      "2019-01-03\n",
      "2019-01-04\n",
      "2019-01-05\n"
     ]
    }
   ],
   "source": [
    "# правильные даты\n",
    "date_range('2019-01-01','2019-01-05')"
   ]
  },
  {
   "cell_type": "code",
   "execution_count": 317,
   "metadata": {},
   "outputs": [
    {
     "name": "stdout",
     "output_type": "stream",
     "text": [
      "Неверный формат дат, ожидается %Y-%m-%d\n"
     ]
    },
    {
     "data": {
      "text/plain": [
       "[]"
      ]
     },
     "execution_count": 317,
     "metadata": {},
     "output_type": "execute_result"
    }
   ],
   "source": [
    "# неправильный формат дат\n",
    "date_range('2019-01-01','2019.01.05')"
   ]
  },
  {
   "cell_type": "code",
   "execution_count": 318,
   "metadata": {},
   "outputs": [
    {
     "name": "stdout",
     "output_type": "stream",
     "text": [
      "Ошибка! Дата старта позже даты окончания\n"
     ]
    },
    {
     "data": {
      "text/plain": [
       "[]"
      ]
     },
     "execution_count": 318,
     "metadata": {},
     "output_type": "execute_result"
    }
   ],
   "source": [
    "# дата старта позже даты окончания\n",
    "date_range('2019-01-01','2018-01-05')"
   ]
  },
  {
   "cell_type": "markdown",
   "metadata": {},
   "source": [
    "Задание 3\n",
    "Дан поток дат в формате YYYY-MM-DD, в которых встречаются некорректные значения:\n",
    "stream = ['2018-04-02', '2018-02-29', '2018-19-02']\n",
    "\n",
    "Напишите функцию, которая проверяет эти даты на корректность. Т. е. для каждой даты возвращает True (дата корректна) или False (некорректная дата). "
   ]
  },
  {
   "cell_type": "code",
   "execution_count": 319,
   "metadata": {},
   "outputs": [],
   "source": [
    "stream = ['2018-04-02', '2018-02-29', '2018-19-02']"
   ]
  },
  {
   "cell_type": "code",
   "execution_count": 320,
   "metadata": {},
   "outputs": [],
   "source": [
    "def check_date(date):\n",
    "    try:\n",
    "        date_dt = datetime.strptime(date, '%Y-%m-%d')    \n",
    "        \n",
    "    except ValueError:\n",
    "        return False\n",
    "    else:\n",
    "        return True"
   ]
  },
  {
   "cell_type": "code",
   "execution_count": 321,
   "metadata": {},
   "outputs": [
    {
     "name": "stdout",
     "output_type": "stream",
     "text": [
      "2018-04-02 True\n",
      "2018-02-29 False\n",
      "2018-19-02 False\n"
     ]
    }
   ],
   "source": [
    "for date in stream:\n",
    "    print(date, check_date(date))"
   ]
  },
  {
   "cell_type": "markdown",
   "metadata": {},
   "source": [
    "Задание 4\n",
    "Напишите функцию, которая возвращает список дат с 1 по вчерашний день текущего месяца. Если дан 1 день месяца, то возвращается список дней прошлого месяца."
   ]
  },
  {
   "cell_type": "code",
   "execution_count": 322,
   "metadata": {},
   "outputs": [],
   "source": [
    "from datetime import date"
   ]
  },
  {
   "cell_type": "code",
   "execution_count": 323,
   "metadata": {},
   "outputs": [],
   "source": [
    "def passed_days_in_month(date):\n",
    "    date_dt = datetime.strptime(date, '%Y-%m-%d')\n",
    "    \n",
    "    # если 1-ый день месяца\n",
    "    if date_dt.day == 1:\n",
    "        #проверка, что это 1-ый месяц\n",
    "        if date_dt.month == 1:\n",
    "            start_date = datetime(date_dt.year-1, date_dt.month+11,1)\n",
    "            end_date = date_dt - timedelta(days = 1)\n",
    "        \n",
    "        # для не 1-го месяца\n",
    "        else: \n",
    "            start_date = datetime(date_dt.year, date_dt.month-1,1)\n",
    "            end_date = end_date = date_dt - timedelta(days = 1)\n",
    "            \n",
    "   # все другие дни кроме 1-го         \n",
    "    else:\n",
    "        start_date = datetime(date_dt.year, date_dt.month, 1)\n",
    "        end_date = datetime(date_dt.year, date_dt.month, date_dt.day-1)\n",
    "        \n",
    "\n",
    "    current_dt = start_date\n",
    "    lst = []\n",
    "    \n",
    "    while current_dt <= end_date:\n",
    "        lst.append(current_dt.strftime('%Y-%m-%d'))\n",
    "        current_dt += timedelta(days=1)\n",
    "    return lst\n"
   ]
  },
  {
   "cell_type": "code",
   "execution_count": 324,
   "metadata": {},
   "outputs": [
    {
     "data": {
      "text/plain": [
       "['2018-12-01',\n",
       " '2018-12-02',\n",
       " '2018-12-03',\n",
       " '2018-12-04',\n",
       " '2018-12-05',\n",
       " '2018-12-06',\n",
       " '2018-12-07',\n",
       " '2018-12-08',\n",
       " '2018-12-09',\n",
       " '2018-12-10',\n",
       " '2018-12-11',\n",
       " '2018-12-12',\n",
       " '2018-12-13',\n",
       " '2018-12-14',\n",
       " '2018-12-15',\n",
       " '2018-12-16',\n",
       " '2018-12-17',\n",
       " '2018-12-18',\n",
       " '2018-12-19',\n",
       " '2018-12-20',\n",
       " '2018-12-21',\n",
       " '2018-12-22',\n",
       " '2018-12-23',\n",
       " '2018-12-24',\n",
       " '2018-12-25',\n",
       " '2018-12-26',\n",
       " '2018-12-27',\n",
       " '2018-12-28',\n",
       " '2018-12-29',\n",
       " '2018-12-30',\n",
       " '2018-12-31']"
      ]
     },
     "execution_count": 324,
     "metadata": {},
     "output_type": "execute_result"
    }
   ],
   "source": [
    "# 1-ое число 1-го месяца\n",
    "passed_days_in_month('2019-01-01')"
   ]
  },
  {
   "cell_type": "code",
   "execution_count": 325,
   "metadata": {},
   "outputs": [
    {
     "data": {
      "text/plain": [
       "['2019-01-01',\n",
       " '2019-01-02',\n",
       " '2019-01-03',\n",
       " '2019-01-04',\n",
       " '2019-01-05',\n",
       " '2019-01-06',\n",
       " '2019-01-07',\n",
       " '2019-01-08',\n",
       " '2019-01-09',\n",
       " '2019-01-10',\n",
       " '2019-01-11',\n",
       " '2019-01-12',\n",
       " '2019-01-13',\n",
       " '2019-01-14',\n",
       " '2019-01-15',\n",
       " '2019-01-16',\n",
       " '2019-01-17',\n",
       " '2019-01-18',\n",
       " '2019-01-19',\n",
       " '2019-01-20',\n",
       " '2019-01-21',\n",
       " '2019-01-22',\n",
       " '2019-01-23',\n",
       " '2019-01-24',\n",
       " '2019-01-25',\n",
       " '2019-01-26',\n",
       " '2019-01-27',\n",
       " '2019-01-28',\n",
       " '2019-01-29',\n",
       " '2019-01-30',\n",
       " '2019-01-31']"
      ]
     },
     "execution_count": 325,
     "metadata": {},
     "output_type": "execute_result"
    }
   ],
   "source": [
    "# 1-ое число не 1-го месяца\n",
    "passed_days_in_month('2019-02-01')"
   ]
  },
  {
   "cell_type": "code",
   "execution_count": 265,
   "metadata": {},
   "outputs": [
    {
     "data": {
      "text/plain": [
       "['2019-02-01',\n",
       " '2019-02-02',\n",
       " '2019-02-03',\n",
       " '2019-02-04',\n",
       " '2019-02-05',\n",
       " '2019-02-06',\n",
       " '2019-02-07',\n",
       " '2019-02-08',\n",
       " '2019-02-09',\n",
       " '2019-02-10',\n",
       " '2019-02-11',\n",
       " '2019-02-12',\n",
       " '2019-02-13',\n",
       " '2019-02-14']"
      ]
     },
     "execution_count": 265,
     "metadata": {},
     "output_type": "execute_result"
    }
   ],
   "source": [
    "# не 1-ое число\n",
    "passed_days_in_month('2019-02-15')"
   ]
  },
  {
   "cell_type": "markdown",
   "metadata": {},
   "source": [
    "Задание 5.\n",
    "Напишите функцию, которая возвращает точную дату в формате YYYY-MM-DD по фразе:\n",
    "1. 'today' - сегодняшнюю дату\n",
    "2. 'last monday' -  прошлый понедельник\n",
    "3. 'last day' - Последний день текущего месяца"
   ]
  },
  {
   "cell_type": "code",
   "execution_count": 299,
   "metadata": {},
   "outputs": [],
   "source": [
    "def tell_me_date(day):\n",
    "    \n",
    "    today = datetime.now()\n",
    "    \n",
    "    if day == 'today':\n",
    "        return today.strftime('%Y-%m-%d')\n",
    "        \n",
    "    elif day == 'last_monday':\n",
    "        day_of_week = today.weekday()\n",
    "        \n",
    "        if day_of_week == 0:\n",
    "            last_monday = today - timedelta(days = 7)\n",
    "        else:\n",
    "            last_monday = today - timedelta(days = day_of_week)\n",
    "            \n",
    "        return last_monday.strftime('%Y-%m-%d')\n",
    "    \n",
    "    elif day == 'last_day':\n",
    "    \n",
    "        if today.month == 12:\n",
    "            last_day = datetime(today.year+1, today.month+1-12, 1) - timedelta(days = 1)\n",
    "        else:\n",
    "            last_day = datetime(today.year, today.month+1, 1) - timedelta(days = 1)\n",
    "        return last_day.strftime('%Y-%m-%d')"
   ]
  },
  {
   "cell_type": "code",
   "execution_count": 300,
   "metadata": {},
   "outputs": [
    {
     "data": {
      "text/plain": [
       "('2018-12-13', '2018-12-10', '2018-12-31')"
      ]
     },
     "execution_count": 300,
     "metadata": {},
     "output_type": "execute_result"
    }
   ],
   "source": [
    "tell_me_date('today'), tell_me_date('last_monday'), tell_me_date('last_day')"
   ]
  },
  {
   "cell_type": "markdown",
   "metadata": {},
   "source": [
    "Задание 6.\n",
    "Напишите функцию, которая разбивает на недели с понедельника по воскресенье интервал дат между start_date и end_date. Считайте, что входные данные всегда корректны. В ответ должны входить только полные недели."
   ]
  },
  {
   "cell_type": "code",
   "execution_count": 305,
   "metadata": {},
   "outputs": [],
   "source": [
    "def full_weeks_between_dates(start_date, end_date):\n",
    "    \n",
    "    start_date_dt = datetime.strptime(start_date, '%Y-%m-%d')\n",
    "    end_date_dt = datetime.strptime(end_date, '%Y-%m-%d')\n",
    "    count_week = 0\n",
    "    \n",
    "    \n",
    "    #если начальная дата - понедельник, то начинаем отсчет с него, в других случаях - с ближайшего понедельника\n",
    "    if start_date_dt == 1:\n",
    "        first_monday = start_date_dt\n",
    "    else:\n",
    "        first_monday = start_date_dt + timedelta(days = 8 - start_date_dt.weekday())\n",
    "    \n",
    "    check_date = first_monday\n",
    "    \n",
    "    while end_date_dt >= check_date:\n",
    "        count_week += 1\n",
    "        check_date += timedelta(days = 7)\n",
    "        \n",
    "    return count_week  "
   ]
  },
  {
   "cell_type": "code",
   "execution_count": 310,
   "metadata": {},
   "outputs": [
    {
     "data": {
      "text/plain": [
       "22"
      ]
     },
     "execution_count": 310,
     "metadata": {},
     "output_type": "execute_result"
    }
   ],
   "source": [
    "full_weeks_between_dates('2019-01-01','2019-06-09')"
   ]
  },
  {
   "cell_type": "code",
   "execution_count": null,
   "metadata": {},
   "outputs": [],
   "source": []
  }
 ],
 "metadata": {
  "kernelspec": {
   "display_name": "Python 3",
   "language": "python",
   "name": "python3"
  },
  "language_info": {
   "codemirror_mode": {
    "name": "ipython",
    "version": 3
   },
   "file_extension": ".py",
   "mimetype": "text/x-python",
   "name": "python",
   "nbconvert_exporter": "python",
   "pygments_lexer": "ipython3",
   "version": "3.6.5"
  }
 },
 "nbformat": 4,
 "nbformat_minor": 2
}
