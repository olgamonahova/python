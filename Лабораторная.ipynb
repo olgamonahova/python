{
 "cells": [
  {
   "cell_type": "markdown",
   "metadata": {},
   "source": [
    "Лабораторная работа по модулю “Python для анализа данных”\n",
    "Списки и строки – одни из важных начальных понятий для любого дата сайентиста, поскольку на знании принципов\n",
    "работы с ними строится работа с препроцессингом и обработкой данных в python в целом и работы с модулем pandas в\n",
    "частности:\n",
    "1. Дан произвольный список, содержащий только числа. Выведите результат сложения всех чисел больше 10.\n",
    "2. Пусть задан список, содержащий строки. Выведите все строки, заканчивающиеся буквой r.\n",
    "3. Сгенерируйте и выведите cлучайную строку размером 6 символов, содержащую только цифры. Строка должна\n",
    "содержать хотя бы одну цифру 3.\n",
    "4. Пусть дана строка произвольной длины. Выведите информацию о том, сколько в ней символов и сколько слов.\n",
    "Матрицы-следующее за списками и строками важное понятие. Широко используется в линейной алгебре. Находит свое\n",
    "применение в современных рекомендательных системах и архитектуре нейронных сетей:\n",
    "1. Пусть дана матрица чисел размером NхN. Представьте данную матрицу в виде списка. Выведите результат сложения\n",
    "всех элементов матрицы.\n",
    "2. Пусть дана матрица чисел размером NхM. Найти столбец матрицы с максимальной суммой элементов.\n",
    "Работа с динамичными структурами важная часть в имплементации вашего кода в продакшн систему:\n",
    "1. Пусть список студентов представлен в виде структуры [[No, ФИО, Возраст,Группа],[No, ФИО, Возраст, Группа],[No, ФИО,\n",
    "Возраст, Группа]]. Преобразуйте список в словарь вида: {No: [ФИО, Возраст, Группа], No:[....], No: [....]}\n",
    "2. Добавьте к задаче No6 для словаря возможность (без преобразования словаря обратно в список) изменить группу\n",
    "студента. Поиск по «ФИО» («ФИО» студента и новый номер группы необходимо ввести с клавиатуры).\n",
    "3. Добавьте к задаче No6 для словаря возможность (без преобразования словаря обратно в список) изменить возраст\n",
    "студента. "
   ]
  },
  {
   "cell_type": "markdown",
   "metadata": {},
   "source": [
    "1.Дан произвольный список, содержащий только числа. Выведите результат сложения всех чисел больше 10."
   ]
  },
  {
   "cell_type": "code",
   "execution_count": 78,
   "metadata": {},
   "outputs": [],
   "source": [
    "import numpy as np"
   ]
  },
  {
   "cell_type": "code",
   "execution_count": 79,
   "metadata": {},
   "outputs": [
    {
     "data": {
      "text/plain": [
       "array([ 8, 13,  3,  3, 13,  2, 16,  3,  3, 14, 12, 13,  9, 18,  6,  3,  7,\n",
       "        2, 17, 14])"
      ]
     },
     "execution_count": 79,
     "metadata": {},
     "output_type": "execute_result"
    }
   ],
   "source": [
    "#произвольный список\n",
    "lst = np.random.randint(1, 20, 20)\n",
    "lst"
   ]
  },
  {
   "cell_type": "code",
   "execution_count": 80,
   "metadata": {},
   "outputs": [
    {
     "data": {
      "text/plain": [
       "130"
      ]
     },
     "execution_count": 80,
     "metadata": {},
     "output_type": "execute_result"
    }
   ],
   "source": [
    "#сумма чисел больше 10\n",
    "sum([num for num in lst if num>10])"
   ]
  },
  {
   "cell_type": "markdown",
   "metadata": {},
   "source": [
    "2. Пусть задан список, содержащий строки. Выведите все строки, заканчивающиеся буквой r."
   ]
  },
  {
   "cell_type": "code",
   "execution_count": 24,
   "metadata": {},
   "outputs": [],
   "source": [
    "strs = ['Only two things we will regret on deathbed – that we are a little loved and little traveled.',\n",
    "'Life is far too important a thing ever to talk seriously about. -r',\n",
    "'In the middle of difficulty lies opportunity.']"
   ]
  },
  {
   "cell_type": "code",
   "execution_count": 81,
   "metadata": {},
   "outputs": [
    {
     "name": "stdout",
     "output_type": "stream",
     "text": [
      "Life is far too important a thing ever to talk seriously about. -r\n"
     ]
    }
   ],
   "source": [
    "for string in strs:\n",
    "    if string[-1] == 'r':\n",
    "        print(string)"
   ]
  },
  {
   "cell_type": "code",
   "execution_count": 95,
   "metadata": {},
   "outputs": [],
   "source": [
    "import string"
   ]
  },
  {
   "cell_type": "markdown",
   "metadata": {},
   "source": [
    "3. Сгенерируйте и выведите cлучайную строку размером 6 символов, содержащую только цифры. Строка должна содержать хотя бы одну цифру 3"
   ]
  },
  {
   "cell_type": "code",
   "execution_count": 145,
   "metadata": {},
   "outputs": [],
   "source": [
    "rand_list = [np.random.choice(10) for i in range(6)]"
   ]
  },
  {
   "cell_type": "code",
   "execution_count": 146,
   "metadata": {},
   "outputs": [
    {
     "data": {
      "text/plain": [
       "[0, 1, 2, 9, 2, 6]"
      ]
     },
     "execution_count": 146,
     "metadata": {},
     "output_type": "execute_result"
    }
   ],
   "source": [
    "rand_list"
   ]
  },
  {
   "cell_type": "code",
   "execution_count": 158,
   "metadata": {},
   "outputs": [
    {
     "name": "stdout",
     "output_type": "stream",
     "text": [
      "312926\n"
     ]
    }
   ],
   "source": [
    "rand_string = ''.join([str(num) for num in rand_list])\n",
    "\n",
    "\n",
    "for char in rand_string[0:1]:\n",
    "    first_letter = char\n",
    "\n",
    "#если нет 3 в строке, заменим сделаем замену первой цифры на 3\n",
    "if '3' not in rand_string:\n",
    "    rand_string = rand_string.replace(first_letter, '3')\n",
    "\n",
    "print(rand_string)"
   ]
  },
  {
   "cell_type": "markdown",
   "metadata": {},
   "source": [
    "4.Пусть дана строка произвольной длины. Выведите информацию о том, сколько в ней символов и сколько слов. "
   ]
  },
  {
   "cell_type": "code",
   "execution_count": 114,
   "metadata": {},
   "outputs": [
    {
     "name": "stdout",
     "output_type": "stream",
     "text": [
      "18 слов\n",
      "92 символов\n"
     ]
    }
   ],
   "source": [
    "queries = 'Only two things we will regret on deathbed – that we are a little loved and little traveled.'\n",
    "\n",
    "num_word = 0\n",
    "\n",
    "#подсчет слов\n",
    "for word in queries.split(' '):\n",
    "    num_word+=1\n",
    "\n",
    "print(f'{num_word} слов')\n",
    "print(f'{len(queries)} символов')"
   ]
  },
  {
   "cell_type": "markdown",
   "metadata": {},
   "source": [
    "Матрицы-следующее за списками и строками важное понятие. Широко используется в линейной алгебре. Находит свое применение в современных рекомендательных системах и архитектуре нейронных сетей:"
   ]
  },
  {
   "cell_type": "markdown",
   "metadata": {},
   "source": [
    "5. Пусть дана матрица чисел размером NхN. Представьте данную матрицу в виде списка. Выведите результат сложения всех элементов матрицы."
   ]
  },
  {
   "cell_type": "code",
   "execution_count": 159,
   "metadata": {},
   "outputs": [],
   "source": [
    "import numpy as np"
   ]
  },
  {
   "cell_type": "code",
   "execution_count": 176,
   "metadata": {},
   "outputs": [
    {
     "data": {
      "text/plain": [
       "array([[0, 1, 2],\n",
       "       [3, 4, 5],\n",
       "       [6, 7, 8]])"
      ]
     },
     "execution_count": 176,
     "metadata": {},
     "output_type": "execute_result"
    }
   ],
   "source": [
    "x = np.arange(0,9,1)\n",
    "x = x.reshape(3,3)\n",
    "x"
   ]
  },
  {
   "cell_type": "code",
   "execution_count": 178,
   "metadata": {},
   "outputs": [
    {
     "data": {
      "text/plain": [
       "[[0, 1, 2], [3, 4, 5], [6, 7, 8]]"
      ]
     },
     "execution_count": 178,
     "metadata": {},
     "output_type": "execute_result"
    }
   ],
   "source": [
    "#матрица в видеп списка\n",
    "x.tolist()"
   ]
  },
  {
   "cell_type": "code",
   "execution_count": 180,
   "metadata": {},
   "outputs": [
    {
     "data": {
      "text/plain": [
       "36"
      ]
     },
     "execution_count": 180,
     "metadata": {},
     "output_type": "execute_result"
    }
   ],
   "source": [
    "#сумма элементов матрицы\n",
    "x.sum()"
   ]
  },
  {
   "cell_type": "markdown",
   "metadata": {},
   "source": [
    "6. Пусть дана матрица чисел размером NхM. Найти столбец матрицы с максимальной суммой элементов."
   ]
  },
  {
   "cell_type": "code",
   "execution_count": 184,
   "metadata": {},
   "outputs": [
    {
     "data": {
      "text/plain": [
       "array([[ 0,  1,  2,  3,  4],\n",
       "       [ 5,  6,  7,  8,  9],\n",
       "       [10, 11, 12, 13, 14]])"
      ]
     },
     "execution_count": 184,
     "metadata": {},
     "output_type": "execute_result"
    }
   ],
   "source": [
    "x = np.arange(0,15,1)\n",
    "x = x.reshape(3,5)\n",
    "x"
   ]
  },
  {
   "cell_type": "code",
   "execution_count": 200,
   "metadata": {},
   "outputs": [
    {
     "name": "stdout",
     "output_type": "stream",
     "text": [
      "столбец 2 с максимальной суммой 60\n"
     ]
    }
   ],
   "source": [
    "max_sum = 0\n",
    "num_col = 0\n",
    "\n",
    "for col in x:\n",
    "    if col.sum() > max_sum:\n",
    "        max_sum = col.sum()\n",
    "        col_max_sum = num_col\n",
    "        num_col +=1\n",
    "\n",
    "print(f'столбец {col_max_sum} с максимальной суммой {max_sum}')"
   ]
  },
  {
   "cell_type": "markdown",
   "metadata": {},
   "source": [
    "Работа с динамичными структурами важная часть в имплементации вашего кода в продакшн систему:"
   ]
  },
  {
   "cell_type": "markdown",
   "metadata": {},
   "source": [
    "7. Пусть список студентов представлен в виде структуры [[No, ФИО, Возраст,Группа],[No, ФИО, Возраст, Группа],[No, ФИО, Возраст, Группа]]. Преобразуйте список в словарь вида: {No: [ФИО, Возраст, Группа], No:[....], No: [....]}"
   ]
  },
  {
   "cell_type": "code",
   "execution_count": 251,
   "metadata": {},
   "outputs": [],
   "source": [
    "lst = [[1, 'Иванов Иван', 18, 'A'],[2,'Петров Петр',17,'B'],[3, 'Сидоров Андрей',18, 'A']]"
   ]
  },
  {
   "cell_type": "code",
   "execution_count": 253,
   "metadata": {},
   "outputs": [
    {
     "data": {
      "text/plain": [
       "{1: ['Иванов Иван', 18, 'A'],\n",
       " 2: ['Петров Петр', 17, 'B'],\n",
       " 3: ['Сидоров Андрей', 18, 'A']}"
      ]
     },
     "execution_count": 253,
     "metadata": {},
     "output_type": "execute_result"
    }
   ],
   "source": [
    "mydict = {student[0]:student[1:4] for student in lst}\n",
    "mydict"
   ]
  },
  {
   "cell_type": "markdown",
   "metadata": {},
   "source": [
    "Добавьте к задаче No7 для словаря возможность (без преобразования словаря обратно в список) изменить группу студента. Поиск по «ФИО» («ФИО» студента и новый номер группы необходимо ввести с клавиатуры)."
   ]
  },
  {
   "cell_type": "code",
   "execution_count": 263,
   "metadata": {},
   "outputs": [
    {
     "name": "stdout",
     "output_type": "stream",
     "text": [
      "Введите ФИО: Петров Петр\n",
      "Введите новую группу: C\n"
     ]
    }
   ],
   "source": [
    "FIO = input('Введите ФИО: ')\n",
    "new_group = input('Введите новую группу: ')"
   ]
  },
  {
   "cell_type": "code",
   "execution_count": 279,
   "metadata": {},
   "outputs": [],
   "source": [
    "for student in mydict.values():\n",
    "    if student[0] == FIO:\n",
    "        student[2] = new_group\n",
    "    "
   ]
  },
  {
   "cell_type": "code",
   "execution_count": 280,
   "metadata": {},
   "outputs": [
    {
     "data": {
      "text/plain": [
       "{1: ['Иванов Иван', 18, 'A'],\n",
       " 2: ['Петров Петр', 17, 'C'],\n",
       " 3: ['Сидоров Андрей', 18, 'A']}"
      ]
     },
     "execution_count": 280,
     "metadata": {},
     "output_type": "execute_result"
    }
   ],
   "source": [
    "mydict"
   ]
  },
  {
   "cell_type": "markdown",
   "metadata": {},
   "source": [
    "Добавьте к задаче No6 для словаря возможность (без преобразования словаря обратно в список) изменить возраст студента."
   ]
  },
  {
   "cell_type": "code",
   "execution_count": 281,
   "metadata": {},
   "outputs": [
    {
     "name": "stdout",
     "output_type": "stream",
     "text": [
      "Введите ФИО: Сидоров Андрей\n",
      "Введите новый возраст: 16\n"
     ]
    }
   ],
   "source": [
    "FIO = input('Введите ФИО: ')\n",
    "new_age = input('Введите новый возраст: ')\n",
    "\n",
    "for student in mydict.values():\n",
    "    if student[0] == FIO:\n",
    "        student[1] = new_age"
   ]
  },
  {
   "cell_type": "code",
   "execution_count": 283,
   "metadata": {},
   "outputs": [
    {
     "data": {
      "text/plain": [
       "{1: ['Иванов Иван', 18, 'A'],\n",
       " 2: ['Петров Петр', 17, 'C'],\n",
       " 3: ['Сидоров Андрей', '16', 'A']}"
      ]
     },
     "execution_count": 283,
     "metadata": {},
     "output_type": "execute_result"
    }
   ],
   "source": [
    "mydict"
   ]
  },
  {
   "cell_type": "code",
   "execution_count": null,
   "metadata": {},
   "outputs": [],
   "source": []
  }
 ],
 "metadata": {
  "kernelspec": {
   "display_name": "Python 3",
   "language": "python",
   "name": "python3"
  },
  "language_info": {
   "codemirror_mode": {
    "name": "ipython",
    "version": 3
   },
   "file_extension": ".py",
   "mimetype": "text/x-python",
   "name": "python",
   "nbconvert_exporter": "python",
   "pygments_lexer": "ipython3",
   "version": "3.6.5"
  }
 },
 "nbformat": 4,
 "nbformat_minor": 2
}
