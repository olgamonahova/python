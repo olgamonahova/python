{
 "cells": [
  {
   "cell_type": "code",
   "execution_count": 1,
   "metadata": {},
   "outputs": [
    {
     "name": "stderr",
     "output_type": "stream",
     "text": [
      "/Users/olgamonahova/anaconda3/lib/python3.6/site-packages/sklearn/cross_validation.py:41: DeprecationWarning: This module was deprecated in version 0.18 in favor of the model_selection module into which all the refactored classes and functions are moved. Also note that the interface of the new CV iterators are different from that of this module. This module will be removed in 0.20.\n",
      "  \"This module will be removed in 0.20.\", DeprecationWarning)\n"
     ]
    }
   ],
   "source": [
    "import pandas as pd\n",
    "import numpy as np\n",
    "import matplotlib.pyplot as plt\n",
    "import seaborn as sns\n",
    "%matplotlib inline\n",
    "\n",
    "from sklearn.model_selection import train_test_split\n",
    "from sklearn.cross_validation import train_test_split\n",
    "from sklearn.preprocessing import StandardScaler\n",
    "from sklearn.decomposition import PCA\n",
    "\n",
    "import xgboost\n",
    "from sklearn.metrics import roc_auc_score, roc_curve\n",
    "\n",
    "from sklearn.ensemble import RandomForestClassifier\n",
    "from sklearn.model_selection import cross_validate\n",
    "from sklearn.linear_model import LogisticRegression,LinearRegression, Ridge, Lasso\n",
    "from sklearn.metrics import r2_score"
   ]
  },
  {
   "cell_type": "markdown",
   "metadata": {},
   "source": [
    "## Kobe Bryant  shot selection"
   ]
  },
  {
   "cell_type": "markdown",
   "metadata": {},
   "source": [
    "Cсылка на соревнование: https://www.kaggle.com/c/kobe-bryant-shot-selection"
   ]
  },
  {
   "cell_type": "markdown",
   "metadata": {},
   "source": [
    "Goal: Fun and education"
   ]
  },
  {
   "cell_type": "markdown",
   "metadata": {},
   "source": [
    "Using 20 years of data on Kobe's swishes and misses, can you predict which shots will find the bottom of the net? This competition is well suited for practicing classification basics, feature engineering, and time series analysis. Practice got Kobe an eight-figure contract and 5 championship rings. What will it get you?"
   ]
  },
  {
   "cell_type": "markdown",
   "metadata": {},
   "source": [
    "This data contains the location and circumstances of every field goal attempted by Kobe Bryant took during his 20-year career. Your task is to predict whether the basket went in (shot_made_flag).\n",
    "\n",
    "We have removed 5000 of the shot_made_flags (represented as missing values in the csv file). These are the test set shots for which you must submit a prediction. You are provided a sample submission file with the correct shot_ids needed for a valid prediction."
   ]
  },
  {
   "cell_type": "code",
   "execution_count": 2,
   "metadata": {},
   "outputs": [],
   "source": [
    "raw_data = pd.read_csv('data/Kobe.csv')"
   ]
  },
  {
   "cell_type": "code",
   "execution_count": 3,
   "metadata": {},
   "outputs": [
    {
     "data": {
      "text/html": [
       "<div>\n",
       "<style scoped>\n",
       "    .dataframe tbody tr th:only-of-type {\n",
       "        vertical-align: middle;\n",
       "    }\n",
       "\n",
       "    .dataframe tbody tr th {\n",
       "        vertical-align: top;\n",
       "    }\n",
       "\n",
       "    .dataframe thead th {\n",
       "        text-align: right;\n",
       "    }\n",
       "</style>\n",
       "<table border=\"1\" class=\"dataframe\">\n",
       "  <thead>\n",
       "    <tr style=\"text-align: right;\">\n",
       "      <th></th>\n",
       "      <th>action_type</th>\n",
       "      <th>combined_shot_type</th>\n",
       "      <th>game_event_id</th>\n",
       "      <th>game_id</th>\n",
       "      <th>lat</th>\n",
       "      <th>loc_x</th>\n",
       "      <th>loc_y</th>\n",
       "      <th>lon</th>\n",
       "      <th>minutes_remaining</th>\n",
       "      <th>period</th>\n",
       "      <th>...</th>\n",
       "      <th>shot_type</th>\n",
       "      <th>shot_zone_area</th>\n",
       "      <th>shot_zone_basic</th>\n",
       "      <th>shot_zone_range</th>\n",
       "      <th>team_id</th>\n",
       "      <th>team_name</th>\n",
       "      <th>game_date</th>\n",
       "      <th>matchup</th>\n",
       "      <th>opponent</th>\n",
       "      <th>shot_id</th>\n",
       "    </tr>\n",
       "  </thead>\n",
       "  <tbody>\n",
       "    <tr>\n",
       "      <th>0</th>\n",
       "      <td>Jump Shot</td>\n",
       "      <td>Jump Shot</td>\n",
       "      <td>10</td>\n",
       "      <td>20000012</td>\n",
       "      <td>33.9723</td>\n",
       "      <td>167</td>\n",
       "      <td>72</td>\n",
       "      <td>-118.1028</td>\n",
       "      <td>10</td>\n",
       "      <td>1</td>\n",
       "      <td>...</td>\n",
       "      <td>2PT Field Goal</td>\n",
       "      <td>Right Side(R)</td>\n",
       "      <td>Mid-Range</td>\n",
       "      <td>16-24 ft.</td>\n",
       "      <td>1610612747</td>\n",
       "      <td>Los Angeles Lakers</td>\n",
       "      <td>2000-10-31</td>\n",
       "      <td>LAL @ POR</td>\n",
       "      <td>POR</td>\n",
       "      <td>1</td>\n",
       "    </tr>\n",
       "    <tr>\n",
       "      <th>1</th>\n",
       "      <td>Jump Shot</td>\n",
       "      <td>Jump Shot</td>\n",
       "      <td>12</td>\n",
       "      <td>20000012</td>\n",
       "      <td>34.0443</td>\n",
       "      <td>-157</td>\n",
       "      <td>0</td>\n",
       "      <td>-118.4268</td>\n",
       "      <td>10</td>\n",
       "      <td>1</td>\n",
       "      <td>...</td>\n",
       "      <td>2PT Field Goal</td>\n",
       "      <td>Left Side(L)</td>\n",
       "      <td>Mid-Range</td>\n",
       "      <td>8-16 ft.</td>\n",
       "      <td>1610612747</td>\n",
       "      <td>Los Angeles Lakers</td>\n",
       "      <td>2000-10-31</td>\n",
       "      <td>LAL @ POR</td>\n",
       "      <td>POR</td>\n",
       "      <td>2</td>\n",
       "    </tr>\n",
       "    <tr>\n",
       "      <th>2</th>\n",
       "      <td>Jump Shot</td>\n",
       "      <td>Jump Shot</td>\n",
       "      <td>35</td>\n",
       "      <td>20000012</td>\n",
       "      <td>33.9093</td>\n",
       "      <td>-101</td>\n",
       "      <td>135</td>\n",
       "      <td>-118.3708</td>\n",
       "      <td>7</td>\n",
       "      <td>1</td>\n",
       "      <td>...</td>\n",
       "      <td>2PT Field Goal</td>\n",
       "      <td>Left Side Center(LC)</td>\n",
       "      <td>Mid-Range</td>\n",
       "      <td>16-24 ft.</td>\n",
       "      <td>1610612747</td>\n",
       "      <td>Los Angeles Lakers</td>\n",
       "      <td>2000-10-31</td>\n",
       "      <td>LAL @ POR</td>\n",
       "      <td>POR</td>\n",
       "      <td>3</td>\n",
       "    </tr>\n",
       "    <tr>\n",
       "      <th>3</th>\n",
       "      <td>Jump Shot</td>\n",
       "      <td>Jump Shot</td>\n",
       "      <td>43</td>\n",
       "      <td>20000012</td>\n",
       "      <td>33.8693</td>\n",
       "      <td>138</td>\n",
       "      <td>175</td>\n",
       "      <td>-118.1318</td>\n",
       "      <td>6</td>\n",
       "      <td>1</td>\n",
       "      <td>...</td>\n",
       "      <td>2PT Field Goal</td>\n",
       "      <td>Right Side Center(RC)</td>\n",
       "      <td>Mid-Range</td>\n",
       "      <td>16-24 ft.</td>\n",
       "      <td>1610612747</td>\n",
       "      <td>Los Angeles Lakers</td>\n",
       "      <td>2000-10-31</td>\n",
       "      <td>LAL @ POR</td>\n",
       "      <td>POR</td>\n",
       "      <td>4</td>\n",
       "    </tr>\n",
       "    <tr>\n",
       "      <th>4</th>\n",
       "      <td>Driving Dunk Shot</td>\n",
       "      <td>Dunk</td>\n",
       "      <td>155</td>\n",
       "      <td>20000012</td>\n",
       "      <td>34.0443</td>\n",
       "      <td>0</td>\n",
       "      <td>0</td>\n",
       "      <td>-118.2698</td>\n",
       "      <td>6</td>\n",
       "      <td>2</td>\n",
       "      <td>...</td>\n",
       "      <td>2PT Field Goal</td>\n",
       "      <td>Center(C)</td>\n",
       "      <td>Restricted Area</td>\n",
       "      <td>Less Than 8 ft.</td>\n",
       "      <td>1610612747</td>\n",
       "      <td>Los Angeles Lakers</td>\n",
       "      <td>2000-10-31</td>\n",
       "      <td>LAL @ POR</td>\n",
       "      <td>POR</td>\n",
       "      <td>5</td>\n",
       "    </tr>\n",
       "  </tbody>\n",
       "</table>\n",
       "<p>5 rows × 25 columns</p>\n",
       "</div>"
      ],
      "text/plain": [
       "         action_type combined_shot_type  game_event_id   game_id      lat  \\\n",
       "0          Jump Shot          Jump Shot             10  20000012  33.9723   \n",
       "1          Jump Shot          Jump Shot             12  20000012  34.0443   \n",
       "2          Jump Shot          Jump Shot             35  20000012  33.9093   \n",
       "3          Jump Shot          Jump Shot             43  20000012  33.8693   \n",
       "4  Driving Dunk Shot               Dunk            155  20000012  34.0443   \n",
       "\n",
       "   loc_x  loc_y       lon  minutes_remaining  period   ...          shot_type  \\\n",
       "0    167     72 -118.1028                 10       1   ...     2PT Field Goal   \n",
       "1   -157      0 -118.4268                 10       1   ...     2PT Field Goal   \n",
       "2   -101    135 -118.3708                  7       1   ...     2PT Field Goal   \n",
       "3    138    175 -118.1318                  6       1   ...     2PT Field Goal   \n",
       "4      0      0 -118.2698                  6       2   ...     2PT Field Goal   \n",
       "\n",
       "          shot_zone_area  shot_zone_basic  shot_zone_range     team_id  \\\n",
       "0          Right Side(R)        Mid-Range        16-24 ft.  1610612747   \n",
       "1           Left Side(L)        Mid-Range         8-16 ft.  1610612747   \n",
       "2   Left Side Center(LC)        Mid-Range        16-24 ft.  1610612747   \n",
       "3  Right Side Center(RC)        Mid-Range        16-24 ft.  1610612747   \n",
       "4              Center(C)  Restricted Area  Less Than 8 ft.  1610612747   \n",
       "\n",
       "            team_name   game_date    matchup opponent  shot_id  \n",
       "0  Los Angeles Lakers  2000-10-31  LAL @ POR      POR        1  \n",
       "1  Los Angeles Lakers  2000-10-31  LAL @ POR      POR        2  \n",
       "2  Los Angeles Lakers  2000-10-31  LAL @ POR      POR        3  \n",
       "3  Los Angeles Lakers  2000-10-31  LAL @ POR      POR        4  \n",
       "4  Los Angeles Lakers  2000-10-31  LAL @ POR      POR        5  \n",
       "\n",
       "[5 rows x 25 columns]"
      ]
     },
     "execution_count": 3,
     "metadata": {},
     "output_type": "execute_result"
    }
   ],
   "source": [
    "raw_data.head()"
   ]
  },
  {
   "cell_type": "code",
   "execution_count": 4,
   "metadata": {},
   "outputs": [],
   "source": [
    "target = 'shot_made_flag'"
   ]
  },
  {
   "cell_type": "markdown",
   "metadata": {},
   "source": [
    "**Задания:**\n",
    "\n",
    "1. Провести анализ данных. Много хороших примеров анализа можно посмотреть здесь https://www.kaggle.com/c/kobe-bryant-shot-selection/kernels\n",
    "2. Подготовить фичи для обучения модели - нагенерить признаков, обработать пропущенные значения, проверить на возможные выбросы, обработать категориальные признаки и др.\n",
    "3. Обучить линейную модель, Lasso, Ridge на тех же признаках - построить сравнительную таблицу коэффициентов, сделать заключения о том, как меняется величина коэффициентов, какие зануляются. Посчитать RSS\n",
    "\n",
    "**Дополнительно**\n",
    "4. Сравнить результаты на тестовом наборе данных - сделать train_test_split в самом начале, подготовить переменные, сравнить результаты работы классификаторов (те же 3), метрика ROC AUC"
   ]
  },
  {
   "cell_type": "code",
   "execution_count": 5,
   "metadata": {},
   "outputs": [
    {
     "name": "stdout",
     "output_type": "stream",
     "text": [
      "<class 'pandas.core.frame.DataFrame'>\n",
      "RangeIndex: 30697 entries, 0 to 30696\n",
      "Data columns (total 25 columns):\n",
      "action_type           30697 non-null object\n",
      "combined_shot_type    30697 non-null object\n",
      "game_event_id         30697 non-null int64\n",
      "game_id               30697 non-null int64\n",
      "lat                   30697 non-null float64\n",
      "loc_x                 30697 non-null int64\n",
      "loc_y                 30697 non-null int64\n",
      "lon                   30697 non-null float64\n",
      "minutes_remaining     30697 non-null int64\n",
      "period                30697 non-null int64\n",
      "playoffs              30697 non-null int64\n",
      "season                30697 non-null object\n",
      "seconds_remaining     30697 non-null int64\n",
      "shot_distance         30697 non-null int64\n",
      "shot_made_flag        25697 non-null float64\n",
      "shot_type             30697 non-null object\n",
      "shot_zone_area        30697 non-null object\n",
      "shot_zone_basic       30697 non-null object\n",
      "shot_zone_range       30697 non-null object\n",
      "team_id               30697 non-null int64\n",
      "team_name             30697 non-null object\n",
      "game_date             30697 non-null object\n",
      "matchup               30697 non-null object\n",
      "opponent              30697 non-null object\n",
      "shot_id               30697 non-null int64\n",
      "dtypes: float64(3), int64(11), object(11)\n",
      "memory usage: 5.9+ MB\n"
     ]
    }
   ],
   "source": [
    "raw_data.info()"
   ]
  },
  {
   "cell_type": "code",
   "execution_count": 6,
   "metadata": {},
   "outputs": [],
   "source": [
    "# пропущены только значения в целевой переменной shot_made_flag, исключим их\n",
    "raw_data = raw_data.dropna()"
   ]
  },
  {
   "cell_type": "code",
   "execution_count": 7,
   "metadata": {},
   "outputs": [],
   "source": [
    "# посчитаем общее время до конца игры, потом секунды и минуты удалим\n",
    "\n",
    "raw_data['remaining_time'] = raw_data['minutes_remaining'] * 60 + raw_data['seconds_remaining']\n",
    "\n",
    "# заменим 20 самых редких action types на'Other'\n",
    "rare_action_types = raw_data['action_type'].value_counts().sort_values().index.values[:20]\n",
    "raw_data.loc[raw_data['action_type'].isin(rare_action_types), 'action_type'] = 'Other'\n",
    "\n",
    "\n",
    "# Updtate: \n",
    "# Matchup - (away/home)\n",
    "raw_data['home_play'] = raw_data['matchup'].str.contains('vs').astype('int')\n",
    "raw_data.drop('matchup', axis=1, inplace=True)\n",
    "\n",
    "# Game date\n",
    "raw_data['game_date'] = pd.to_datetime(raw_data['game_date'])\n",
    "raw_data['game_year'] = raw_data['game_date'].dt.year\n",
    "raw_data['game_month'] = raw_data['game_date'].dt.month\n",
    "#raw_data.drop('game_date', axis=1, inplace=True)"
   ]
  },
  {
   "cell_type": "code",
   "execution_count": 8,
   "metadata": {},
   "outputs": [
    {
     "data": {
      "image/png": "[encoded data removed]",
      "text/plain": [
       "<Figure size 1080x1800 with 8 Axes>"
      ]
     },
     "metadata": {},
     "output_type": "display_data"
    }
   ],
   "source": [
    "# первоисчтоник - https://www.kaggle.com/khozzy/kobe-shots-show-me-your-best-model\n",
    "\n",
    "f, axarr = plt.subplots(8, figsize=(15, 25))\n",
    "\n",
    "sns.countplot(x=\"combined_shot_type\", hue=\"shot_made_flag\", data=raw_data, ax=axarr[0])\n",
    "sns.countplot(x=\"season\", hue=\"shot_made_flag\", data=raw_data, ax=axarr[1])\n",
    "sns.countplot(x=\"period\", hue=\"shot_made_flag\", data=raw_data, ax=axarr[2])\n",
    "sns.countplot(x=\"playoffs\", hue=\"shot_made_flag\", data=raw_data, ax=axarr[3])\n",
    "sns.countplot(x=\"shot_type\", hue=\"shot_made_flag\", data=raw_data, ax=axarr[4])\n",
    "sns.countplot(x=\"shot_zone_area\", hue=\"shot_made_flag\", data=raw_data, ax=axarr[5])\n",
    "sns.countplot(x=\"shot_zone_basic\", hue=\"shot_made_flag\", data=raw_data, ax=axarr[6])\n",
    "sns.countplot(x=\"shot_zone_range\", hue=\"shot_made_flag\", data=raw_data, ax=axarr[7])\n",
    "\n",
    "axarr[0].set_title('Combined shot type')\n",
    "axarr[1].set_title('Season')\n",
    "axarr[2].set_title('Period')\n",
    "axarr[3].set_title('Playoffs')\n",
    "axarr[4].set_title('Shot Type')\n",
    "axarr[5].set_title('Shot Zone Area')\n",
    "axarr[6].set_title('Shot Zone Basic')\n",
    "axarr[7].set_title('Shot Zone Range')\n",
    "\n",
    "#axarr[7].set_title(szr_dict)\n",
    "\n",
    "plt.tight_layout()\n",
    "plt.show()"
   ]
  },
  {
   "cell_type": "code",
   "execution_count": 9,
   "metadata": {},
   "outputs": [
    {
     "data": {
      "image/png": "[encoded data removed]",
      "text/plain": [
       "<Figure size 1440x1440 with 2 Axes>"
      ]
     },
     "metadata": {},
     "output_type": "display_data"
    }
   ],
   "source": [
    "# Stolen with pride у коллег во время лабы :)\n",
    "\n",
    "corr = raw_data.corr()\n",
    "\n",
    "plt.figure(figsize=(20,20))\n",
    "# Create a mask to hide the upper triangle of the correlation matrix (which is symmetric)\n",
    "mask = np.zeros_like(corr, dtype=np.bool)\n",
    "mask[np.triu_indices_from(mask)] = True\n",
    "\n",
    "sns.heatmap(corr, mask=mask, vmax=1, center=0, annot=True, fmt='.1f',\n",
    "            square=True, linewidths=.5, cbar_kws={\"shrink\": .5});"
   ]
  },
  {
   "cell_type": "code",
   "execution_count": 10,
   "metadata": {},
   "outputs": [],
   "source": [
    "scaler = StandardScaler()"
   ]
  },
  {
   "cell_type": "code",
   "execution_count": 11,
   "metadata": {},
   "outputs": [],
   "source": [
    "df_train = raw_data.copy()\n",
    "\n",
    "cols_to_drop = ['game_event_id', 'game_id', 'team_id', 'game_date', 'shot_id','minutes_remaining', 'seconds_remaining']\n",
    "\n",
    "df_train = df_train.drop(labels = cols_to_drop, axis = 1)"
   ]
  },
  {
   "cell_type": "code",
   "execution_count": 12,
   "metadata": {},
   "outputs": [
    {
     "data": {
      "text/html": [
       "<div>\n",
       "<style scoped>\n",
       "    .dataframe tbody tr th:only-of-type {\n",
       "        vertical-align: middle;\n",
       "    }\n",
       "\n",
       "    .dataframe tbody tr th {\n",
       "        vertical-align: top;\n",
       "    }\n",
       "\n",
       "    .dataframe thead th {\n",
       "        text-align: right;\n",
       "    }\n",
       "</style>\n",
       "<table border=\"1\" class=\"dataframe\">\n",
       "  <thead>\n",
       "    <tr style=\"text-align: right;\">\n",
       "      <th></th>\n",
       "      <th>action_type</th>\n",
       "      <th>combined_shot_type</th>\n",
       "      <th>lat</th>\n",
       "      <th>loc_x</th>\n",
       "      <th>loc_y</th>\n",
       "      <th>lon</th>\n",
       "      <th>period</th>\n",
       "      <th>playoffs</th>\n",
       "      <th>season</th>\n",
       "      <th>shot_distance</th>\n",
       "      <th>...</th>\n",
       "      <th>shot_type</th>\n",
       "      <th>shot_zone_area</th>\n",
       "      <th>shot_zone_basic</th>\n",
       "      <th>shot_zone_range</th>\n",
       "      <th>team_name</th>\n",
       "      <th>opponent</th>\n",
       "      <th>remaining_time</th>\n",
       "      <th>home_play</th>\n",
       "      <th>game_year</th>\n",
       "      <th>game_month</th>\n",
       "    </tr>\n",
       "  </thead>\n",
       "  <tbody>\n",
       "    <tr>\n",
       "      <th>1</th>\n",
       "      <td>Jump Shot</td>\n",
       "      <td>Jump Shot</td>\n",
       "      <td>34.0443</td>\n",
       "      <td>-157</td>\n",
       "      <td>0</td>\n",
       "      <td>-118.4268</td>\n",
       "      <td>1</td>\n",
       "      <td>0</td>\n",
       "      <td>2000-01</td>\n",
       "      <td>15</td>\n",
       "      <td>...</td>\n",
       "      <td>2PT Field Goal</td>\n",
       "      <td>Left Side(L)</td>\n",
       "      <td>Mid-Range</td>\n",
       "      <td>8-16 ft.</td>\n",
       "      <td>Los Angeles Lakers</td>\n",
       "      <td>POR</td>\n",
       "      <td>622</td>\n",
       "      <td>0</td>\n",
       "      <td>2000</td>\n",
       "      <td>10</td>\n",
       "    </tr>\n",
       "    <tr>\n",
       "      <th>2</th>\n",
       "      <td>Jump Shot</td>\n",
       "      <td>Jump Shot</td>\n",
       "      <td>33.9093</td>\n",
       "      <td>-101</td>\n",
       "      <td>135</td>\n",
       "      <td>-118.3708</td>\n",
       "      <td>1</td>\n",
       "      <td>0</td>\n",
       "      <td>2000-01</td>\n",
       "      <td>16</td>\n",
       "      <td>...</td>\n",
       "      <td>2PT Field Goal</td>\n",
       "      <td>Left Side Center(LC)</td>\n",
       "      <td>Mid-Range</td>\n",
       "      <td>16-24 ft.</td>\n",
       "      <td>Los Angeles Lakers</td>\n",
       "      <td>POR</td>\n",
       "      <td>465</td>\n",
       "      <td>0</td>\n",
       "      <td>2000</td>\n",
       "      <td>10</td>\n",
       "    </tr>\n",
       "    <tr>\n",
       "      <th>3</th>\n",
       "      <td>Jump Shot</td>\n",
       "      <td>Jump Shot</td>\n",
       "      <td>33.8693</td>\n",
       "      <td>138</td>\n",
       "      <td>175</td>\n",
       "      <td>-118.1318</td>\n",
       "      <td>1</td>\n",
       "      <td>0</td>\n",
       "      <td>2000-01</td>\n",
       "      <td>22</td>\n",
       "      <td>...</td>\n",
       "      <td>2PT Field Goal</td>\n",
       "      <td>Right Side Center(RC)</td>\n",
       "      <td>Mid-Range</td>\n",
       "      <td>16-24 ft.</td>\n",
       "      <td>Los Angeles Lakers</td>\n",
       "      <td>POR</td>\n",
       "      <td>412</td>\n",
       "      <td>0</td>\n",
       "      <td>2000</td>\n",
       "      <td>10</td>\n",
       "    </tr>\n",
       "    <tr>\n",
       "      <th>4</th>\n",
       "      <td>Driving Dunk Shot</td>\n",
       "      <td>Dunk</td>\n",
       "      <td>34.0443</td>\n",
       "      <td>0</td>\n",
       "      <td>0</td>\n",
       "      <td>-118.2698</td>\n",
       "      <td>2</td>\n",
       "      <td>0</td>\n",
       "      <td>2000-01</td>\n",
       "      <td>0</td>\n",
       "      <td>...</td>\n",
       "      <td>2PT Field Goal</td>\n",
       "      <td>Center(C)</td>\n",
       "      <td>Restricted Area</td>\n",
       "      <td>Less Than 8 ft.</td>\n",
       "      <td>Los Angeles Lakers</td>\n",
       "      <td>POR</td>\n",
       "      <td>379</td>\n",
       "      <td>0</td>\n",
       "      <td>2000</td>\n",
       "      <td>10</td>\n",
       "    </tr>\n",
       "    <tr>\n",
       "      <th>5</th>\n",
       "      <td>Jump Shot</td>\n",
       "      <td>Jump Shot</td>\n",
       "      <td>34.0553</td>\n",
       "      <td>-145</td>\n",
       "      <td>-11</td>\n",
       "      <td>-118.4148</td>\n",
       "      <td>3</td>\n",
       "      <td>0</td>\n",
       "      <td>2000-01</td>\n",
       "      <td>14</td>\n",
       "      <td>...</td>\n",
       "      <td>2PT Field Goal</td>\n",
       "      <td>Left Side(L)</td>\n",
       "      <td>Mid-Range</td>\n",
       "      <td>8-16 ft.</td>\n",
       "      <td>Los Angeles Lakers</td>\n",
       "      <td>POR</td>\n",
       "      <td>572</td>\n",
       "      <td>0</td>\n",
       "      <td>2000</td>\n",
       "      <td>10</td>\n",
       "    </tr>\n",
       "  </tbody>\n",
       "</table>\n",
       "<p>5 rows × 21 columns</p>\n",
       "</div>"
      ],
      "text/plain": [
       "         action_type combined_shot_type      lat  loc_x  loc_y       lon  \\\n",
       "1          Jump Shot          Jump Shot  34.0443   -157      0 -118.4268   \n",
       "2          Jump Shot          Jump Shot  33.9093   -101    135 -118.3708   \n",
       "3          Jump Shot          Jump Shot  33.8693    138    175 -118.1318   \n",
       "4  Driving Dunk Shot               Dunk  34.0443      0      0 -118.2698   \n",
       "5          Jump Shot          Jump Shot  34.0553   -145    -11 -118.4148   \n",
       "\n",
       "   period  playoffs   season  shot_distance     ...           shot_type  \\\n",
       "1       1         0  2000-01             15     ...      2PT Field Goal   \n",
       "2       1         0  2000-01             16     ...      2PT Field Goal   \n",
       "3       1         0  2000-01             22     ...      2PT Field Goal   \n",
       "4       2         0  2000-01              0     ...      2PT Field Goal   \n",
       "5       3         0  2000-01             14     ...      2PT Field Goal   \n",
       "\n",
       "          shot_zone_area  shot_zone_basic  shot_zone_range  \\\n",
       "1           Left Side(L)        Mid-Range         8-16 ft.   \n",
       "2   Left Side Center(LC)        Mid-Range        16-24 ft.   \n",
       "3  Right Side Center(RC)        Mid-Range        16-24 ft.   \n",
       "4              Center(C)  Restricted Area  Less Than 8 ft.   \n",
       "5           Left Side(L)        Mid-Range         8-16 ft.   \n",
       "\n",
       "            team_name opponent remaining_time  home_play  game_year  \\\n",
       "1  Los Angeles Lakers      POR            622          0       2000   \n",
       "2  Los Angeles Lakers      POR            465          0       2000   \n",
       "3  Los Angeles Lakers      POR            412          0       2000   \n",
       "4  Los Angeles Lakers      POR            379          0       2000   \n",
       "5  Los Angeles Lakers      POR            572          0       2000   \n",
       "\n",
       "   game_month  \n",
       "1          10  \n",
       "2          10  \n",
       "3          10  \n",
       "4          10  \n",
       "5          10  \n",
       "\n",
       "[5 rows x 21 columns]"
      ]
     },
     "execution_count": 12,
     "metadata": {},
     "output_type": "execute_result"
    }
   ],
   "source": [
    "df_train.head()"
   ]
  },
  {
   "cell_type": "code",
   "execution_count": 13,
   "metadata": {},
   "outputs": [],
   "source": [
    "df_train_y = df_train.shot_made_flag\n",
    "df_train = df_train.drop(['shot_made_flag'], axis=1)\n",
    "df_train = pd.get_dummies(df_train)"
   ]
  },
  {
   "cell_type": "code",
   "execution_count": 14,
   "metadata": {},
   "outputs": [
    {
     "data": {
      "text/plain": [
       "(25697, 127)"
      ]
     },
     "execution_count": 14,
     "metadata": {},
     "output_type": "execute_result"
    }
   ],
   "source": [
    "df_train.shape"
   ]
  },
  {
   "cell_type": "code",
   "execution_count": 15,
   "metadata": {},
   "outputs": [
    {
     "data": {
      "text/plain": [
       "Text(0,0.5,'explained_variance_ratio_')"
      ]
     },
     "execution_count": 15,
     "metadata": {},
     "output_type": "execute_result"
    },
    {
     "data": {
      "image/png": "[encoded data removed]",
      "text/plain": [
       "<Figure size 432x288 with 1 Axes>"
      ]
     },
     "metadata": {},
     "output_type": "display_data"
    }
   ],
   "source": [
    "pca = PCA().fit(scaler.fit_transform(df_train))\n",
    "\n",
    "cum_evr = np.cumsum(pca.explained_variance_ratio_)\n",
    "xs = np.arange(cum_evr.size) + 1\n",
    "plt.plot(xs, cum_evr, linewidth=2)\n",
    "plt.grid()\n",
    "plt.xlabel('n_components')\n",
    "plt.ylabel('explained_variance_ratio_')"
   ]
  },
  {
   "cell_type": "code",
   "execution_count": 16,
   "metadata": {},
   "outputs": [
    {
     "name": "stdout",
     "output_type": "stream",
     "text": [
      "n-components=1, explained variance 0.071\n",
      "n-components=2, explained variance 0.109\n",
      "n-components=3, explained variance 0.135\n",
      "n-components=4, explained variance 0.158\n",
      "n-components=5, explained variance 0.178\n",
      "n-components=6, explained variance 0.196\n",
      "n-components=7, explained variance 0.213\n",
      "n-components=8, explained variance 0.229\n",
      "n-components=9, explained variance 0.244\n",
      "n-components=10, explained variance 0.259\n",
      "n-components=11, explained variance 0.274\n",
      "n-components=12, explained variance 0.286\n",
      "n-components=13, explained variance 0.297\n",
      "n-components=14, explained variance 0.307\n",
      "n-components=15, explained variance 0.318\n",
      "n-components=16, explained variance 0.328\n",
      "n-components=17, explained variance 0.338\n",
      "n-components=18, explained variance 0.348\n",
      "n-components=19, explained variance 0.358\n",
      "n-components=20, explained variance 0.368\n",
      "n-components=21, explained variance 0.378\n",
      "n-components=22, explained variance 0.387\n",
      "n-components=23, explained variance 0.397\n",
      "n-components=24, explained variance 0.406\n",
      "n-components=25, explained variance 0.415\n",
      "n-components=26, explained variance 0.424\n",
      "n-components=27, explained variance 0.433\n",
      "n-components=28, explained variance 0.443\n",
      "n-components=29, explained variance 0.451\n",
      "n-components=30, explained variance 0.460\n",
      "n-components=31, explained variance 0.469\n",
      "n-components=32, explained variance 0.478\n",
      "n-components=33, explained variance 0.487\n",
      "n-components=34, explained variance 0.495\n",
      "n-components=35, explained variance 0.504\n",
      "n-components=36, explained variance 0.512\n",
      "n-components=37, explained variance 0.521\n",
      "n-components=38, explained variance 0.529\n",
      "n-components=39, explained variance 0.538\n",
      "n-components=40, explained variance 0.546\n",
      "n-components=41, explained variance 0.555\n",
      "n-components=42, explained variance 0.563\n",
      "n-components=43, explained variance 0.571\n",
      "n-components=44, explained variance 0.579\n",
      "n-components=45, explained variance 0.588\n",
      "n-components=46, explained variance 0.596\n",
      "n-components=47, explained variance 0.604\n",
      "n-components=48, explained variance 0.612\n",
      "n-components=49, explained variance 0.620\n",
      "n-components=50, explained variance 0.628\n",
      "n-components=51, explained variance 0.637\n",
      "n-components=52, explained variance 0.645\n",
      "n-components=53, explained variance 0.653\n",
      "n-components=54, explained variance 0.661\n",
      "n-components=55, explained variance 0.669\n",
      "n-components=56, explained variance 0.677\n",
      "n-components=57, explained variance 0.685\n",
      "n-components=58, explained variance 0.693\n",
      "n-components=59, explained variance 0.701\n",
      "n-components=60, explained variance 0.709\n",
      "n-components=61, explained variance 0.716\n",
      "n-components=62, explained variance 0.724\n",
      "n-components=63, explained variance 0.732\n",
      "n-components=64, explained variance 0.740\n",
      "n-components=65, explained variance 0.748\n",
      "n-components=66, explained variance 0.756\n",
      "n-components=67, explained variance 0.764\n",
      "n-components=68, explained variance 0.771\n",
      "n-components=69, explained variance 0.779\n",
      "n-components=70, explained variance 0.787\n",
      "n-components=71, explained variance 0.794\n",
      "n-components=72, explained variance 0.802\n",
      "n-components=73, explained variance 0.810\n",
      "n-components=74, explained variance 0.817\n",
      "n-components=75, explained variance 0.825\n",
      "n-components=76, explained variance 0.833\n",
      "n-components=77, explained variance 0.840\n",
      "n-components=78, explained variance 0.848\n",
      "n-components=79, explained variance 0.855\n",
      "n-components=80, explained variance 0.862\n",
      "n-components=81, explained variance 0.870\n",
      "n-components=82, explained variance 0.877\n",
      "n-components=83, explained variance 0.884\n",
      "n-components=84, explained variance 0.891\n",
      "n-components=85, explained variance 0.898\n",
      "n-components=86, explained variance 0.905\n",
      "n-components=87, explained variance 0.912\n",
      "n-components=88, explained variance 0.919\n",
      "n-components=89, explained variance 0.926\n",
      "n-components=90, explained variance 0.933\n",
      "n-components=91, explained variance 0.940\n",
      "n-components=92, explained variance 0.946\n",
      "n-components=93, explained variance 0.952\n",
      "n-components=94, explained variance 0.959\n",
      "n-components=95, explained variance 0.965\n",
      "n-components=96, explained variance 0.971\n",
      "n-components=97, explained variance 0.977\n",
      "n-components=98, explained variance 0.982\n"
     ]
    }
   ],
   "source": [
    "scaler = StandardScaler()\n",
    "x_scaled = scaler.fit(df_train)\n",
    "x_train_scaled=  x_scaled.transform(df_train)\n",
    "\n",
    "pca = PCA(n_components=98)\n",
    "pca.fit(x_train_scaled)\n",
    "X_pca = pca.transform(x_train_scaled)\n",
    "\n",
    "for i in range(1, X_pca.shape[1] + 1):\n",
    "    print(\"n-components=%s, explained variance %.3f\" % (i, sum(pca.explained_variance_ratio_[:i])))"
   ]
  },
  {
   "cell_type": "markdown",
   "metadata": {},
   "source": [
    " около 97 переменных объясняют 80% дисперсии. Как отобрать именно эти 98 переменных?"
   ]
  },
  {
   "cell_type": "code",
   "execution_count": 17,
   "metadata": {},
   "outputs": [],
   "source": [
    "X = df_train\n",
    "y = df_train_y"
   ]
  },
  {
   "cell_type": "code",
   "execution_count": 18,
   "metadata": {},
   "outputs": [
    {
     "name": "stdout",
     "output_type": "stream",
     "text": [
      "863128975498.571\n",
      "[ 2.61220430e+06 -7.29875958e+06  2.61220417e+03  7.29875958e+09\n",
      " -1.18129170e-02  7.72176761e-03  1.70491635e-03  6.04501984e-05\n",
      "  8.46004421e-03 -5.24568558e-02 -5.32341003e-03 -2.48036965e+05\n",
      " -2.48037018e+05 -2.48036925e+05 -2.48036835e+05 -2.48036867e+05\n",
      " -2.48037304e+05 -2.48036980e+05 -2.48036951e+05 -2.48036914e+05\n",
      " -2.48037124e+05 -2.48036853e+05 -2.48037195e+05 -2.48036894e+05\n",
      " -2.48037257e+05 -2.48037022e+05 -2.48037330e+05 -2.48036976e+05\n",
      " -2.48036999e+05 -2.48037466e+05 -2.48037338e+05 -2.48037086e+05\n",
      " -2.48037031e+05 -2.48036992e+05 -2.48037089e+05 -2.48036888e+05\n",
      " -2.48036944e+05 -2.48036993e+05 -2.48036813e+05 -2.48037024e+05\n",
      " -2.48037003e+05 -2.48036922e+05 -2.48037130e+05 -2.48036685e+05\n",
      " -2.48036988e+05 -2.48037163e+05 -2.48037179e+05 -1.10211996e+06\n",
      " -1.10211987e+06 -1.10212004e+06 -1.10212000e+06 -1.10212005e+06\n",
      " -1.10212074e+06 -2.55903151e+05 -2.55903121e+05 -2.55903007e+05\n",
      " -2.55902965e+05 -2.55902912e+05 -2.55902872e+05 -2.55902827e+05\n",
      " -2.55902788e+05 -2.55902727e+05 -2.55902639e+05 -2.55902591e+05\n",
      " -2.55902552e+05 -2.55902497e+05 -2.55902463e+05 -2.55902416e+05\n",
      " -2.55902370e+05 -2.55902319e+05 -2.55902287e+05 -2.55902267e+05\n",
      " -2.55902257e+05  1.24188091e+05  1.24188149e+05  1.19794912e+06\n",
      "  1.27849607e+06  1.27849604e+06  1.27849598e+06  1.27849608e+06\n",
      "  1.27849602e+06  1.56265845e+06  1.56265850e+06  1.51284832e+06\n",
      "  1.56265855e+06  1.51284830e+06  1.51284836e+06  1.56265851e+06\n",
      "  2.82583779e+06  2.77602754e+06  2.82583777e+06  2.85657411e+06\n",
      "  2.82583767e+06  7.81379825e+05  1.27470614e+04  1.27469625e+04\n",
      "  1.27470517e+04  1.27470761e+04  1.27470694e+04  1.27470639e+04\n",
      "  1.27470740e+04  1.27470752e+04  1.27470762e+04  1.27470508e+04\n",
      "  1.27470426e+04  1.27470497e+04  1.27470657e+04  1.27470565e+04\n",
      "  1.27470517e+04  1.27470722e+04  1.27470696e+04  1.27470264e+04\n",
      "  1.27470819e+04  1.27470745e+04  1.27471153e+04  1.27470287e+04\n",
      "  1.27470509e+04  1.27470685e+04  1.27470921e+04  1.27470728e+04\n",
      "  1.27470941e+04  1.27470701e+04  1.27470865e+04  1.27470384e+04\n",
      "  1.27470760e+04  1.27470907e+04  1.27470730e+04]\n",
      "RSS: 5382.089441418648\n",
      "R^2: 0.15239532948032453\n"
     ]
    }
   ],
   "source": [
    "# у линейной регрессии огромные коэффициенты и точка пересечения с осью\n",
    "\n",
    "lm = LinearRegression().fit(X, y)\n",
    "print(lm.intercept_)\n",
    "print(lm.coef_)\n",
    "\n",
    "y_pred = lm.predict(X)\n",
    "rss = sum((y_pred-y) ** 2)\n",
    "R2 = r2_score(y, y_pred)\n",
    "\n",
    "print(\"RSS:\", rss)\n",
    "print(\"R^2:\", R2)"
   ]
  },
  {
   "cell_type": "markdown",
   "metadata": {},
   "source": [
    "у линейной регрессии очень низкий R2"
   ]
  },
  {
   "cell_type": "code",
   "execution_count": 19,
   "metadata": {},
   "outputs": [
    {
     "name": "stdout",
     "output_type": "stream",
     "text": [
      "6.992519402274955\n",
      "[ 1.19924893e-07 -4.95322925e-05 -1.19924891e-04 -4.95322868e-08\n",
      " -1.15904632e-02 -5.34035425e-03 -5.85244231e-04  5.83170613e-05\n",
      "  9.41879138e-03 -3.14023403e-03 -2.80128433e-04  3.06954972e-02\n",
      "  1.43135624e-02  7.36056187e-02  7.98043492e-02  7.43921626e-02\n",
      " -3.23616216e-02  6.74101869e-02  4.39231004e-02  3.27646575e-02\n",
      " -6.59179023e-02  5.84779928e-02 -5.40805736e-02  3.39129204e-02\n",
      " -4.19023674e-02  5.06456994e-02 -1.07211219e-01  1.14512360e-01\n",
      "  2.02276673e-02 -3.25339084e-01 -2.73071661e-01 -1.75642158e-02\n",
      "  8.16419085e-02  1.38726094e-02 -2.80482836e-02  1.79804618e-02\n",
      "  3.42130388e-02  4.67633370e-03  6.46787039e-02  9.63596429e-02\n",
      "  1.64622861e-02  8.09832277e-02  3.22054862e-03 -1.25603207e-01\n",
      "  2.58811993e-02 -2.40671733e-02 -3.94884272e-02  5.83734426e-02\n",
      "  1.82195779e-01 -4.27088479e-02 -4.62884886e-02 -2.00912043e-02\n",
      " -1.31480681e-01 -2.22533331e-02 -4.79625382e-02  5.63024603e-03\n",
      "  1.79328750e-03  9.13199665e-03 -2.44038325e-03 -4.48652091e-03\n",
      " -1.58243204e-02 -3.49001702e-03  3.37777446e-02  3.02818874e-02\n",
      "  2.63808066e-02  3.13494876e-02  1.58662232e-02  1.43395587e-02\n",
      "  8.10407004e-03  1.30832345e-02 -3.03652320e-03 -2.49105174e-02\n",
      " -6.53343894e-02 -8.44384900e-03  8.44384900e-03 -5.51196956e-02\n",
      "  3.91886006e-02  1.64112179e-02 -3.99932841e-02  5.03960149e-02\n",
      " -1.08828536e-02 -3.24163293e-02 -3.73636258e-02  1.43202546e-03\n",
      "  3.89276989e-02 -1.12316749e-02  2.84086023e-02  1.22433035e-02\n",
      "  5.57012213e-02  3.65107428e-02  2.65484328e-02 -5.51196956e-02\n",
      " -6.36407013e-02  0.00000000e+00 -5.00498442e-03 -2.82771610e-02\n",
      " -1.42412165e-02  7.77484516e-03  2.39941270e-03 -1.29643333e-03\n",
      "  7.00370002e-03  9.42585567e-03  7.13390286e-03 -1.29149983e-02\n",
      " -2.16376617e-02 -1.31837350e-02  1.30450787e-03 -7.38671727e-03\n",
      " -9.43318038e-03  3.14389978e-03  3.93204632e-03 -3.23527329e-02\n",
      "  1.44150786e-02  3.80415653e-03  4.17064571e-02 -2.99441529e-02\n",
      " -1.37853952e-02  3.87821558e-03  2.55840603e-02  7.28893052e-03\n",
      "  2.41607187e-02  2.48637733e-03  1.76242189e-02 -2.08220010e-02\n",
      "  8.43966034e-03  1.34865944e-02  5.28773142e-03]\n",
      "RSS: 5397.408609257063\n",
      "R^2: 0.14998277235921154\n"
     ]
    }
   ],
   "source": [
    "# у Ридж коэффициенты стали очень маленькими\n",
    "\n",
    "rg = Ridge(alpha=100).fit(X, y)\n",
    "print(rg.intercept_)\n",
    "print(rg.coef_)\n",
    "y_pred = rg.predict(X)\n",
    "rss = sum((y_pred-y) ** 2)\n",
    "R2 = r2_score(y, y_pred)\n",
    "\n",
    "print(\"RSS:\", rss)\n",
    "print(\"R^2:\", R2)"
   ]
  },
  {
   "cell_type": "markdown",
   "metadata": {},
   "source": [
    "у Ридж также все плохо как у линейной регрессии"
   ]
  },
  {
   "cell_type": "code",
   "execution_count": 20,
   "metadata": {},
   "outputs": [
    {
     "name": "stdout",
     "output_type": "stream",
     "text": [
      "0.501759804834995\n",
      "[ 0.00000000e+00 -0.00000000e+00 -7.01249537e-04 -0.00000000e+00\n",
      " -0.00000000e+00 -0.00000000e+00 -0.00000000e+00  2.61116399e-05\n",
      "  0.00000000e+00 -0.00000000e+00 -0.00000000e+00  0.00000000e+00\n",
      "  0.00000000e+00  0.00000000e+00  0.00000000e+00  0.00000000e+00\n",
      " -0.00000000e+00  0.00000000e+00  0.00000000e+00  0.00000000e+00\n",
      "  0.00000000e+00  0.00000000e+00  0.00000000e+00  0.00000000e+00\n",
      " -0.00000000e+00  0.00000000e+00 -0.00000000e+00  0.00000000e+00\n",
      "  0.00000000e+00 -0.00000000e+00 -0.00000000e+00  0.00000000e+00\n",
      "  0.00000000e+00  0.00000000e+00  0.00000000e+00  0.00000000e+00\n",
      "  0.00000000e+00  0.00000000e+00  0.00000000e+00  0.00000000e+00\n",
      "  0.00000000e+00  0.00000000e+00  0.00000000e+00 -0.00000000e+00\n",
      "  0.00000000e+00  0.00000000e+00  0.00000000e+00  0.00000000e+00\n",
      "  0.00000000e+00  0.00000000e+00 -0.00000000e+00  0.00000000e+00\n",
      " -0.00000000e+00 -0.00000000e+00 -0.00000000e+00  0.00000000e+00\n",
      "  0.00000000e+00  0.00000000e+00  0.00000000e+00 -0.00000000e+00\n",
      " -0.00000000e+00 -0.00000000e+00  0.00000000e+00  0.00000000e+00\n",
      "  0.00000000e+00  0.00000000e+00  0.00000000e+00  0.00000000e+00\n",
      " -0.00000000e+00  0.00000000e+00 -0.00000000e+00 -0.00000000e+00\n",
      " -0.00000000e+00  0.00000000e+00 -0.00000000e+00 -0.00000000e+00\n",
      "  0.00000000e+00 -0.00000000e+00 -0.00000000e+00 -0.00000000e+00\n",
      " -0.00000000e+00 -0.00000000e+00 -0.00000000e+00 -0.00000000e+00\n",
      " -0.00000000e+00 -0.00000000e+00  0.00000000e+00 -0.00000000e+00\n",
      " -0.00000000e+00 -0.00000000e+00 -0.00000000e+00 -0.00000000e+00\n",
      "  0.00000000e+00  0.00000000e+00  0.00000000e+00 -0.00000000e+00\n",
      " -0.00000000e+00 -0.00000000e+00 -0.00000000e+00 -0.00000000e+00\n",
      "  0.00000000e+00  0.00000000e+00 -0.00000000e+00  0.00000000e+00\n",
      " -0.00000000e+00 -0.00000000e+00  0.00000000e+00  0.00000000e+00\n",
      " -0.00000000e+00 -0.00000000e+00 -0.00000000e+00 -0.00000000e+00\n",
      "  0.00000000e+00 -0.00000000e+00  0.00000000e+00 -0.00000000e+00\n",
      " -0.00000000e+00  0.00000000e+00  0.00000000e+00  0.00000000e+00\n",
      "  0.00000000e+00 -0.00000000e+00  0.00000000e+00  0.00000000e+00\n",
      "  0.00000000e+00  0.00000000e+00 -0.00000000e+00]\n",
      "RSS: 6212.015628784335\n",
      "R^2: 0.02169343010565472\n"
     ]
    }
   ],
   "source": [
    "# у Лассо все коэффициенты кроме одного занулились\n",
    "\n",
    "ls = Lasso().fit(X, y)\n",
    "print(ls.intercept_)\n",
    "print(ls.coef_)\n",
    "\n",
    "y_pred = ls.predict(X)\n",
    "rss = sum((y_pred-y) ** 2)\n",
    "R2 = r2_score(y, y_pred)\n",
    "\n",
    "print(\"RSS:\", rss)\n",
    "print(\"R^2:\", R2)"
   ]
  },
  {
   "cell_type": "markdown",
   "metadata": {},
   "source": [
    "что-то пошло не так 0_о"
   ]
  },
  {
   "cell_type": "code",
   "execution_count": 21,
   "metadata": {},
   "outputs": [
    {
     "data": {
      "text/plain": [
       "{'fit_time': array([0.11189175, 0.11555195, 0.11985588]),\n",
       " 'score_time': array([0.01510715, 0.01238918, 0.00903511]),\n",
       " 'test_score': array([0.64905144, 0.69218113, 0.54255966]),\n",
       " 'train_score': array([0.70536113, 0.70583798, 0.70311346])}"
      ]
     },
     "execution_count": 21,
     "metadata": {},
     "output_type": "execute_result"
    }
   ],
   "source": [
    "X = df_train\n",
    "y = df_train_y\n",
    "clf = LinearRegression() # use any model\n",
    "\n",
    "scores = cross_validate(\n",
    "    clf, X, y, cv=3, scoring=('roc_auc'), return_train_score=True\n",
    ")\n",
    "\n",
    "scores\n",
    "\n",
    "# что выводится в test_score, если я оцениваю 3 раза train?\n",
    "# 3 раза повторяется train и test, наборы данных меняются по очереди (2/3 train, 1/3 test - так повторить 3 раза)"
   ]
  },
  {
   "cell_type": "code",
   "execution_count": 22,
   "metadata": {},
   "outputs": [
    {
     "data": {
      "text/plain": [
       "{'fit_time': array([0.07302403, 0.07335019, 0.067904  ]),\n",
       " 'score_time': array([0.01777411, 0.01329279, 0.0152998 ]),\n",
       " 'test_score': array([0.69100323, 0.69227209, 0.68184684]),\n",
       " 'train_score': array([0.70518617, 0.70559807, 0.70302385])}"
      ]
     },
     "execution_count": 22,
     "metadata": {},
     "output_type": "execute_result"
    }
   ],
   "source": [
    "clf = Ridge() # use any model\n",
    "\n",
    "scores = cross_validate(\n",
    "    clf, X, y, cv=3, scoring=('roc_auc'), return_train_score=True\n",
    ")\n",
    "\n",
    "scores"
   ]
  },
  {
   "cell_type": "code",
   "execution_count": 23,
   "metadata": {},
   "outputs": [
    {
     "data": {
      "text/plain": [
       "{'fit_time': array([0.08986211, 0.0796802 , 0.07347798]),\n",
       " 'score_time': array([0.01335382, 0.01055884, 0.00960612]),\n",
       " 'test_score': array([0.57739946, 0.58793646, 0.59595187]),\n",
       " 'train_score': array([0.59201769, 0.58631783, 0.58254658])}"
      ]
     },
     "execution_count": 23,
     "metadata": {},
     "output_type": "execute_result"
    }
   ],
   "source": [
    "clf = Lasso() # use any model\n",
    "\n",
    "scores = cross_validate(\n",
    "    clf, X, y, cv=3, scoring=('roc_auc'), return_train_score=True\n",
    ")\n",
    "\n",
    "scores"
   ]
  },
  {
   "cell_type": "markdown",
   "metadata": {},
   "source": [
    "### 4. Сравнить результаты на тестовом наборе данных - сделать train_test_split в самом начале, подготовить переменные, сравнить результаты работы классификаторов (те же 3), метрика ROC AUC"
   ]
  },
  {
   "cell_type": "code",
   "execution_count": 24,
   "metadata": {},
   "outputs": [],
   "source": [
    "X = df_train\n",
    "y = df_train_y\n",
    "x_train, x_test, y_train, y_test = train_test_split(X, y,stratify=y, test_size=0.3, random_state=42)"
   ]
  },
  {
   "cell_type": "code",
   "execution_count": 25,
   "metadata": {},
   "outputs": [
    {
     "name": "stdout",
     "output_type": "stream",
     "text": [
      "[0.69151777 0.70029568 0.69239617]\n",
      "[0.67477158 0.67303674 0.66223651]\n"
     ]
    }
   ],
   "source": [
    "clf = LinearRegression() # use any model\n",
    "\n",
    "scores_train = cross_validate(\n",
    "    clf, x_train, y_train, cv = 3, scoring=('roc_auc'), return_train_score=True\n",
    ")\n",
    "\n",
    "print(scores_train.get('test_score'))\n",
    "\n",
    "scores_test = cross_validate(\n",
    "    clf, x_test, y_test, cv = 3, scoring=('roc_auc'), return_train_score=True\n",
    ")\n",
    "\n",
    "print(scores_test.get('test_score'))"
   ]
  },
  {
   "cell_type": "code",
   "execution_count": 26,
   "metadata": {},
   "outputs": [
    {
     "name": "stdout",
     "output_type": "stream",
     "text": [
      "[0.69172882 0.70012278 0.69249177]\n",
      "[0.67796094 0.67244927 0.6613732 ]\n"
     ]
    }
   ],
   "source": [
    "clf = Ridge() # use any model\n",
    "\n",
    "scores_train = cross_validate(\n",
    "    clf, x_train, y_train, cv = 3, scoring=('roc_auc'), return_train_score=True\n",
    ")\n",
    "\n",
    "print(scores_train.get('test_score'))\n",
    "\n",
    "scores_test = cross_validate(\n",
    "    clf, x_test, y_test, cv = 3, scoring=('roc_auc'), return_train_score=True\n",
    ")\n",
    "\n",
    "print(scores_test.get('test_score'))"
   ]
  },
  {
   "cell_type": "code",
   "execution_count": 27,
   "metadata": {},
   "outputs": [
    {
     "name": "stdout",
     "output_type": "stream",
     "text": [
      "[0.57363851 0.59282844 0.59644698]\n",
      "[0.58128601 0.59348174 0.57812614]\n"
     ]
    }
   ],
   "source": [
    "clf = Lasso() # use any model\n",
    "\n",
    "scores_train = cross_validate(\n",
    "    clf, x_train, y_train, cv = 3, scoring=('roc_auc'), return_train_score=True\n",
    ")\n",
    "\n",
    "print(scores_train.get('test_score'))\n",
    "\n",
    "scores_test = cross_validate(\n",
    "    clf, x_test, y_test, cv = 3, scoring=('roc_auc'), return_train_score=True\n",
    ")\n",
    "\n",
    "print(scores_test.get('test_score'))"
   ]
  },
  {
   "cell_type": "markdown",
   "metadata": {},
   "source": [
    "Ридж оказался лучшим среди худших"
   ]
  },
  {
   "cell_type": "code",
   "execution_count": 39,
   "metadata": {},
   "outputs": [
    {
     "name": "stdout",
     "output_type": "stream",
     "text": [
      "Train:  0.75\n",
      "Test:  0.7\n"
     ]
    }
   ],
   "source": [
    "# НО! Oscar goes to xgboost. \n",
    "\n",
    "xgb = xgboost.XGBClassifier(max_depth=4, n_jobs=-1)\n",
    "xgb.fit(x_train, y_train)\n",
    "y_train_predict = xgb.predict_proba(x_train)[:, 1]\n",
    "y_test_predict = xgb.predict_proba(x_test)[:, 1]\n",
    "roc_auc_train = np.round(roc_auc_score(y_train, y_train_predict), 2)\n",
    "roc_auc_test = np.round(roc_auc_score(y_test, y_test_predict), 2)\n",
    "print(\"Train: \", roc_auc_train)\n",
    "print(\"Test: \", roc_auc_test)"
   ]
  },
  {
   "cell_type": "markdown",
   "metadata": {},
   "source": [
    "UPDATE: попробуем RandomForestRegressor и LogisticRegression"
   ]
  },
  {
   "cell_type": "code",
   "execution_count": 40,
   "metadata": {},
   "outputs": [
    {
     "name": "stdout",
     "output_type": "stream",
     "text": [
      "Train:  0.77\n",
      "Test:  0.69\n"
     ]
    }
   ],
   "source": [
    "from sklearn.ensemble import RandomForestRegressor\n",
    "\n",
    "rfc = RandomForestClassifier(n_estimators=10, max_depth=10)\n",
    "rfc.fit(x_train, y_train)\n",
    "y_train_predict = rfc.predict_proba(x_train)[:, 1]\n",
    "y_test_predict = rfc.predict_proba(x_test)[:, 1]\n",
    "roc_auc_train = np.round(roc_auc_score(y_train, y_train_predict), 2)\n",
    "roc_auc_test = np.round(roc_auc_score(y_test, y_test_predict), 2)\n",
    "print(\"Train: \", roc_auc_train)\n",
    "print(\"Test: \", roc_auc_test)"
   ]
  },
  {
   "cell_type": "code",
   "execution_count": 35,
   "metadata": {},
   "outputs": [
    {
     "name": "stdout",
     "output_type": "stream",
     "text": [
      "Train:  0.71\n",
      "Test:  0.69\n",
      "[0.68585979 0.67404534 0.66258452]\n"
     ]
    }
   ],
   "source": [
    "from sklearn.linear_model import LogisticRegression\n",
    "\n",
    "lr = LogisticRegression()\n",
    "lr.fit(x_train, y_train)\n",
    "y_train_predict = lr.predict_proba(x_train)[:, 1]\n",
    "y_test_predict = lr.predict_proba(x_test)[:, 1]\n",
    "roc_auc_train = np.round(roc_auc_score(y_train, y_train_predict), 2)\n",
    "roc_auc_test = np.round(roc_auc_score(y_test, y_test_predict), 2)\n",
    "print(\"Train: \", roc_auc_train)\n",
    "print(\"Test: \", roc_auc_test)"
   ]
  },
  {
   "cell_type": "code",
   "execution_count": null,
   "metadata": {},
   "outputs": [],
   "source": []
  }
 ],
 "metadata": {
  "kernelspec": {
   "display_name": "Python 3",
   "language": "python",
   "name": "python3"
  },
  "language_info": {
   "codemirror_mode": {
    "name": "ipython",
    "version": 3
   },
   "file_extension": ".py",
   "mimetype": "text/x-python",
   "name": "python",
   "nbconvert_exporter": "python",
   "pygments_lexer": "ipython3",
   "version": "3.6.5"
  }
 },
 "nbformat": 4,
 "nbformat_minor": 2
}
