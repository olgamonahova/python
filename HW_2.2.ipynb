{
 "cells": [
  {
   "cell_type": "code",
   "execution_count": 1,
   "metadata": {},
   "outputs": [
    {
     "name": "stderr",
     "output_type": "stream",
     "text": [
      "/Users/olgamonahova/anaconda3/lib/python3.6/site-packages/sklearn/cross_validation.py:41: DeprecationWarning: This module was deprecated in version 0.18 in favor of the model_selection module into which all the refactored classes and functions are moved. Also note that the interface of the new CV iterators are different from that of this module. This module will be removed in 0.20.\n",
      "  \"This module will be removed in 0.20.\", DeprecationWarning)\n"
     ]
    }
   ],
   "source": [
    "import pandas as pd\n",
    "import numpy as np\n",
    "import matplotlib.pyplot as plt\n",
    "import seaborn as sns\n",
    "%matplotlib inline\n",
    "\n",
    "from sklearn.model_selection import train_test_split\n",
    "from sklearn.cross_validation import train_test_split\n",
    "from sklearn.preprocessing import StandardScaler\n",
    "from sklearn.decomposition import PCA\n",
    "\n",
    "\n",
    "\n",
    "from sklearn.ensemble import RandomForestClassifier\n",
    "from sklearn.model_selection import cross_validate\n",
    "from sklearn.linear_model import LogisticRegression,LinearRegression, Ridge, Lasso\n",
    "from sklearn.metrics import r2_score"
   ]
  },
  {
   "cell_type": "markdown",
   "metadata": {},
   "source": [
    "## Kobe Bryant  shot selection"
   ]
  },
  {
   "cell_type": "markdown",
   "metadata": {},
   "source": [
    "Cсылка на соревнование: https://www.kaggle.com/c/kobe-bryant-shot-selection"
   ]
  },
  {
   "cell_type": "markdown",
   "metadata": {},
   "source": [
    "Goal: Fun and education"
   ]
  },
  {
   "cell_type": "markdown",
   "metadata": {},
   "source": [
    "Using 20 years of data on Kobe's swishes and misses, can you predict which shots will find the bottom of the net? This competition is well suited for practicing classification basics, feature engineering, and time series analysis. Practice got Kobe an eight-figure contract and 5 championship rings. What will it get you?"
   ]
  },
  {
   "cell_type": "markdown",
   "metadata": {},
   "source": [
    "This data contains the location and circumstances of every field goal attempted by Kobe Bryant took during his 20-year career. Your task is to predict whether the basket went in (shot_made_flag).\n",
    "\n",
    "We have removed 5000 of the shot_made_flags (represented as missing values in the csv file). These are the test set shots for which you must submit a prediction. You are provided a sample submission file with the correct shot_ids needed for a valid prediction."
   ]
  },
  {
   "cell_type": "code",
   "execution_count": 2,
   "metadata": {},
   "outputs": [],
   "source": [
    "raw_data = pd.read_csv('data/Kobe.csv')"
   ]
  },
  {
   "cell_type": "code",
   "execution_count": 3,
   "metadata": {},
   "outputs": [
    {
     "data": {
      "text/html": [
       "<div>\n",
       "<style scoped>\n",
       "    .dataframe tbody tr th:only-of-type {\n",
       "        vertical-align: middle;\n",
       "    }\n",
       "\n",
       "    .dataframe tbody tr th {\n",
       "        vertical-align: top;\n",
       "    }\n",
       "\n",
       "    .dataframe thead th {\n",
       "        text-align: right;\n",
       "    }\n",
       "</style>\n",
       "<table border=\"1\" class=\"dataframe\">\n",
       "  <thead>\n",
       "    <tr style=\"text-align: right;\">\n",
       "      <th></th>\n",
       "      <th>action_type</th>\n",
       "      <th>combined_shot_type</th>\n",
       "      <th>game_event_id</th>\n",
       "      <th>game_id</th>\n",
       "      <th>lat</th>\n",
       "      <th>loc_x</th>\n",
       "      <th>loc_y</th>\n",
       "      <th>lon</th>\n",
       "      <th>minutes_remaining</th>\n",
       "      <th>period</th>\n",
       "      <th>...</th>\n",
       "      <th>shot_type</th>\n",
       "      <th>shot_zone_area</th>\n",
       "      <th>shot_zone_basic</th>\n",
       "      <th>shot_zone_range</th>\n",
       "      <th>team_id</th>\n",
       "      <th>team_name</th>\n",
       "      <th>game_date</th>\n",
       "      <th>matchup</th>\n",
       "      <th>opponent</th>\n",
       "      <th>shot_id</th>\n",
       "    </tr>\n",
       "  </thead>\n",
       "  <tbody>\n",
       "    <tr>\n",
       "      <th>0</th>\n",
       "      <td>Jump Shot</td>\n",
       "      <td>Jump Shot</td>\n",
       "      <td>10</td>\n",
       "      <td>20000012</td>\n",
       "      <td>33.9723</td>\n",
       "      <td>167</td>\n",
       "      <td>72</td>\n",
       "      <td>-118.1028</td>\n",
       "      <td>10</td>\n",
       "      <td>1</td>\n",
       "      <td>...</td>\n",
       "      <td>2PT Field Goal</td>\n",
       "      <td>Right Side(R)</td>\n",
       "      <td>Mid-Range</td>\n",
       "      <td>16-24 ft.</td>\n",
       "      <td>1610612747</td>\n",
       "      <td>Los Angeles Lakers</td>\n",
       "      <td>2000-10-31</td>\n",
       "      <td>LAL @ POR</td>\n",
       "      <td>POR</td>\n",
       "      <td>1</td>\n",
       "    </tr>\n",
       "    <tr>\n",
       "      <th>1</th>\n",
       "      <td>Jump Shot</td>\n",
       "      <td>Jump Shot</td>\n",
       "      <td>12</td>\n",
       "      <td>20000012</td>\n",
       "      <td>34.0443</td>\n",
       "      <td>-157</td>\n",
       "      <td>0</td>\n",
       "      <td>-118.4268</td>\n",
       "      <td>10</td>\n",
       "      <td>1</td>\n",
       "      <td>...</td>\n",
       "      <td>2PT Field Goal</td>\n",
       "      <td>Left Side(L)</td>\n",
       "      <td>Mid-Range</td>\n",
       "      <td>8-16 ft.</td>\n",
       "      <td>1610612747</td>\n",
       "      <td>Los Angeles Lakers</td>\n",
       "      <td>2000-10-31</td>\n",
       "      <td>LAL @ POR</td>\n",
       "      <td>POR</td>\n",
       "      <td>2</td>\n",
       "    </tr>\n",
       "    <tr>\n",
       "      <th>2</th>\n",
       "      <td>Jump Shot</td>\n",
       "      <td>Jump Shot</td>\n",
       "      <td>35</td>\n",
       "      <td>20000012</td>\n",
       "      <td>33.9093</td>\n",
       "      <td>-101</td>\n",
       "      <td>135</td>\n",
       "      <td>-118.3708</td>\n",
       "      <td>7</td>\n",
       "      <td>1</td>\n",
       "      <td>...</td>\n",
       "      <td>2PT Field Goal</td>\n",
       "      <td>Left Side Center(LC)</td>\n",
       "      <td>Mid-Range</td>\n",
       "      <td>16-24 ft.</td>\n",
       "      <td>1610612747</td>\n",
       "      <td>Los Angeles Lakers</td>\n",
       "      <td>2000-10-31</td>\n",
       "      <td>LAL @ POR</td>\n",
       "      <td>POR</td>\n",
       "      <td>3</td>\n",
       "    </tr>\n",
       "    <tr>\n",
       "      <th>3</th>\n",
       "      <td>Jump Shot</td>\n",
       "      <td>Jump Shot</td>\n",
       "      <td>43</td>\n",
       "      <td>20000012</td>\n",
       "      <td>33.8693</td>\n",
       "      <td>138</td>\n",
       "      <td>175</td>\n",
       "      <td>-118.1318</td>\n",
       "      <td>6</td>\n",
       "      <td>1</td>\n",
       "      <td>...</td>\n",
       "      <td>2PT Field Goal</td>\n",
       "      <td>Right Side Center(RC)</td>\n",
       "      <td>Mid-Range</td>\n",
       "      <td>16-24 ft.</td>\n",
       "      <td>1610612747</td>\n",
       "      <td>Los Angeles Lakers</td>\n",
       "      <td>2000-10-31</td>\n",
       "      <td>LAL @ POR</td>\n",
       "      <td>POR</td>\n",
       "      <td>4</td>\n",
       "    </tr>\n",
       "    <tr>\n",
       "      <th>4</th>\n",
       "      <td>Driving Dunk Shot</td>\n",
       "      <td>Dunk</td>\n",
       "      <td>155</td>\n",
       "      <td>20000012</td>\n",
       "      <td>34.0443</td>\n",
       "      <td>0</td>\n",
       "      <td>0</td>\n",
       "      <td>-118.2698</td>\n",
       "      <td>6</td>\n",
       "      <td>2</td>\n",
       "      <td>...</td>\n",
       "      <td>2PT Field Goal</td>\n",
       "      <td>Center(C)</td>\n",
       "      <td>Restricted Area</td>\n",
       "      <td>Less Than 8 ft.</td>\n",
       "      <td>1610612747</td>\n",
       "      <td>Los Angeles Lakers</td>\n",
       "      <td>2000-10-31</td>\n",
       "      <td>LAL @ POR</td>\n",
       "      <td>POR</td>\n",
       "      <td>5</td>\n",
       "    </tr>\n",
       "  </tbody>\n",
       "</table>\n",
       "<p>5 rows × 25 columns</p>\n",
       "</div>"
      ],
      "text/plain": [
       "         action_type combined_shot_type  game_event_id   game_id      lat  \\\n",
       "0          Jump Shot          Jump Shot             10  20000012  33.9723   \n",
       "1          Jump Shot          Jump Shot             12  20000012  34.0443   \n",
       "2          Jump Shot          Jump Shot             35  20000012  33.9093   \n",
       "3          Jump Shot          Jump Shot             43  20000012  33.8693   \n",
       "4  Driving Dunk Shot               Dunk            155  20000012  34.0443   \n",
       "\n",
       "   loc_x  loc_y       lon  minutes_remaining  period   ...          shot_type  \\\n",
       "0    167     72 -118.1028                 10       1   ...     2PT Field Goal   \n",
       "1   -157      0 -118.4268                 10       1   ...     2PT Field Goal   \n",
       "2   -101    135 -118.3708                  7       1   ...     2PT Field Goal   \n",
       "3    138    175 -118.1318                  6       1   ...     2PT Field Goal   \n",
       "4      0      0 -118.2698                  6       2   ...     2PT Field Goal   \n",
       "\n",
       "          shot_zone_area  shot_zone_basic  shot_zone_range     team_id  \\\n",
       "0          Right Side(R)        Mid-Range        16-24 ft.  1610612747   \n",
       "1           Left Side(L)        Mid-Range         8-16 ft.  1610612747   \n",
       "2   Left Side Center(LC)        Mid-Range        16-24 ft.  1610612747   \n",
       "3  Right Side Center(RC)        Mid-Range        16-24 ft.  1610612747   \n",
       "4              Center(C)  Restricted Area  Less Than 8 ft.  1610612747   \n",
       "\n",
       "            team_name   game_date    matchup opponent  shot_id  \n",
       "0  Los Angeles Lakers  2000-10-31  LAL @ POR      POR        1  \n",
       "1  Los Angeles Lakers  2000-10-31  LAL @ POR      POR        2  \n",
       "2  Los Angeles Lakers  2000-10-31  LAL @ POR      POR        3  \n",
       "3  Los Angeles Lakers  2000-10-31  LAL @ POR      POR        4  \n",
       "4  Los Angeles Lakers  2000-10-31  LAL @ POR      POR        5  \n",
       "\n",
       "[5 rows x 25 columns]"
      ]
     },
     "execution_count": 3,
     "metadata": {},
     "output_type": "execute_result"
    }
   ],
   "source": [
    "raw_data.head()"
   ]
  },
  {
   "cell_type": "code",
   "execution_count": 4,
   "metadata": {},
   "outputs": [],
   "source": [
    "target = 'shot_made_flag'"
   ]
  },
  {
   "cell_type": "markdown",
   "metadata": {},
   "source": [
    "**Задания:**\n",
    "\n",
    "1. Провести анализ данных. Много хороших примеров анализа можно посмотреть здесь https://www.kaggle.com/c/kobe-bryant-shot-selection/kernels\n",
    "2. Подготовить фичи для обучения модели - нагенерить признаков, обработать пропущенные значения, проверить на возможные выбросы, обработать категориальные признаки и др.\n",
    "3. Обучить линейную модель, Lasso, Ridge на тех же признаках - построить сравнительную таблицу коэффициентов, сделать заключения о том, как меняется величина коэффициентов, какие зануляются. Посчитать RSS\n",
    "\n",
    "**Дополнительно**\n",
    "4. Сравнить результаты на тестовом наборе данных - сделать train_test_split в самом начале, подготовить переменные, сравнить результаты работы классификаторов (те же 3), метрика ROC AUC"
   ]
  },
  {
   "cell_type": "code",
   "execution_count": 5,
   "metadata": {},
   "outputs": [
    {
     "name": "stdout",
     "output_type": "stream",
     "text": [
      "<class 'pandas.core.frame.DataFrame'>\n",
      "RangeIndex: 30697 entries, 0 to 30696\n",
      "Data columns (total 25 columns):\n",
      "action_type           30697 non-null object\n",
      "combined_shot_type    30697 non-null object\n",
      "game_event_id         30697 non-null int64\n",
      "game_id               30697 non-null int64\n",
      "lat                   30697 non-null float64\n",
      "loc_x                 30697 non-null int64\n",
      "loc_y                 30697 non-null int64\n",
      "lon                   30697 non-null float64\n",
      "minutes_remaining     30697 non-null int64\n",
      "period                30697 non-null int64\n",
      "playoffs              30697 non-null int64\n",
      "season                30697 non-null object\n",
      "seconds_remaining     30697 non-null int64\n",
      "shot_distance         30697 non-null int64\n",
      "shot_made_flag        25697 non-null float64\n",
      "shot_type             30697 non-null object\n",
      "shot_zone_area        30697 non-null object\n",
      "shot_zone_basic       30697 non-null object\n",
      "shot_zone_range       30697 non-null object\n",
      "team_id               30697 non-null int64\n",
      "team_name             30697 non-null object\n",
      "game_date             30697 non-null object\n",
      "matchup               30697 non-null object\n",
      "opponent              30697 non-null object\n",
      "shot_id               30697 non-null int64\n",
      "dtypes: float64(3), int64(11), object(11)\n",
      "memory usage: 5.9+ MB\n"
     ]
    }
   ],
   "source": [
    "raw_data.info()"
   ]
  },
  {
   "cell_type": "code",
   "execution_count": 6,
   "metadata": {},
   "outputs": [],
   "source": [
    "# пропущены только значения в целевой переменной shot_made_flag, исключим их\n",
    "raw_data = raw_data.dropna()"
   ]
  },
  {
   "cell_type": "code",
   "execution_count": 7,
   "metadata": {},
   "outputs": [],
   "source": [
    "raw_data['remaining_time'] = raw_data['minutes_remaining'] * 60 + raw_data['seconds_remaining']\n",
    "\n",
    "# Replace 20 least common action types with value 'Other'\n",
    "rare_action_types = raw_data['action_type'].value_counts().sort_values().index.values[:20]\n",
    "raw_data.loc[raw_data['action_type'].isin(rare_action_types), 'action_type'] = 'Other'"
   ]
  },
  {
   "cell_type": "code",
   "execution_count": 8,
   "metadata": {},
   "outputs": [
    {
     "data": {
      "image/png": "[encoded data removed]",
      "text/plain": [
       "<Figure size 1080x1800 with 8 Axes>"
      ]
     },
     "metadata": {},
     "output_type": "display_data"
    }
   ],
   "source": [
    "# первоисчтоник - https://www.kaggle.com/khozzy/kobe-shots-show-me-your-best-model\n",
    "\n",
    "f, axarr = plt.subplots(8, figsize=(15, 25))\n",
    "\n",
    "sns.countplot(x=\"combined_shot_type\", hue=\"shot_made_flag\", data=raw_data, ax=axarr[0])\n",
    "sns.countplot(x=\"season\", hue=\"shot_made_flag\", data=raw_data, ax=axarr[1])\n",
    "sns.countplot(x=\"period\", hue=\"shot_made_flag\", data=raw_data, ax=axarr[2])\n",
    "sns.countplot(x=\"playoffs\", hue=\"shot_made_flag\", data=raw_data, ax=axarr[3])\n",
    "sns.countplot(x=\"shot_type\", hue=\"shot_made_flag\", data=raw_data, ax=axarr[4])\n",
    "sns.countplot(x=\"shot_zone_area\", hue=\"shot_made_flag\", data=raw_data, ax=axarr[5])\n",
    "sns.countplot(x=\"shot_zone_basic\", hue=\"shot_made_flag\", data=raw_data, ax=axarr[6])\n",
    "sns.countplot(x=\"shot_zone_range\", hue=\"shot_made_flag\", data=raw_data, ax=axarr[7])\n",
    "\n",
    "axarr[0].set_title('Combined shot type')\n",
    "axarr[1].set_title('Season')\n",
    "axarr[2].set_title('Period')\n",
    "axarr[3].set_title('Playoffs')\n",
    "axarr[4].set_title('Shot Type')\n",
    "axarr[5].set_title('Shot Zone Area')\n",
    "axarr[6].set_title('Shot Zone Basic')\n",
    "axarr[7].set_title('Shot Zone Range')\n",
    "\n",
    "#axarr[7].set_title(szr_dict)\n",
    "\n",
    "plt.tight_layout()\n",
    "plt.show()"
   ]
  },
  {
   "cell_type": "code",
   "execution_count": 9,
   "metadata": {},
   "outputs": [
    {
     "data": {
      "image/png": "[encoded data removed]",
      "text/plain": [
       "<Figure size 1440x1440 with 2 Axes>"
      ]
     },
     "metadata": {},
     "output_type": "display_data"
    }
   ],
   "source": [
    "# Stolen with pride у коллег во время лабы :)\n",
    "\n",
    "corr = raw_data.corr()\n",
    "\n",
    "plt.figure(figsize=(20,20))\n",
    "# Create a mask to hide the upper triangle of the correlation matrix (which is symmetric)\n",
    "mask = np.zeros_like(corr, dtype=np.bool)\n",
    "mask[np.triu_indices_from(mask)] = True\n",
    "\n",
    "sns.heatmap(corr, mask=mask, vmax=1, center=0, annot=True, fmt='.1f',\n",
    "            square=True, linewidths=.5, cbar_kws={\"shrink\": .5});"
   ]
  },
  {
   "cell_type": "code",
   "execution_count": 10,
   "metadata": {},
   "outputs": [],
   "source": [
    "scaler = StandardScaler()"
   ]
  },
  {
   "cell_type": "code",
   "execution_count": 11,
   "metadata": {},
   "outputs": [],
   "source": [
    "df_train = raw_data.copy()\n",
    "\n",
    "cols_to_drop = ['game_event_id', 'game_id', 'team_id', 'game_date', 'shot_id']\n",
    "\n",
    "df_train = df_train.drop(labels = cols_to_drop, axis = 1)"
   ]
  },
  {
   "cell_type": "code",
   "execution_count": 12,
   "metadata": {},
   "outputs": [
    {
     "data": {
      "text/html": [
       "<div>\n",
       "<style scoped>\n",
       "    .dataframe tbody tr th:only-of-type {\n",
       "        vertical-align: middle;\n",
       "    }\n",
       "\n",
       "    .dataframe tbody tr th {\n",
       "        vertical-align: top;\n",
       "    }\n",
       "\n",
       "    .dataframe thead th {\n",
       "        text-align: right;\n",
       "    }\n",
       "</style>\n",
       "<table border=\"1\" class=\"dataframe\">\n",
       "  <thead>\n",
       "    <tr style=\"text-align: right;\">\n",
       "      <th></th>\n",
       "      <th>action_type</th>\n",
       "      <th>combined_shot_type</th>\n",
       "      <th>lat</th>\n",
       "      <th>loc_x</th>\n",
       "      <th>loc_y</th>\n",
       "      <th>lon</th>\n",
       "      <th>minutes_remaining</th>\n",
       "      <th>period</th>\n",
       "      <th>playoffs</th>\n",
       "      <th>season</th>\n",
       "      <th>...</th>\n",
       "      <th>shot_distance</th>\n",
       "      <th>shot_made_flag</th>\n",
       "      <th>shot_type</th>\n",
       "      <th>shot_zone_area</th>\n",
       "      <th>shot_zone_basic</th>\n",
       "      <th>shot_zone_range</th>\n",
       "      <th>team_name</th>\n",
       "      <th>matchup</th>\n",
       "      <th>opponent</th>\n",
       "      <th>remaining_time</th>\n",
       "    </tr>\n",
       "  </thead>\n",
       "  <tbody>\n",
       "    <tr>\n",
       "      <th>1</th>\n",
       "      <td>Jump Shot</td>\n",
       "      <td>Jump Shot</td>\n",
       "      <td>34.0443</td>\n",
       "      <td>-157</td>\n",
       "      <td>0</td>\n",
       "      <td>-118.4268</td>\n",
       "      <td>10</td>\n",
       "      <td>1</td>\n",
       "      <td>0</td>\n",
       "      <td>2000-01</td>\n",
       "      <td>...</td>\n",
       "      <td>15</td>\n",
       "      <td>0.0</td>\n",
       "      <td>2PT Field Goal</td>\n",
       "      <td>Left Side(L)</td>\n",
       "      <td>Mid-Range</td>\n",
       "      <td>8-16 ft.</td>\n",
       "      <td>Los Angeles Lakers</td>\n",
       "      <td>LAL @ POR</td>\n",
       "      <td>POR</td>\n",
       "      <td>622</td>\n",
       "    </tr>\n",
       "    <tr>\n",
       "      <th>2</th>\n",
       "      <td>Jump Shot</td>\n",
       "      <td>Jump Shot</td>\n",
       "      <td>33.9093</td>\n",
       "      <td>-101</td>\n",
       "      <td>135</td>\n",
       "      <td>-118.3708</td>\n",
       "      <td>7</td>\n",
       "      <td>1</td>\n",
       "      <td>0</td>\n",
       "      <td>2000-01</td>\n",
       "      <td>...</td>\n",
       "      <td>16</td>\n",
       "      <td>1.0</td>\n",
       "      <td>2PT Field Goal</td>\n",
       "      <td>Left Side Center(LC)</td>\n",
       "      <td>Mid-Range</td>\n",
       "      <td>16-24 ft.</td>\n",
       "      <td>Los Angeles Lakers</td>\n",
       "      <td>LAL @ POR</td>\n",
       "      <td>POR</td>\n",
       "      <td>465</td>\n",
       "    </tr>\n",
       "    <tr>\n",
       "      <th>3</th>\n",
       "      <td>Jump Shot</td>\n",
       "      <td>Jump Shot</td>\n",
       "      <td>33.8693</td>\n",
       "      <td>138</td>\n",
       "      <td>175</td>\n",
       "      <td>-118.1318</td>\n",
       "      <td>6</td>\n",
       "      <td>1</td>\n",
       "      <td>0</td>\n",
       "      <td>2000-01</td>\n",
       "      <td>...</td>\n",
       "      <td>22</td>\n",
       "      <td>0.0</td>\n",
       "      <td>2PT Field Goal</td>\n",
       "      <td>Right Side Center(RC)</td>\n",
       "      <td>Mid-Range</td>\n",
       "      <td>16-24 ft.</td>\n",
       "      <td>Los Angeles Lakers</td>\n",
       "      <td>LAL @ POR</td>\n",
       "      <td>POR</td>\n",
       "      <td>412</td>\n",
       "    </tr>\n",
       "    <tr>\n",
       "      <th>4</th>\n",
       "      <td>Driving Dunk Shot</td>\n",
       "      <td>Dunk</td>\n",
       "      <td>34.0443</td>\n",
       "      <td>0</td>\n",
       "      <td>0</td>\n",
       "      <td>-118.2698</td>\n",
       "      <td>6</td>\n",
       "      <td>2</td>\n",
       "      <td>0</td>\n",
       "      <td>2000-01</td>\n",
       "      <td>...</td>\n",
       "      <td>0</td>\n",
       "      <td>1.0</td>\n",
       "      <td>2PT Field Goal</td>\n",
       "      <td>Center(C)</td>\n",
       "      <td>Restricted Area</td>\n",
       "      <td>Less Than 8 ft.</td>\n",
       "      <td>Los Angeles Lakers</td>\n",
       "      <td>LAL @ POR</td>\n",
       "      <td>POR</td>\n",
       "      <td>379</td>\n",
       "    </tr>\n",
       "    <tr>\n",
       "      <th>5</th>\n",
       "      <td>Jump Shot</td>\n",
       "      <td>Jump Shot</td>\n",
       "      <td>34.0553</td>\n",
       "      <td>-145</td>\n",
       "      <td>-11</td>\n",
       "      <td>-118.4148</td>\n",
       "      <td>9</td>\n",
       "      <td>3</td>\n",
       "      <td>0</td>\n",
       "      <td>2000-01</td>\n",
       "      <td>...</td>\n",
       "      <td>14</td>\n",
       "      <td>0.0</td>\n",
       "      <td>2PT Field Goal</td>\n",
       "      <td>Left Side(L)</td>\n",
       "      <td>Mid-Range</td>\n",
       "      <td>8-16 ft.</td>\n",
       "      <td>Los Angeles Lakers</td>\n",
       "      <td>LAL @ POR</td>\n",
       "      <td>POR</td>\n",
       "      <td>572</td>\n",
       "    </tr>\n",
       "  </tbody>\n",
       "</table>\n",
       "<p>5 rows × 21 columns</p>\n",
       "</div>"
      ],
      "text/plain": [
       "         action_type combined_shot_type      lat  loc_x  loc_y       lon  \\\n",
       "1          Jump Shot          Jump Shot  34.0443   -157      0 -118.4268   \n",
       "2          Jump Shot          Jump Shot  33.9093   -101    135 -118.3708   \n",
       "3          Jump Shot          Jump Shot  33.8693    138    175 -118.1318   \n",
       "4  Driving Dunk Shot               Dunk  34.0443      0      0 -118.2698   \n",
       "5          Jump Shot          Jump Shot  34.0553   -145    -11 -118.4148   \n",
       "\n",
       "   minutes_remaining  period  playoffs   season      ...        shot_distance  \\\n",
       "1                 10       1         0  2000-01      ...                   15   \n",
       "2                  7       1         0  2000-01      ...                   16   \n",
       "3                  6       1         0  2000-01      ...                   22   \n",
       "4                  6       2         0  2000-01      ...                    0   \n",
       "5                  9       3         0  2000-01      ...                   14   \n",
       "\n",
       "   shot_made_flag       shot_type         shot_zone_area  shot_zone_basic  \\\n",
       "1             0.0  2PT Field Goal           Left Side(L)        Mid-Range   \n",
       "2             1.0  2PT Field Goal   Left Side Center(LC)        Mid-Range   \n",
       "3             0.0  2PT Field Goal  Right Side Center(RC)        Mid-Range   \n",
       "4             1.0  2PT Field Goal              Center(C)  Restricted Area   \n",
       "5             0.0  2PT Field Goal           Left Side(L)        Mid-Range   \n",
       "\n",
       "   shot_zone_range           team_name    matchup opponent remaining_time  \n",
       "1         8-16 ft.  Los Angeles Lakers  LAL @ POR      POR            622  \n",
       "2        16-24 ft.  Los Angeles Lakers  LAL @ POR      POR            465  \n",
       "3        16-24 ft.  Los Angeles Lakers  LAL @ POR      POR            412  \n",
       "4  Less Than 8 ft.  Los Angeles Lakers  LAL @ POR      POR            379  \n",
       "5         8-16 ft.  Los Angeles Lakers  LAL @ POR      POR            572  \n",
       "\n",
       "[5 rows x 21 columns]"
      ]
     },
     "execution_count": 12,
     "metadata": {},
     "output_type": "execute_result"
    }
   ],
   "source": [
    "df_train.head()"
   ]
  },
  {
   "cell_type": "code",
   "execution_count": null,
   "metadata": {},
   "outputs": [],
   "source": []
  },
  {
   "cell_type": "code",
   "execution_count": 13,
   "metadata": {},
   "outputs": [],
   "source": [
    "df_train_y = df_train.shot_made_flag\n",
    "df_train = df_train.drop(['shot_made_flag'], axis=1)\n",
    "df_train = pd.get_dummies(df_train)"
   ]
  },
  {
   "cell_type": "code",
   "execution_count": 14,
   "metadata": {},
   "outputs": [
    {
     "data": {
      "text/plain": [
       "(25697, 200)"
      ]
     },
     "execution_count": 14,
     "metadata": {},
     "output_type": "execute_result"
    }
   ],
   "source": [
    "df_train.shape"
   ]
  },
  {
   "cell_type": "code",
   "execution_count": 15,
   "metadata": {},
   "outputs": [
    {
     "data": {
      "text/plain": [
       "Text(0,0.5,'explained_variance_ratio_')"
      ]
     },
     "execution_count": 15,
     "metadata": {},
     "output_type": "execute_result"
    },
    {
     "data": {
      "image/png": "[encoded data removed]",
      "text/plain": [
       "<Figure size 432x288 with 1 Axes>"
      ]
     },
     "metadata": {},
     "output_type": "display_data"
    }
   ],
   "source": [
    "pca = PCA().fit(scaler.fit_transform(df_train))\n",
    "\n",
    "cum_evr = np.cumsum(pca.explained_variance_ratio_)\n",
    "xs = np.arange(cum_evr.size) + 1\n",
    "plt.plot(xs, cum_evr, linewidth=2)\n",
    "plt.grid()\n",
    "plt.xlabel('n_components')\n",
    "plt.ylabel('explained_variance_ratio_')"
   ]
  },
  {
   "cell_type": "code",
   "execution_count": 16,
   "metadata": {},
   "outputs": [
    {
     "name": "stdout",
     "output_type": "stream",
     "text": [
      "n-components=1, explained variance 0.045\n",
      "n-components=2, explained variance 0.069\n",
      "n-components=3, explained variance 0.085\n",
      "n-components=4, explained variance 0.101\n",
      "n-components=5, explained variance 0.113\n",
      "n-components=6, explained variance 0.125\n",
      "n-components=7, explained variance 0.136\n",
      "n-components=8, explained variance 0.147\n",
      "n-components=9, explained variance 0.158\n",
      "n-components=10, explained variance 0.169\n",
      "n-components=11, explained variance 0.180\n",
      "n-components=12, explained variance 0.191\n",
      "n-components=13, explained variance 0.201\n",
      "n-components=14, explained variance 0.212\n",
      "n-components=15, explained variance 0.222\n",
      "n-components=16, explained variance 0.233\n",
      "n-components=17, explained variance 0.244\n",
      "n-components=18, explained variance 0.254\n",
      "n-components=19, explained variance 0.264\n",
      "n-components=20, explained variance 0.275\n",
      "n-components=21, explained variance 0.285\n",
      "n-components=22, explained variance 0.296\n",
      "n-components=23, explained variance 0.306\n",
      "n-components=24, explained variance 0.316\n",
      "n-components=25, explained variance 0.327\n",
      "n-components=26, explained variance 0.337\n",
      "n-components=27, explained variance 0.347\n",
      "n-components=28, explained variance 0.358\n",
      "n-components=29, explained variance 0.368\n",
      "n-components=30, explained variance 0.378\n",
      "n-components=31, explained variance 0.388\n",
      "n-components=32, explained variance 0.399\n",
      "n-components=33, explained variance 0.409\n",
      "n-components=34, explained variance 0.419\n",
      "n-components=35, explained variance 0.429\n",
      "n-components=36, explained variance 0.440\n",
      "n-components=37, explained variance 0.450\n",
      "n-components=38, explained variance 0.460\n",
      "n-components=39, explained variance 0.470\n",
      "n-components=40, explained variance 0.480\n",
      "n-components=41, explained variance 0.489\n",
      "n-components=42, explained variance 0.498\n",
      "n-components=43, explained variance 0.507\n",
      "n-components=44, explained variance 0.514\n",
      "n-components=45, explained variance 0.521\n",
      "n-components=46, explained variance 0.527\n",
      "n-components=47, explained variance 0.533\n",
      "n-components=48, explained variance 0.539\n",
      "n-components=49, explained variance 0.545\n",
      "n-components=50, explained variance 0.551\n",
      "n-components=51, explained variance 0.556\n",
      "n-components=52, explained variance 0.562\n",
      "n-components=53, explained variance 0.568\n",
      "n-components=54, explained variance 0.573\n",
      "n-components=55, explained variance 0.579\n",
      "n-components=56, explained variance 0.585\n",
      "n-components=57, explained variance 0.590\n",
      "n-components=58, explained variance 0.596\n",
      "n-components=59, explained variance 0.601\n",
      "n-components=60, explained variance 0.606\n",
      "n-components=61, explained variance 0.612\n",
      "n-components=62, explained variance 0.617\n",
      "n-components=63, explained variance 0.623\n",
      "n-components=64, explained variance 0.628\n",
      "n-components=65, explained variance 0.633\n",
      "n-components=66, explained variance 0.639\n",
      "n-components=67, explained variance 0.644\n",
      "n-components=68, explained variance 0.649\n",
      "n-components=69, explained variance 0.654\n",
      "n-components=70, explained variance 0.659\n",
      "n-components=71, explained variance 0.665\n",
      "n-components=72, explained variance 0.670\n",
      "n-components=73, explained variance 0.675\n",
      "n-components=74, explained variance 0.680\n",
      "n-components=75, explained variance 0.685\n",
      "n-components=76, explained variance 0.690\n",
      "n-components=77, explained variance 0.696\n",
      "n-components=78, explained variance 0.701\n",
      "n-components=79, explained variance 0.706\n",
      "n-components=80, explained variance 0.711\n",
      "n-components=81, explained variance 0.716\n",
      "n-components=82, explained variance 0.721\n",
      "n-components=83, explained variance 0.726\n",
      "n-components=84, explained variance 0.731\n",
      "n-components=85, explained variance 0.736\n",
      "n-components=86, explained variance 0.741\n",
      "n-components=87, explained variance 0.746\n",
      "n-components=88, explained variance 0.751\n",
      "n-components=89, explained variance 0.756\n",
      "n-components=90, explained variance 0.761\n",
      "n-components=91, explained variance 0.766\n",
      "n-components=92, explained variance 0.771\n",
      "n-components=93, explained variance 0.775\n",
      "n-components=94, explained variance 0.780\n",
      "n-components=95, explained variance 0.785\n",
      "n-components=96, explained variance 0.790\n",
      "n-components=97, explained variance 0.795\n"
     ]
    }
   ],
   "source": [
    "scaler = StandardScaler()\n",
    "x_scaled = scaler.fit(df_train)\n",
    "x_train_scaled=  x_scaled.transform(df_train)\n",
    "\n",
    "pca = PCA(n_components=97)\n",
    "pca.fit(x_train_scaled)\n",
    "X_pca = pca.transform(x_train_scaled)\n",
    "\n",
    "for i in range(1, X_pca.shape[1] + 1):\n",
    "    print(\"n-components=%s, explained variance %.3f\" % (i, sum(pca.explained_variance_ratio_[:i])))"
   ]
  },
  {
   "cell_type": "markdown",
   "metadata": {},
   "source": [
    " около 97 переменных объясняют 80% дисперсии. Как отобрать именно эти 97 переменных?"
   ]
  },
  {
   "cell_type": "code",
   "execution_count": 17,
   "metadata": {},
   "outputs": [],
   "source": [
    "X = df_train\n",
    "y = df_train_y"
   ]
  },
  {
   "cell_type": "code",
   "execution_count": 18,
   "metadata": {},
   "outputs": [
    {
     "name": "stdout",
     "output_type": "stream",
     "text": [
      "841661120390.7262\n",
      "[-7.21360931e+06 -7.11436157e+06 -7.21360943e+03  7.11436157e+09\n",
      "  1.89002752e+07 -1.20386615e-02 -7.42425295e-03  3.15004588e+05\n",
      "  1.86718119e-03 -3.15004587e+05 -3.18374682e+05 -3.18374725e+05\n",
      " -3.18374647e+05 -3.18374545e+05 -3.18374578e+05 -3.18375005e+05\n",
      " -3.18374692e+05 -3.18374659e+05 -3.18374628e+05 -3.18374847e+05\n",
      " -3.18374560e+05 -3.18374903e+05 -3.18374609e+05 -3.18374976e+05\n",
      " -3.18374733e+05 -3.18375049e+05 -3.18374686e+05 -3.18374706e+05\n",
      " -3.18375178e+05 -3.18375055e+05 -3.18374797e+05 -3.18374734e+05\n",
      " -3.18374717e+05 -3.18374801e+05 -3.18374612e+05 -3.18374657e+05\n",
      " -3.18374713e+05 -3.18374527e+05 -3.18374731e+05 -3.18374722e+05\n",
      " -3.18374641e+05 -3.18374837e+05 -3.18374393e+05 -3.18374696e+05\n",
      " -3.18374868e+05 -3.18374888e+05  3.63252578e+05  3.63252674e+05\n",
      "  3.63252495e+05  3.63252541e+05  3.63252491e+05  3.63251797e+05\n",
      " -5.54597517e+02 -5.54623007e+02 -5.54564221e+02 -5.54568875e+02\n",
      " -5.54566670e+02 -5.54580610e+02 -5.54589492e+02 -5.54606530e+02\n",
      " -5.54593176e+02 -5.54560543e+02 -5.54568708e+02 -5.54578123e+02\n",
      " -5.54576435e+02 -5.54594081e+02 -5.54600657e+02 -5.54607736e+02\n",
      " -5.54606361e+02 -5.54637087e+02 -5.54655241e+02 -5.54704043e+02\n",
      " -1.04502545e+06 -1.04502540e+06 -6.58783382e+04 -1.13904107e+06\n",
      " -1.13904109e+06 -1.13904115e+06 -1.13904105e+06 -1.13904111e+06\n",
      "  7.75811374e+04  7.75811726e+04  7.27772650e+05  7.75812383e+04\n",
      "  7.27772625e+05  7.27772695e+05  7.75811970e+04 -1.87360346e+05\n",
      "  4.62831046e+05 -1.87360367e+05 -6.10332029e+05 -1.87360460e+05\n",
      "  1.50659101e+05 -2.24151873e+05  1.23260138e+05  1.24890013e+05\n",
      "  1.73423620e+05  1.73423539e+05 -1.19231830e+05 -3.42839518e+04\n",
      "  5.63896762e+03  4.85526738e+04  9.93114021e+04  1.86349445e+05\n",
      " -2.29532093e+05 -2.16100616e+04  1.75221269e+05  5.45752799e+04\n",
      "  2.31247148e+05  6.05347329e+04 -3.29325651e+05  2.07006439e+05\n",
      "  2.49320566e+05  2.73604060e+03  2.73607753e+03 -6.04542721e+04\n",
      "  6.50299344e+04  5.46356927e+04 -1.10584626e+05 -6.90127719e+02\n",
      " -6.89995281e+02  2.41648059e+05 -4.37132799e+03 -8.82940311e+04\n",
      "  2.74559649e+05  6.63681952e+04 -1.43567314e+04 -1.43566253e+04\n",
      " -2.52514886e+05  2.70435040e+05 -2.24151857e+05  1.23260260e+05\n",
      "  1.24890001e+05  1.73423551e+05  1.73423508e+05 -1.19231883e+05\n",
      " -3.42839334e+04  5.63899534e+03  4.85526884e+04  9.93114061e+04\n",
      "  1.86349525e+05 -2.29532011e+05 -2.16100807e+04  1.75221265e+05\n",
      "  5.45753065e+04  2.31247189e+05  6.05346533e+04 -3.29325620e+05\n",
      "  2.07006530e+05  2.49320568e+05  2.73605502e+03  2.73592070e+03\n",
      " -6.04542774e+04  6.50299436e+04  5.46357247e+04 -1.10584597e+05\n",
      " -6.90084996e+02 -6.90016143e+02  2.41648079e+05 -4.37135239e+03\n",
      " -8.82940564e+04 -8.82940539e+04  2.74559574e+05  6.63682070e+04\n",
      " -1.43567000e+04 -2.52514976e+05  2.70435074e+05  2.55232738e+05\n",
      " -9.21794023e+04 -9.38091473e+04 -1.42342679e+05  1.50312738e+05\n",
      "  6.53648201e+04  2.54419030e+04 -1.74717939e+04 -6.82305172e+04\n",
      " -1.55268624e+05  2.60612906e+05  5.26909332e+04 -1.44140389e+05\n",
      " -2.34944249e+04 -2.00166306e+05 -2.94538072e+04  3.60406516e+05\n",
      " -1.75925646e+05 -2.18239672e+05  2.83448386e+04  9.15352018e+04\n",
      " -3.39490990e+04 -2.35548453e+04  1.41665490e+05  3.17709135e+04\n",
      " -2.10567186e+05  3.54522423e+04  1.19374922e+05 -2.43478717e+05\n",
      " -3.52873517e+04  4.54376022e+04  2.83595830e+05 -2.39354173e+05]\n",
      "RSS: 5367.677796661854\n",
      "R^2: 0.15466496426411747\n"
     ]
    }
   ],
   "source": [
    "# у линейной регрессии огромные коэффициенты и точка пересечения с осью\n",
    "\n",
    "lm = LinearRegression().fit(X, y)\n",
    "print(lm.intercept_)\n",
    "print(lm.coef_)\n",
    "\n",
    "y_pred = lm.predict(X)\n",
    "rss = sum((y_pred-y) ** 2)\n",
    "R2 = r2_score(y, y_pred)\n",
    "\n",
    "print(\"RSS:\", rss)\n",
    "print(\"R^2:\", R2)"
   ]
  },
  {
   "cell_type": "markdown",
   "metadata": {},
   "source": [
    "у линейной регрессии очень низкий R2"
   ]
  },
  {
   "cell_type": "code",
   "execution_count": 19,
   "metadata": {},
   "outputs": [
    {
     "name": "stdout",
     "output_type": "stream",
     "text": [
      "0.6774263500349096\n",
      "[ 1.12297034e-07 -5.08021282e-05 -1.12297031e-04 -5.08021226e-08\n",
      " -1.04906939e-05 -1.16633669e-02 -5.80649639e-03  6.81596887e-04\n",
      " -3.74448417e-04  5.21552516e-05  3.17042811e-02  1.55872193e-02\n",
      "  7.23737602e-02  7.97910573e-02  7.60442361e-02 -3.15175165e-02\n",
      "  6.87942469e-02  4.51464399e-02  3.37017425e-02 -6.70569468e-02\n",
      "  5.83509495e-02 -5.41900547e-02  3.34938462e-02 -4.28678065e-02\n",
      "  4.95045654e-02 -1.08171816e-01  1.13349608e-01  2.03097981e-02\n",
      " -3.27429823e-01 -2.75456704e-01 -1.72559632e-02  8.38828120e-02\n",
      "  1.21915237e-02 -2.73852946e-02  1.74880620e-02  3.36543191e-02\n",
      "  4.65540985e-03  6.47604471e-02  9.87083019e-02  1.45608168e-02\n",
      "  8.25063316e-02  2.84472606e-03 -1.25087768e-01  2.61584037e-02\n",
      " -2.31505462e-02 -3.99926643e-02  5.75253356e-02  1.82091764e-01\n",
      " -4.33379920e-02 -4.58410039e-02 -1.94189342e-02 -1.31019170e-01\n",
      "  1.42868721e-03 -2.53442346e-02  2.55621190e-02  2.19736319e-02\n",
      "  2.63929234e-02  1.18374234e-02  5.42907107e-03 -1.02934350e-02\n",
      "  1.31906061e-03  3.42847433e-02  2.59869751e-02  2.16045024e-02\n",
      "  2.29971002e-02  4.46879633e-03 -2.39062197e-04 -8.88952654e-03\n",
      " -5.00691250e-03 -1.32930970e-02 -4.71005734e-02 -9.31181925e-02\n",
      " -9.49374742e-03  9.49374742e-03 -5.30480325e-02  3.82136590e-02\n",
      "  1.56809685e-02 -3.98129660e-02  4.99528091e-02 -1.09864382e-02\n",
      " -3.41587236e-02 -3.70126377e-02  1.84468671e-03  3.98018373e-02\n",
      " -1.18322235e-02  2.94905799e-02  1.18664808e-02  5.50919575e-02\n",
      "  3.35449894e-02  2.63567504e-02 -5.30480325e-02 -6.19456647e-02\n",
      "  0.00000000e+00 -9.46754360e-03 -2.72142438e-02 -1.74408635e-03\n",
      "  3.60516481e-02 -7.60891158e-03  1.84182682e-02 -6.49607355e-03\n",
      " -8.16072457e-03 -2.37590258e-03 -3.41858492e-04 -3.62733720e-02\n",
      " -4.38114146e-02  3.60537255e-03  2.74203855e-03 -1.40307193e-02\n",
      " -1.68117816e-02  2.81098352e-02 -1.09786591e-02 -3.99249327e-02\n",
      "  3.55759629e-03 -4.20345472e-04  1.17363103e-02  1.57976963e-02\n",
      " -1.29628112e-02 -1.42939039e-02 -1.02485019e-02 -2.15353855e-02\n",
      "  3.07698120e-02 -6.60012116e-03  1.75645358e-02  1.04932474e-02\n",
      "  3.41384041e-02 -1.00580510e-02 -1.59853923e-02  1.22451875e-02\n",
      "  2.69412059e-02 -1.03249758e-02  6.45081339e-03  2.79135296e-03\n",
      " -8.29829589e-03 -4.11859071e-03 -2.16473828e-02 -1.61466399e-02\n",
      "  6.42219443e-03  1.36318829e-02  9.34808155e-03  5.84504424e-03\n",
      "  2.82394331e-02  2.92041228e-02 -1.19137764e-02 -8.58013187e-04\n",
      "  9.25332228e-03  1.08136555e-02 -2.46716893e-02  1.44420671e-02\n",
      "  1.79230537e-02  7.06340064e-03  9.06087430e-03 -2.01150360e-02\n",
      "  1.38771841e-02 -8.55728507e-03  5.71586746e-03  1.37419851e-02\n",
      " -1.40883502e-02  1.25489940e-02  1.23597283e-02 -1.31107741e-03\n",
      " -1.37729545e-03 -7.77828082e-03 -2.20195585e-02 -4.41678760e-03\n",
      "  1.42148420e-02 -1.52989540e-02  1.51676672e-02 -3.01673021e-03\n",
      " -2.44228908e-02 -1.00423822e-02  2.67676303e-03  2.27162834e-03\n",
      " -7.38791182e-05  5.47115835e-03  6.97217896e-03  5.50318575e-03\n",
      " -8.03393887e-03 -1.46072917e-02 -8.30840386e-03  1.88402537e-03\n",
      " -4.77739698e-03 -5.99812613e-03  3.43814586e-03  3.46340807e-03\n",
      " -2.20018790e-02  1.06209969e-02  2.61803151e-04  2.96748804e-02\n",
      " -2.15200963e-02 -8.57803649e-03  3.49348318e-03  7.69507025e-03\n",
      "  5.75960713e-03  1.62534584e-02  1.33767112e-03  1.21188456e-02\n",
      " -1.44748386e-02  1.04746372e-02  1.16422519e-02  4.84269144e-03]\n",
      "RSS: 5383.888962192178\n",
      "R^2: 0.15211192983991606\n"
     ]
    }
   ],
   "source": [
    "# у Ридж коэффициенты стали очень маленькими\n",
    "\n",
    "rg = Ridge(alpha=100).fit(X, y)\n",
    "print(rg.intercept_)\n",
    "print(rg.coef_)\n",
    "y_pred = rg.predict(X)\n",
    "rss = sum((y_pred-y) ** 2)\n",
    "R2 = r2_score(y, y_pred)\n",
    "\n",
    "print(\"RSS:\", rss)\n",
    "print(\"R^2:\", R2)"
   ]
  },
  {
   "cell_type": "markdown",
   "metadata": {},
   "source": [
    "у Ридж также все плохо как у линейной регрессии"
   ]
  },
  {
   "cell_type": "code",
   "execution_count": 20,
   "metadata": {},
   "outputs": [
    {
     "name": "stdout",
     "output_type": "stream",
     "text": [
      "0.501759804834995\n",
      "[ 0.00000000e+00 -0.00000000e+00 -7.01249537e-04 -0.00000000e+00\n",
      "  0.00000000e+00 -0.00000000e+00 -0.00000000e+00  0.00000000e+00\n",
      " -0.00000000e+00  2.61116399e-05  0.00000000e+00  0.00000000e+00\n",
      "  0.00000000e+00  0.00000000e+00  0.00000000e+00 -0.00000000e+00\n",
      "  0.00000000e+00  0.00000000e+00  0.00000000e+00  0.00000000e+00\n",
      "  0.00000000e+00  0.00000000e+00  0.00000000e+00 -0.00000000e+00\n",
      "  0.00000000e+00 -0.00000000e+00  0.00000000e+00  0.00000000e+00\n",
      " -0.00000000e+00 -0.00000000e+00  0.00000000e+00  0.00000000e+00\n",
      "  0.00000000e+00  0.00000000e+00  0.00000000e+00  0.00000000e+00\n",
      "  0.00000000e+00  0.00000000e+00  0.00000000e+00  0.00000000e+00\n",
      "  0.00000000e+00  0.00000000e+00 -0.00000000e+00  0.00000000e+00\n",
      "  0.00000000e+00  0.00000000e+00  0.00000000e+00  0.00000000e+00\n",
      "  0.00000000e+00 -0.00000000e+00  0.00000000e+00 -0.00000000e+00\n",
      " -0.00000000e+00 -0.00000000e+00  0.00000000e+00  0.00000000e+00\n",
      "  0.00000000e+00  0.00000000e+00 -0.00000000e+00 -0.00000000e+00\n",
      " -0.00000000e+00  0.00000000e+00  0.00000000e+00  0.00000000e+00\n",
      "  0.00000000e+00  0.00000000e+00  0.00000000e+00 -0.00000000e+00\n",
      "  0.00000000e+00 -0.00000000e+00 -0.00000000e+00 -0.00000000e+00\n",
      "  0.00000000e+00 -0.00000000e+00 -0.00000000e+00  0.00000000e+00\n",
      " -0.00000000e+00 -0.00000000e+00 -0.00000000e+00 -0.00000000e+00\n",
      " -0.00000000e+00 -0.00000000e+00 -0.00000000e+00 -0.00000000e+00\n",
      " -0.00000000e+00  0.00000000e+00 -0.00000000e+00 -0.00000000e+00\n",
      " -0.00000000e+00 -0.00000000e+00 -0.00000000e+00  0.00000000e+00\n",
      "  0.00000000e+00 -0.00000000e+00 -0.00000000e+00 -0.00000000e+00\n",
      "  0.00000000e+00 -0.00000000e+00 -0.00000000e+00 -0.00000000e+00\n",
      " -0.00000000e+00  0.00000000e+00 -0.00000000e+00 -0.00000000e+00\n",
      " -0.00000000e+00 -0.00000000e+00  0.00000000e+00 -0.00000000e+00\n",
      " -0.00000000e+00 -0.00000000e+00 -0.00000000e+00 -0.00000000e+00\n",
      " -0.00000000e+00 -0.00000000e+00 -0.00000000e+00  0.00000000e+00\n",
      " -0.00000000e+00 -0.00000000e+00 -0.00000000e+00 -0.00000000e+00\n",
      "  0.00000000e+00  0.00000000e+00  0.00000000e+00 -0.00000000e+00\n",
      "  0.00000000e+00  0.00000000e+00 -0.00000000e+00  0.00000000e+00\n",
      "  0.00000000e+00 -0.00000000e+00  0.00000000e+00  0.00000000e+00\n",
      " -0.00000000e+00 -0.00000000e+00 -0.00000000e+00 -0.00000000e+00\n",
      "  0.00000000e+00  0.00000000e+00  0.00000000e+00  0.00000000e+00\n",
      "  0.00000000e+00  0.00000000e+00 -0.00000000e+00  0.00000000e+00\n",
      "  0.00000000e+00 -0.00000000e+00 -0.00000000e+00  0.00000000e+00\n",
      "  0.00000000e+00  0.00000000e+00  0.00000000e+00 -0.00000000e+00\n",
      "  0.00000000e+00 -0.00000000e+00 -0.00000000e+00  0.00000000e+00\n",
      " -0.00000000e+00  0.00000000e+00  0.00000000e+00  0.00000000e+00\n",
      " -0.00000000e+00 -0.00000000e+00 -0.00000000e+00 -0.00000000e+00\n",
      "  0.00000000e+00 -0.00000000e+00  0.00000000e+00  0.00000000e+00\n",
      " -0.00000000e+00 -0.00000000e+00 -0.00000000e+00 -0.00000000e+00\n",
      " -0.00000000e+00  0.00000000e+00  0.00000000e+00 -0.00000000e+00\n",
      "  0.00000000e+00 -0.00000000e+00 -0.00000000e+00  0.00000000e+00\n",
      "  0.00000000e+00 -0.00000000e+00 -0.00000000e+00 -0.00000000e+00\n",
      " -0.00000000e+00  0.00000000e+00 -0.00000000e+00  0.00000000e+00\n",
      " -0.00000000e+00 -0.00000000e+00  0.00000000e+00  0.00000000e+00\n",
      "  0.00000000e+00  0.00000000e+00 -0.00000000e+00  0.00000000e+00\n",
      "  0.00000000e+00  0.00000000e+00  0.00000000e+00 -0.00000000e+00]\n",
      "RSS: 6212.015628784335\n",
      "R^2: 0.02169343010565472\n"
     ]
    }
   ],
   "source": [
    "# у Лассо все коэффициенты кроме одного занулились\n",
    "\n",
    "ls = Lasso().fit(X, y)\n",
    "print(ls.intercept_)\n",
    "print(ls.coef_)\n",
    "\n",
    "y_pred = ls.predict(X)\n",
    "rss = sum((y_pred-y) ** 2)\n",
    "R2 = r2_score(y, y_pred)\n",
    "\n",
    "print(\"RSS:\", rss)\n",
    "print(\"R^2:\", R2)"
   ]
  },
  {
   "cell_type": "markdown",
   "metadata": {},
   "source": [
    "что-то пошло не так 0_о"
   ]
  },
  {
   "cell_type": "code",
   "execution_count": 21,
   "metadata": {},
   "outputs": [
    {
     "data": {
      "text/plain": [
       "{'fit_time': array([0.27155304, 0.2085011 , 0.22765088]),\n",
       " 'score_time': array([0.01389003, 0.0127821 , 0.01279807]),\n",
       " 'test_score': array([0.64389228, 0.68948963, 0.55544786]),\n",
       " 'train_score': array([0.7088533 , 0.71071789, 0.7078291 ])}"
      ]
     },
     "execution_count": 21,
     "metadata": {},
     "output_type": "execute_result"
    }
   ],
   "source": [
    "X = df_train\n",
    "y = df_train_y\n",
    "clf = LinearRegression() # use any model\n",
    "\n",
    "scores = cross_validate(\n",
    "    clf, X, y, cv=3, scoring=('roc_auc'), return_train_score=True\n",
    ")\n",
    "\n",
    "scores\n",
    "\n",
    "# что выводится в test_score, если я оцениваю 3 раза train?"
   ]
  },
  {
   "cell_type": "code",
   "execution_count": 22,
   "metadata": {},
   "outputs": [
    {
     "data": {
      "text/plain": [
       "{'fit_time': array([0.12712717, 0.11140299, 0.10740709]),\n",
       " 'score_time': array([0.01370382, 0.01350117, 0.01901388]),\n",
       " 'test_score': array([0.69154038, 0.69067374, 0.68462083]),\n",
       " 'train_score': array([0.70877681, 0.71074168, 0.70785097])}"
      ]
     },
     "execution_count": 22,
     "metadata": {},
     "output_type": "execute_result"
    }
   ],
   "source": [
    "clf = Ridge() # use any model\n",
    "\n",
    "scores = cross_validate(\n",
    "    clf, X, y, cv=3, scoring=('roc_auc'), return_train_score=True\n",
    ")\n",
    "\n",
    "scores"
   ]
  },
  {
   "cell_type": "code",
   "execution_count": 23,
   "metadata": {},
   "outputs": [
    {
     "data": {
      "text/plain": [
       "{'fit_time': array([0.12930799, 0.10353494, 0.11164498]),\n",
       " 'score_time': array([0.01291275, 0.01300311, 0.01921225]),\n",
       " 'test_score': array([0.57739946, 0.58793646, 0.59595187]),\n",
       " 'train_score': array([0.59201769, 0.58631783, 0.58254658])}"
      ]
     },
     "execution_count": 23,
     "metadata": {},
     "output_type": "execute_result"
    }
   ],
   "source": [
    "clf = Lasso() # use any model\n",
    "\n",
    "scores = cross_validate(\n",
    "    clf, X, y, cv=3, scoring=('roc_auc'), return_train_score=True\n",
    ")\n",
    "\n",
    "scores"
   ]
  },
  {
   "cell_type": "markdown",
   "metadata": {},
   "source": [
    "### 4. Сравнить результаты на тестовом наборе данных - сделать train_test_split в самом начале, подготовить переменные, сравнить результаты работы классификаторов (те же 3), метрика ROC AUC"
   ]
  },
  {
   "cell_type": "code",
   "execution_count": 24,
   "metadata": {},
   "outputs": [],
   "source": [
    "X = df_train\n",
    "y = df_train_y\n",
    "x_train, x_test, y_train, y_test = train_test_split(X, y,stratify=y, test_size=0.3, random_state=42)"
   ]
  },
  {
   "cell_type": "code",
   "execution_count": 25,
   "metadata": {},
   "outputs": [
    {
     "name": "stdout",
     "output_type": "stream",
     "text": [
      "[0.69020422 0.69654694 0.69308506]\n",
      "[0.67239329 0.67658395 0.66195251]\n"
     ]
    }
   ],
   "source": [
    "clf = LinearRegression() # use any model\n",
    "\n",
    "scores_train = cross_validate(\n",
    "    clf, x_train, y_train, cv = 3, scoring=('roc_auc'), return_train_score=True\n",
    ")\n",
    "\n",
    "print(scores_train.get('test_score'))\n",
    "\n",
    "scores_test = cross_validate(\n",
    "    clf, x_test, y_test, cv = 3, scoring=('roc_auc'), return_train_score=True\n",
    ")\n",
    "\n",
    "print(scores_test.get('test_score'))"
   ]
  },
  {
   "cell_type": "code",
   "execution_count": 26,
   "metadata": {},
   "outputs": [
    {
     "name": "stdout",
     "output_type": "stream",
     "text": [
      "[0.69051135 0.69657054 0.69328425]\n",
      "[0.67406668 0.67773526 0.66254525]\n"
     ]
    }
   ],
   "source": [
    "clf = Ridge() # use any model\n",
    "\n",
    "scores_train = cross_validate(\n",
    "    clf, x_train, y_train, cv = 3, scoring=('roc_auc'), return_train_score=True\n",
    ")\n",
    "\n",
    "print(scores_train.get('test_score'))\n",
    "\n",
    "scores_test = cross_validate(\n",
    "    clf, x_test, y_test, cv = 3, scoring=('roc_auc'), return_train_score=True\n",
    ")\n",
    "\n",
    "print(scores_test.get('test_score'))"
   ]
  },
  {
   "cell_type": "code",
   "execution_count": 27,
   "metadata": {},
   "outputs": [
    {
     "name": "stdout",
     "output_type": "stream",
     "text": [
      "[0.57363851 0.59282844 0.59644698]\n",
      "[0.58128601 0.59348174 0.57812614]\n"
     ]
    }
   ],
   "source": [
    "clf = Lasso() # use any model\n",
    "\n",
    "scores_train = cross_validate(\n",
    "    clf, x_train, y_train, cv = 3, scoring=('roc_auc'), return_train_score=True\n",
    ")\n",
    "\n",
    "print(scores_train.get('test_score'))\n",
    "\n",
    "scores_test = cross_validate(\n",
    "    clf, x_test, y_test, cv = 3, scoring=('roc_auc'), return_train_score=True\n",
    ")\n",
    "\n",
    "print(scores_test.get('test_score'))"
   ]
  },
  {
   "cell_type": "markdown",
   "metadata": {},
   "source": [
    "Ридж оказался лучшим среди худших"
   ]
  }
 ],
 "metadata": {
  "kernelspec": {
   "display_name": "Python 3",
   "language": "python",
   "name": "python3"
  },
  "language_info": {
   "codemirror_mode": {
    "name": "ipython",
    "version": 3
   },
   "file_extension": ".py",
   "mimetype": "text/x-python",
   "name": "python",
   "nbconvert_exporter": "python",
   "pygments_lexer": "ipython3",
   "version": "3.6.5"
  }
 },
 "nbformat": 4,
 "nbformat_minor": 2
}
